{
 "nbformat": 4,
 "nbformat_minor": 0,
 "metadata": {
  "colab": {
   "name": "lab1.ipynb",
   "provenance": [],
   "collapsed_sections": [
    "MFKSC2UUA7Ne",
    "Mth2u7nzAiqw",
    "JrEY8hzdfmM2",
    "mrm41pzufmNy",
    "2kJObRBHfmOd",
    "ylh_09YIfmOg",
    "QeBH-jT4fmOy"
   ]
  },
  "kernelspec": {
   "display_name": "Python 3",
   "language": "python",
   "name": "python3"
  },
  "language_info": {
   "codemirror_mode": {
    "name": "ipython",
    "version": 3
   },
   "file_extension": ".py",
   "mimetype": "text/x-python",
   "name": "python",
   "nbconvert_exporter": "python",
   "pygments_lexer": "ipython3",
   "version": "3.7.4"
  }
 },
 "cells": [
  {
   "cell_type": "markdown",
   "metadata": {
    "id": "BsNwjQDRfmLY"
   },
   "source": [
    "# Задание 1"
   ]
  },
  {
   "cell_type": "markdown",
   "metadata": {
    "id": "wu6r1-s7fmLe"
   },
   "source": [
    "---"
   ]
  },
  {
   "cell_type": "markdown",
   "metadata": {
    "id": "zxRIdPO9gYyX"
   },
   "source": [
    "Напишите программу, которая будет решать систему линейных уравнений вида:\n",
    "\n",
    "\\begin{matrix} a_{11}x+a_{12}y=b_{1}&(1) \\\\ a_{21}x+a_{22}y=b_{2} &(2) \\end{matrix}\n",
    "​\t\n",
    "На вход программа должна принимать 2 строки.\n",
    "\n",
    "Каждая строка содержит 3 действительных числа через пробел: коэффициенты a и b.\n",
    "\n",
    "На выходе программа должна выдавать значения x и y в одну строку через пробел.\n",
    " \n",
    "\n",
    "Примечание 1. Для разделения строки на отдельные элементы используйте функцию split()\n",
    "\n",
    "Примечание 2. В качестве разделителя между целой и дробной частью используйте точку, например 0.2"
   ]
  },
  {
   "cell_type": "code",
   "metadata": {
    "id": "6sxlcLbVlrjl"
   },
   "source": [
    "def linan():\n",
    "    a11, a12, b1 = input('Enter 3 values separated by space').split()\n",
    "    a21, a22, b2 = input('Enter 3 values separated by space').split()\n",
    "\n",
    "    a11 = float(a11)\n",
    "    a12 = float(a12)\n",
    "    b1 = float(b1)\n",
    "    a21 = float(a21)\n",
    "    a22 = float(a22)\n",
    "    b2 = float(b2)\n",
    "\n",
    "    y = (b2 - (a21 * b1 / a11)) * a11 / (-a21 * a12 + a11 * a22)\n",
    "    x = (b1 - y * a12) / a11\n",
    "\n",
    "    return str(x) + ' ' + str(y)"
   ],
   "execution_count": 3,
   "outputs": []
  },
  {
   "cell_type": "markdown",
   "source": [
    "Решим систему:\n",
    "\\begin{matrix} 10x+25y=50&(1) \\\\ 5x-30y=12 &(2) \\end{matrix}"
   ],
   "metadata": {
    "collapsed": false,
    "pycharm": {
     "name": "#%% md\n"
    }
   }
  },
  {
   "cell_type": "code",
   "execution_count": 4,
   "outputs": [
    {
     "data": {
      "text/plain": "'4.235294117647059 0.3058823529411765'"
     },
     "execution_count": 4,
     "metadata": {},
     "output_type": "execute_result"
    }
   ],
   "source": [
    "linan()"
   ],
   "metadata": {
    "collapsed": false,
    "pycharm": {
     "name": "#%%\n"
    }
   }
  },
  {
   "cell_type": "markdown",
   "source": [
    "$x = 4.235294117647059; y = 0.3058823529411765$"
   ],
   "metadata": {
    "collapsed": false,
    "pycharm": {
     "name": "#%% md\n"
    }
   }
  },
  {
   "cell_type": "markdown",
   "metadata": {
    "id": "wLoVDMQnfmOv"
   },
   "source": [
    "# Задание 2"
   ]
  },
  {
   "cell_type": "markdown",
   "metadata": {
    "id": "6bmt_YF3fmOw"
   },
   "source": [
    "Напишите функцию `decorate_matrix`, которая получает на вход одно целое число больше единицы. Функция должна возвращать матрицу n на n, у которой на границах стоят единицы, а на всех остальных позициях(если остались позиции не на границах) стоят нули.\n",
    "\n",
    "Нужно сделать без использования  циклов.\n",
    "\n",
    "```\n",
    "# ожидаемый резальтат для аргумента 5\n",
    "array([[1., 1., 1., 1., 1.],\n",
    "[1., 0., 0., 0., 1.],\n",
    "[1., 0., 0., 0., 1.],\n",
    "[1., 0., 0., 0., 1.],\n",
    "[1., 1., 1., 1., 1.]])\n",
    "```\n",
    "\n"
   ]
  },
  {
   "cell_type": "code",
   "execution_count": 6,
   "outputs": [],
   "source": [
    "import numpy as np"
   ],
   "metadata": {
    "collapsed": false,
    "pycharm": {
     "name": "#%%\n"
    }
   }
  },
  {
   "cell_type": "code",
   "execution_count": 7,
   "outputs": [],
   "source": [
    "def decorate_matrix(n):\n",
    "    matrix = np.ones((n, n))\n",
    "    matrix[1:-1, 1:-1] = 0\n",
    "    return matrix"
   ],
   "metadata": {
    "collapsed": false,
    "pycharm": {
     "name": "#%%\n"
    }
   }
  },
  {
   "cell_type": "code",
   "execution_count": 8,
   "outputs": [
    {
     "data": {
      "text/plain": "array([[1., 1.],\n       [1., 1.]])"
     },
     "execution_count": 8,
     "metadata": {},
     "output_type": "execute_result"
    }
   ],
   "source": [
    "decorate_matrix(2)"
   ],
   "metadata": {
    "collapsed": false,
    "pycharm": {
     "name": "#%%\n"
    }
   }
  },
  {
   "cell_type": "code",
   "execution_count": 4,
   "outputs": [
    {
     "data": {
      "text/plain": "array([[1., 1., 1., 1., 1.],\n       [1., 0., 0., 0., 1.],\n       [1., 0., 0., 0., 1.],\n       [1., 0., 0., 0., 1.],\n       [1., 1., 1., 1., 1.]])"
     },
     "execution_count": 4,
     "metadata": {},
     "output_type": "execute_result"
    }
   ],
   "source": [
    "decorate_matrix(5)"
   ],
   "metadata": {
    "collapsed": false,
    "pycharm": {
     "name": "#%%\n"
    }
   }
  },
  {
   "cell_type": "code",
   "execution_count": 5,
   "outputs": [
    {
     "data": {
      "text/plain": "array([[1., 1., 1., 1., 1., 1., 1.],\n       [1., 0., 0., 0., 0., 0., 1.],\n       [1., 0., 0., 0., 0., 0., 1.],\n       [1., 0., 0., 0., 0., 0., 1.],\n       [1., 0., 0., 0., 0., 0., 1.],\n       [1., 0., 0., 0., 0., 0., 1.],\n       [1., 1., 1., 1., 1., 1., 1.]])"
     },
     "execution_count": 5,
     "metadata": {},
     "output_type": "execute_result"
    }
   ],
   "source": [
    "decorate_matrix(7)"
   ],
   "metadata": {
    "collapsed": false,
    "pycharm": {
     "name": "#%%\n"
    }
   }
  },
  {
   "cell_type": "markdown",
   "metadata": {
    "id": "75sxny1zSCbl"
   },
   "source": [
    "# Задание 3"
   ]
  },
  {
   "cell_type": "markdown",
   "metadata": {
    "id": "2Xq1tBBAS5UJ"
   },
   "source": [
    "1) реализуйте 2 функции:\n",
    "\n",
    "$f(x) = (x+a)^2 - b$ \n",
    "\n",
    "$g(x) = |f(x)|$\n",
    "\n",
    "2) Найдите аргументы, при которых достигается минимум функций $f(x)$ и $g(x)$\n",
    "\n",
    "Пример. \n",
    "Входные значение: $a=3$ и $b=4$\n",
    "\n",
    "Выходные значения:\n",
    "\n",
    "`-3.0 -1.0`"
   ]
  },
  {
   "cell_type": "code",
   "execution_count": 31,
   "outputs": [],
   "source": [
    "def f(x):\n",
    "    return ((x + 3)**2 - 4)"
   ],
   "metadata": {
    "collapsed": false,
    "pycharm": {
     "name": "#%%\n"
    }
   }
  },
  {
   "cell_type": "code",
   "execution_count": 32,
   "outputs": [],
   "source": [
    "def g(x):\n",
    "    return abs(f(x))"
   ],
   "metadata": {
    "collapsed": false,
    "pycharm": {
     "name": "#%%\n"
    }
   }
  },
  {
   "cell_type": "markdown",
   "source": [
    "$f(x) = (x + 3)^2 - 4$<br />\n",
    "$f(x) = x^2 + 6x + 5$<br />\n",
    "Нули функции: $x_{1} = -5, x_{2} = -1$"
   ],
   "metadata": {
    "collapsed": false,
    "pycharm": {
     "name": "#%% md\n"
    }
   }
  },
  {
   "cell_type": "markdown",
   "source": [
    "$f'(x) = 2x + 6$<br />\n",
    "Точка экстремума: $x = 3$, в ней же производная меняет знак с $-$ на $+$.<br />\n",
    "Точка $x = -3$ - точка, в которой $f(x)$ достигает своего минимума."
   ],
   "metadata": {
    "collapsed": false,
    "pycharm": {
     "name": "#%% md\n"
    }
   }
  },
  {
   "cell_type": "markdown",
   "source": [
    "Так как $x_{1} = -5$ и $x_{2} = -1$ - нули функции, то в них функция меняет свой знак.<br />\n",
    "Функция $g(x) = |f(x)|$ не имеет производных в точках $x_{1}$ и $x_{2}$, однако в них функция $g(x)$ и достигает минимума, то есть $g(x)$ обращается в ноль.<br />\n",
    "Это можно будет увидеть на графиках в следующем задании"
   ],
   "metadata": {
    "collapsed": false,
    "pycharm": {
     "name": "#%% md\n"
    }
   }
  },
  {
   "cell_type": "markdown",
   "metadata": {
    "id": "efml9GzISC9Q"
   },
   "source": [
    "# Задание 4"
   ]
  },
  {
   "cell_type": "markdown",
   "metadata": {
    "id": "SDZvKcsTVbAW"
   },
   "source": [
    "Постройте графики для функций из предыдущего задания и отметьте другим цветом на графиках точки найденных минимумов."
   ]
  },
  {
   "cell_type": "code",
   "execution_count": 33,
   "outputs": [],
   "source": [
    "import matplotlib.pyplot as plt"
   ],
   "metadata": {
    "collapsed": false,
    "pycharm": {
     "name": "#%%\n"
    }
   }
  },
  {
   "cell_type": "code",
   "execution_count": 64,
   "outputs": [],
   "source": [
    "x = np.linspace(-7.5, 2.5, 50)"
   ],
   "metadata": {
    "collapsed": false,
    "pycharm": {
     "name": "#%%\n"
    }
   }
  },
  {
   "cell_type": "code",
   "execution_count": 65,
   "outputs": [
    {
     "data": {
      "text/plain": "array([-7.5       , -7.29591837, -7.09183673, -6.8877551 , -6.68367347,\n       -6.47959184, -6.2755102 , -6.07142857, -5.86734694, -5.66326531,\n       -5.45918367, -5.25510204, -5.05102041, -4.84693878, -4.64285714,\n       -4.43877551, -4.23469388, -4.03061224, -3.82653061, -3.62244898,\n       -3.41836735, -3.21428571, -3.01020408, -2.80612245, -2.60204082,\n       -2.39795918, -2.19387755, -1.98979592, -1.78571429, -1.58163265,\n       -1.37755102, -1.17346939, -0.96938776, -0.76530612, -0.56122449,\n       -0.35714286, -0.15306122,  0.05102041,  0.25510204,  0.45918367,\n        0.66326531,  0.86734694,  1.07142857,  1.2755102 ,  1.47959184,\n        1.68367347,  1.8877551 ,  2.09183673,  2.29591837,  2.5       ])"
     },
     "execution_count": 65,
     "metadata": {},
     "output_type": "execute_result"
    }
   ],
   "source": [
    "x"
   ],
   "metadata": {
    "collapsed": false,
    "pycharm": {
     "name": "#%%\n"
    }
   }
  },
  {
   "cell_type": "code",
   "execution_count": 66,
   "outputs": [],
   "source": [
    "y = np.array([f(t) for t in x])"
   ],
   "metadata": {
    "collapsed": false,
    "pycharm": {
     "name": "#%%\n"
    }
   }
  },
  {
   "cell_type": "code",
   "execution_count": 67,
   "outputs": [
    {
     "data": {
      "text/plain": "array([16.25      , 14.45491462, 12.74312786, 11.11463973,  9.56945023,\n        8.10755935,  6.7289671 ,  5.43367347,  4.22167847,  3.09298209,\n        2.04758434,  1.08548521,  0.20668471, -0.58881716, -1.30102041,\n       -1.92992503, -2.47553103, -2.9378384 , -3.31684715, -3.61255727,\n       -3.82496876, -3.95408163, -3.99989588, -3.9624115 , -3.84162849,\n       -3.63754686, -3.3501666 , -2.97948771, -2.5255102 , -1.98823407,\n       -1.36765931, -0.66378592,  0.12338609,  0.99385673,  1.94762599,\n        2.98469388,  4.10506039,  5.30872553,  6.5956893 ,  7.96595169,\n        9.4195127 , 10.95637234, 12.57653061, 14.27998751, 16.06674302,\n       17.93679717, 19.89014994, 21.92680133, 24.04675135, 26.25      ])"
     },
     "execution_count": 67,
     "metadata": {},
     "output_type": "execute_result"
    }
   ],
   "source": [
    "y"
   ],
   "metadata": {
    "collapsed": false,
    "pycharm": {
     "name": "#%%\n"
    }
   }
  },
  {
   "cell_type": "code",
   "execution_count": 70,
   "outputs": [],
   "source": [
    "y_min = f(-3)"
   ],
   "metadata": {
    "collapsed": false,
    "pycharm": {
     "name": "#%%\n"
    }
   }
  },
  {
   "cell_type": "code",
   "execution_count": 79,
   "outputs": [
    {
     "data": {
      "text/plain": "<Figure size 432x288 with 1 Axes>",
      "image/png": "[encoded data removed]"
     },
     "metadata": {
      "needs_background": "light"
     },
     "output_type": "display_data"
    }
   ],
   "source": [
    "plt.scatter([-3], [y_min], c='r')\n",
    "plt.xlim([-6, 2])\n",
    "plt.plot(x, y);"
   ],
   "metadata": {
    "collapsed": false,
    "pycharm": {
     "name": "#%%\n"
    }
   }
  },
  {
   "cell_type": "code",
   "execution_count": 72,
   "outputs": [],
   "source": [
    "z = np.array([g(t) for t in x])"
   ],
   "metadata": {
    "collapsed": false,
    "pycharm": {
     "name": "#%%\n"
    }
   }
  },
  {
   "cell_type": "code",
   "execution_count": 73,
   "outputs": [],
   "source": [
    "z_min = g(-1)"
   ],
   "metadata": {
    "collapsed": false,
    "pycharm": {
     "name": "#%%\n"
    }
   }
  },
  {
   "cell_type": "code",
   "execution_count": 99,
   "outputs": [
    {
     "data": {
      "text/plain": "<Figure size 432x288 with 1 Axes>",
      "image/png": "[encoded data removed]"
     },
     "metadata": {
      "needs_background": "light"
     },
     "output_type": "display_data"
    }
   ],
   "source": [
    "fig, ax = plt.subplots()\n",
    "plt.scatter([-1, -5], [z_min, z_min], c='k')\n",
    "plt.xlim([-7, 2])\n",
    "plt.plot(x, z)\n",
    "\n",
    "ax.axhline(0, color='gray', linestyle='--', linewidth=0.5)\n",
    "ax.axvline(-5, color='gray', linestyle='--', linewidth=0.25)\n",
    "ax.axvline(-1, color='gray', linestyle='--', linewidth=0.25)\n",
    "\n",
    "plt.show()"
   ],
   "metadata": {
    "collapsed": false,
    "pycharm": {
     "name": "#%%\n"
    }
   }
  },
  {
   "cell_type": "markdown",
   "metadata": {
    "id": "mrby3EfiSDKJ"
   },
   "source": [
    "# Задание 5"
   ]
  },
  {
   "cell_type": "markdown",
   "metadata": {
    "id": "J6AZ8785VkQd"
   },
   "source": [
    "1000 человек бросают монетку. Каждый бросил 10 раз подряд.\n",
    "\n",
    " 1. Какова вероятность того, что хотя бы у одного человека монетка выпала 10 раз подряд той же самой стороной (орлом или решкой)? \n",
    " 2. Какова вероятность того, что хотя бы у одного человека монетка выпала 8 раз подряд той же самой стороной (орлом или решкой)? \n",
    " 3. Какова вероятность того, что ровно у троих человек из 1000 монетка выпала 10 раз подряд той же самой стороной (орлом или решкой)?"
   ]
  },
  {
   "cell_type": "markdown",
   "source": [
    "### 1000 человек бросают монетку. Каждый бросил 10 раз подряд. Какова вероятность того, что хотя бы у одного человека монетка выпала 10 раз подряд той же самой стороной (орлом или решкой)?\n",
    "\n",
    "Вероятность выпадения 10 орлов или 10 решек у одного человека = 2*(1/2)^10, то есть 1/512.<br />\n",
    "Значит, вероятность того, что человеку не выпадут 10 одинаковых сторон = 511/512.<br />\n",
    "$A$ - хотя бы у одного выпала 10 раз одна сторона, $\\bar{A}$ - ни у кого не выпало 10 раз одно и то же, то есть у тысячи человек не выпала одна сторона 10 раз.<br />\n",
    "Тогда у нас $P(\\bar{A})$ = (511/512)^1000. $P(A) = 1 - P(\\bar{A})$\n"
   ],
   "metadata": {
    "collapsed": false,
    "pycharm": {
     "name": "#%% md\n"
    }
   }
  },
  {
   "cell_type": "code",
   "execution_count": 105,
   "outputs": [
    {
     "data": {
      "text/plain": "0.858440454732242"
     },
     "execution_count": 105,
     "metadata": {},
     "output_type": "execute_result"
    }
   ],
   "source": [
    "# Ответ\n",
    "1 - (511/512)**1000\n"
   ],
   "metadata": {
    "collapsed": false,
    "pycharm": {
     "name": "#%%\n"
    }
   }
  },
  {
   "cell_type": "markdown",
   "source": [
    "### 1000 человек бросают монетку. Каждый бросил 10 раз подряд. Какова вероятность того, что хотя бы у одного человека монетка выпала 8 раз подряд той же самой стороной (орлом или решкой)?\n",
    "\n",
    "У человека 2^10 (1024) различных варианта, как выпадет его монета 10 раз\n",
    "Из них только возможны только 10 случаев, когда одна сторона выпадет 8 раз подряд:\n",
    "1. 8 орлов, решка, решка\n",
    "2. 8 орлов, решка, орел\n",
    "3. решка, 8 орлов, решка\n",
    "4. решка, решка, 8 орлов\n",
    "5. орел, решка, 8 орлов\n",
    "6. 8 решек, орел, орел\n",
    "7. 8 решек, орел, решка\n",
    "8. орел, 8 решек, орел\n",
    "9. орел, орел, 8 решек\n",
    "10. решка, орел, 8 решек\n",
    "\n",
    "Тогда вероятность, что человеку НЕ ВЫПАДЕТ 8 раз подряд одна сторона равна 1014/1024.<br />\n",
    "Вероятность того, что никому не выпадет 8 раз подряд одна сторона = (1014/1024)^1000."
   ],
   "metadata": {
    "collapsed": false,
    "pycharm": {
     "name": "#%% md\n"
    }
   }
  },
  {
   "cell_type": "code",
   "execution_count": 145,
   "outputs": [
    {
     "data": {
      "text/plain": "0.9999452986105908"
     },
     "execution_count": 145,
     "metadata": {},
     "output_type": "execute_result"
    }
   ],
   "source": [
    "# Ответ\n",
    "1 - (1014/1024)**1000"
   ],
   "metadata": {
    "collapsed": false,
    "pycharm": {
     "name": "#%%\n"
    }
   }
  },
  {
   "cell_type": "markdown",
   "source": [
    "### 1000 человек бросают монетку. Каждый бросил 10 раз подряд. Какова вероятность того, что ровно у троих человек из 1000 монетка выпала 10 раз подряд той же самой стороной (орлом или решкой)?\n",
    "\n",
    "Вероятность того, что человеку выпадет одна сторона 10 раз подряд 1/512. Противоположная вероятность - 511/512.<br />\n",
    "Посчитаем тогда по формуле Бернулли:\n",
    "$P_n (k) = C^k_n*p^k*q^n/q^k$<br />\n",
    "Где $n = 1000, k = 3, p = 1/512, q = 511/512$"
   ],
   "metadata": {
    "collapsed": false,
    "pycharm": {
     "name": "#%% md\n"
    }
   }
  },
  {
   "cell_type": "code",
   "execution_count": 146,
   "outputs": [
    {
     "data": {
      "text/plain": "0.1762873858121736"
     },
     "execution_count": 146,
     "metadata": {},
     "output_type": "execute_result"
    }
   ],
   "source": [
    "# Ответ\n",
    "166167000*((1/512)**3)*((511/512)**997)"
   ],
   "metadata": {
    "collapsed": false,
    "pycharm": {
     "name": "#%%\n"
    }
   }
  },
  {
   "cell_type": "code",
   "execution_count": null,
   "outputs": [],
   "source": [],
   "metadata": {
    "collapsed": false,
    "pycharm": {
     "name": "#%%\n"
    }
   }
  }
 ]
}