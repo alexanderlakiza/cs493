{
 "cells": [
  {
   "cell_type": "markdown",
   "metadata": {
    "id": "-7WO78Auf0qu"
   },
   "source": [
    "Это вторая часть задания.\n",
    "\n",
    "Первая часть задания (задания 3.1-3.4) находится в [ноутбуке про линейную регрессию](https://colab.research.google.com/drive/1eX21oBHRAzNr3PimxhMJENF3yeBC2DBe?usp=sharing)."
   ]
  },
  {
   "cell_type": "markdown",
   "metadata": {
    "id": "LYKqDli0Lqas"
   },
   "source": [
    "# Предсказание цен на недвижимость\n",
    "\n",
    "Компании по продаже недвижимости оценивают её стоимость, используя методы машинного обучения. \n",
    "Задача оценки цены на недвижимость также может быть нужна для выявления наиболее выгодных предложений, или, например, для выявления аномально низких цен на объект недвижимости."
   ]
  },
  {
   "cell_type": "markdown",
   "metadata": {
    "id": "FB3xfscxLqat"
   },
   "source": [
    "**Постановка задачи анализа данных** \n",
    "\n",
    "Целью данной задачи является прогнозирование стоимости домов в округе Кинг (штат Вашингтон, США) с помощью построения регрессионных моделей и их анализа. Набор данных состоит из цен на дома в округе Кинг, проданных в период с мая 2014 года по май 2015 года. Данные опубликованы в открытом доступе на платформе Kaggle. "
   ]
  },
  {
   "cell_type": "markdown",
   "metadata": {
    "id": "rvJWkambLqau"
   },
   "source": [
    "Данные с сайта renthub.com по стоимости квартир для аренды:"
   ]
  },
  {
   "cell_type": "markdown",
   "metadata": {
    "id": "_vD1NqACLqav"
   },
   "source": [
    "<a href=\"https://drive.google.com/uc?id=1Dr-p-o5yMi3uIS2kPcUUwT5bH0cCt1Be\n",
    "\" target=\"_blank\"><img src=\"https://drive.google.com/uc?id=1Dr-p-o5yMi3uIS2kPcUUwT5bH0cCt1Be\" \n",
    "alt=\"IMAGE ALT TEXT HERE\" width=\"360\" border=\"0\" /></a>\n"
   ]
  },
  {
   "cell_type": "markdown",
   "metadata": {
    "id": "S15gn1XfLqaw"
   },
   "source": [
    "**Обзор доступных данных**\n",
    "\n",
    "В наборе данных 21613 наблюдений и 16 признаков. \n",
    "Таким образом, про каждый из 21613 объектов недвижимости мы знаем значения 16 характеристик (число спален, оценка состояния риелтором, наличие вида на воду и т.п.)\n",
    "\n",
    "Выборка была разбита на две части для обучения и для тестирования модели. Данные на обучение и тест обычно делят случайно и равномерно: нужно чтобы и обучающая, и тестовая выборка были похожие на те данные, на которых модель будет использоваться в боевых условиях. \n",
    "\n",
    "Более сложные разбиения могут использоваться если в данных есть временная компонента - например, мы строим скоринговую модель и для теста откладываем данные за последние несколько месяцев, а всю остальную выборку используем для обучения. Такое разбиение имитирует реальную работу модели: мы можем обучаться только на данных прошлых кредитов, а работать модель уже будет на данных из будущего. \n",
    "\n",
    "Доли общей выборки для обучения и тестирования обычно 70% и 30% соотвественно. Любые разумные числа подходят, если для обучения используется достаточно много данных (обычно больше 50%), но и для тестирования что-то остается (10% и больше).\n"
   ]
  },
  {
   "cell_type": "markdown",
   "metadata": {
    "id": "iOeVms4dLqax"
   },
   "source": [
    "Данные содержат два типа переменных:\n",
    "\n",
    "* Целевая: **Целевая. Цена**\n",
    "* Остальные переменные **могут использоваться для прогноза целевой переменной.**"
   ]
  },
  {
   "cell_type": "markdown",
   "metadata": {
    "id": "OFP_i1F1Lqay"
   },
   "source": [
    "## План анализа данных (data mining):\n",
    "\n",
    "  1. Загрузить данные для обучения\n",
    "  2. Обработать данные перед обучением модели\n",
    "  3. Обучить модель на обучающей выборке\n",
    "  4. Загрузить и предобработать данные для тестирования\n",
    "  5. Провалидировать модель на тестовой выборке\n",
    "  6. Проанализировать важность признаков и не забыть про постановку задачи"
   ]
  },
  {
   "cell_type": "markdown",
   "metadata": {
    "id": "mKUYn0nHLqaz"
   },
   "source": [
    "## 1. Загрузить данные для обучения"
   ]
  },
  {
   "cell_type": "markdown",
   "metadata": {
    "id": "Bqqurd70Lqaz"
   },
   "source": [
    "**Шаг 1.1. Загружаем библиотеки** "
   ]
  },
  {
   "cell_type": "markdown",
   "metadata": {
    "id": "rY5oSQ0-Lqa0"
   },
   "source": [
    "Библиотека **warnings** отвечает за то, какие предупреждения (warnings) о работе будут выводиться пользователю. \n",
    "FutureWarning - предупреждения о том, как изменится работа библиотек в будущих версиях.\n",
    "Поэтому такие предупреждения мы будем игнорировать.\n",
    "Чтобы включить режим игнорирования мы отбираем все предупреждения из категории FutureWarning и выбираем для них действия 'ignore'.\n",
    "Это делается вызовом функции simplefilter c задание двух атрибутов: действия action и категории предупреждений category."
   ]
  },
  {
   "cell_type": "code",
   "execution_count": 2,
   "metadata": {
    "id": "SVfM6HC8Lqa1"
   },
   "outputs": [],
   "source": [
    "import warnings\n",
    "warnings.simplefilter(action='ignore', category=FutureWarning)"
   ]
  },
  {
   "cell_type": "markdown",
   "metadata": {
    "id": "28Bf-HdaLqa4"
   },
   "source": [
    "Для корректной работы с данными в python требуется загрузить специальную библиотеку\n",
    "**pandas**, программную библиотеку на языке python для обработки и анализа данных. "
   ]
  },
  {
   "cell_type": "code",
   "execution_count": 3,
   "metadata": {
    "id": "DuCW163qLqa4"
   },
   "outputs": [],
   "source": [
    "import pandas as pd # загружаем библиотеку и для простоты обращения в коде называем её сокращенно pd"
   ]
  },
  {
   "cell_type": "markdown",
   "metadata": {
    "id": "NT0TLhqxLqa7"
   },
   "source": [
    "Для корректной работы с графиками в python требуется загрузить специальную библиотеку\n",
    "**matplotlib**, программную библиотеку на языке python для визуализации данных двумерной и трехмерной графикой.\n",
    "\n",
    "Графики используются для облегчения интерпретации полученных результатов, а также в качестве иллюстраций в презентациях и отчетах. \n",
    "\n",
    "Оснвные методы для построения:\n",
    "* plot() - графики\n",
    "* semilogy() - график логарифмический\n",
    "* hist() - гистограммы"
   ]
  },
  {
   "cell_type": "code",
   "execution_count": 4,
   "metadata": {
    "id": "gHGUZu8rLqa8"
   },
   "outputs": [],
   "source": [
    "import matplotlib.pyplot as plt # загружаем библиотеку и для простоты обращения в коде называем её сокращенно plt\n",
    "# указываем, чтобы картинки отображались прямо в ноутбуке \n",
    "%matplotlib inline "
   ]
  },
  {
   "cell_type": "markdown",
   "metadata": {
    "id": "JVr8btg7Qk3x"
   },
   "source": [
    "**Шаг 1.2. Загрузим данные**"
   ]
  },
  {
   "cell_type": "markdown",
   "metadata": {
    "id": "5pzU4iRyQN9H"
   },
   "source": [
    "Для решения задачи мы будем использовать данные. Они состоят из двух частей: часть для обучения и часть для тестирования модели. Загружаем данные с помощие команды !wget. Для того, чтобы игнорировать сообщения в процессе загрузки используем магическую команду %%capture в первой строке."
   ]
  },
  {
   "cell_type": "code",
   "execution_count": 4,
   "metadata": {
    "id": "g6rmRg3BOTxG"
   },
   "outputs": [],
   "source": [
    "%%capture\n",
    "!wget https://www.dropbox.com/s/afwb0tnqm9izxha/predict_house_price_training_data.xlsx\n",
    "!wget https://www.dropbox.com/s/sur2avqf4n5f4az/predict_house_price_test_data.xlsx"
   ]
  },
  {
   "cell_type": "markdown",
   "metadata": {
    "id": "yJpKlVRBLqa-"
   },
   "source": [
    "Так как данные в формате xlsx (Excel), мы будем использовать специальную функцию\n",
    "из библиотеки pandas для загрузки таких данных **read_excel**.\n",
    "\n",
    "В функции передаем один атрибут: название таблицы с данными."
   ]
  },
  {
   "cell_type": "code",
   "execution_count": 7,
   "metadata": {
    "id": "jaBeMSeuLqa_"
   },
   "outputs": [],
   "source": [
    "training_data = pd.read_excel('predict_house_price_training_data.xlsx') # загружаем таблицу в переменную training_data"
   ]
  },
  {
   "cell_type": "markdown",
   "metadata": {
    "id": "jK9Xd2a5LqbB"
   },
   "source": [
    "*Что важно посмотреть после того, как мы загрузили данные?*\n",
    "- проверить, что данные действительно загрузились\n",
    "- посмотреть на данные, чтобы удостовериться, что они правильные: колонки имеют те же названия, что и в таблице и т.д.\n",
    "\n",
    "Для того чтобы это сделать, нужно вызвать от переменной *training_data* метод **head()**, который выводит первые 5 строк таблицы. \n",
    "\n",
    "Для вызова метода объекта необходимо сначала написать *имя объекта*, затем поставить *точку*, затем уже написать *название метода*. Обратите внимание, что в конце обязательно ставить скобочки, потому что метод - это функция и в ней есть аргументы, просто в данном случае мы их не передаем, поэтому оставляем поле пустым"
   ]
  },
  {
   "cell_type": "code",
   "execution_count": 8,
   "metadata": {
    "colab": {
     "base_uri": "https://localhost:8080/",
     "height": 238
    },
    "id": "q3Me_dg-LqbC",
    "outputId": "f288440b-7403-4bf4-fdcf-26e0aa953981"
   },
   "outputs": [
    {
     "data": {
      "text/html": [
       "<div>\n",
       "<style scoped>\n",
       "    .dataframe tbody tr th:only-of-type {\n",
       "        vertical-align: middle;\n",
       "    }\n",
       "\n",
       "    .dataframe tbody tr th {\n",
       "        vertical-align: top;\n",
       "    }\n",
       "\n",
       "    .dataframe thead th {\n",
       "        text-align: right;\n",
       "    }\n",
       "</style>\n",
       "<table border=\"1\" class=\"dataframe\">\n",
       "  <thead>\n",
       "    <tr style=\"text-align: right;\">\n",
       "      <th></th>\n",
       "      <th>Целевая.Цена</th>\n",
       "      <th>Спальни</th>\n",
       "      <th>Ванные</th>\n",
       "      <th>Жилая площадь</th>\n",
       "      <th>Общая площадь</th>\n",
       "      <th>Количество этажей</th>\n",
       "      <th>Вид на воду</th>\n",
       "      <th>Просмотрены ранее</th>\n",
       "      <th>Состояние</th>\n",
       "      <th>Оценка риелтора</th>\n",
       "      <th>Площадь без подвала</th>\n",
       "      <th>Площадь подвала</th>\n",
       "      <th>Год постройки</th>\n",
       "      <th>Год реновации</th>\n",
       "      <th>Широта</th>\n",
       "      <th>Долгота</th>\n",
       "    </tr>\n",
       "  </thead>\n",
       "  <tbody>\n",
       "    <tr>\n",
       "      <th>0</th>\n",
       "      <td>830000</td>\n",
       "      <td>5</td>\n",
       "      <td>3.50</td>\n",
       "      <td>3490</td>\n",
       "      <td>21780</td>\n",
       "      <td>2.0</td>\n",
       "      <td>0</td>\n",
       "      <td>0</td>\n",
       "      <td>3</td>\n",
       "      <td>8</td>\n",
       "      <td>3490</td>\n",
       "      <td>0</td>\n",
       "      <td>1996</td>\n",
       "      <td>0</td>\n",
       "      <td>47.6707</td>\n",
       "      <td>-122.144</td>\n",
       "    </tr>\n",
       "    <tr>\n",
       "      <th>1</th>\n",
       "      <td>385000</td>\n",
       "      <td>4</td>\n",
       "      <td>1.75</td>\n",
       "      <td>2360</td>\n",
       "      <td>7620</td>\n",
       "      <td>1.0</td>\n",
       "      <td>0</td>\n",
       "      <td>0</td>\n",
       "      <td>4</td>\n",
       "      <td>7</td>\n",
       "      <td>1180</td>\n",
       "      <td>1180</td>\n",
       "      <td>1955</td>\n",
       "      <td>0</td>\n",
       "      <td>47.5278</td>\n",
       "      <td>-122.345</td>\n",
       "    </tr>\n",
       "    <tr>\n",
       "      <th>2</th>\n",
       "      <td>610000</td>\n",
       "      <td>6</td>\n",
       "      <td>2.75</td>\n",
       "      <td>2040</td>\n",
       "      <td>8560</td>\n",
       "      <td>1.0</td>\n",
       "      <td>0</td>\n",
       "      <td>2</td>\n",
       "      <td>4</td>\n",
       "      <td>7</td>\n",
       "      <td>1100</td>\n",
       "      <td>940</td>\n",
       "      <td>1961</td>\n",
       "      <td>0</td>\n",
       "      <td>47.6160</td>\n",
       "      <td>-122.115</td>\n",
       "    </tr>\n",
       "    <tr>\n",
       "      <th>3</th>\n",
       "      <td>550000</td>\n",
       "      <td>3</td>\n",
       "      <td>1.75</td>\n",
       "      <td>1940</td>\n",
       "      <td>8376</td>\n",
       "      <td>1.0</td>\n",
       "      <td>0</td>\n",
       "      <td>0</td>\n",
       "      <td>4</td>\n",
       "      <td>8</td>\n",
       "      <td>1290</td>\n",
       "      <td>650</td>\n",
       "      <td>1963</td>\n",
       "      <td>0</td>\n",
       "      <td>47.5586</td>\n",
       "      <td>-122.173</td>\n",
       "    </tr>\n",
       "    <tr>\n",
       "      <th>4</th>\n",
       "      <td>1300000</td>\n",
       "      <td>3</td>\n",
       "      <td>2.75</td>\n",
       "      <td>3450</td>\n",
       "      <td>5350</td>\n",
       "      <td>1.5</td>\n",
       "      <td>0</td>\n",
       "      <td>3</td>\n",
       "      <td>4</td>\n",
       "      <td>9</td>\n",
       "      <td>2590</td>\n",
       "      <td>860</td>\n",
       "      <td>1925</td>\n",
       "      <td>0</td>\n",
       "      <td>47.6389</td>\n",
       "      <td>-122.407</td>\n",
       "    </tr>\n",
       "  </tbody>\n",
       "</table>\n",
       "</div>"
      ],
      "text/plain": [
       "   Целевая.Цена  Спальни  Ванные  Жилая площадь  Общая площадь  \\\n",
       "0        830000        5    3.50           3490          21780   \n",
       "1        385000        4    1.75           2360           7620   \n",
       "2        610000        6    2.75           2040           8560   \n",
       "3        550000        3    1.75           1940           8376   \n",
       "4       1300000        3    2.75           3450           5350   \n",
       "\n",
       "   Количество этажей  Вид на воду  Просмотрены ранее  Состояние  \\\n",
       "0                2.0            0                  0          3   \n",
       "1                1.0            0                  0          4   \n",
       "2                1.0            0                  2          4   \n",
       "3                1.0            0                  0          4   \n",
       "4                1.5            0                  3          4   \n",
       "\n",
       "   Оценка риелтора  Площадь без подвала  Площадь подвала  Год постройки  \\\n",
       "0                8                 3490                0           1996   \n",
       "1                7                 1180             1180           1955   \n",
       "2                7                 1100              940           1961   \n",
       "3                8                 1290              650           1963   \n",
       "4                9                 2590              860           1925   \n",
       "\n",
       "   Год реновации   Широта  Долгота  \n",
       "0              0  47.6707 -122.144  \n",
       "1              0  47.5278 -122.345  \n",
       "2              0  47.6160 -122.115  \n",
       "3              0  47.5586 -122.173  \n",
       "4              0  47.6389 -122.407  "
      ]
     },
     "execution_count": 8,
     "metadata": {},
     "output_type": "execute_result"
    }
   ],
   "source": [
    "training_data.head()"
   ]
  },
  {
   "cell_type": "markdown",
   "metadata": {
    "id": "wkuIAKG4LqbF"
   },
   "source": [
    "**Шаг 1.3. Посмотрим на размеры загруженной таблицы**, у которой мы видели только первые 5 строк.\n",
    "\n",
    "Для этого вызываем поле **shape** у нашей переменной *training_data*. Поле вызывается также как метод, но в конце скобки не ставятся, так как для поля не предусмотрена передача аргументов.  "
   ]
  },
  {
   "cell_type": "code",
   "execution_count": 9,
   "metadata": {
    "colab": {
     "base_uri": "https://localhost:8080/",
     "height": 34
    },
    "id": "8uNkaQKWLqbG",
    "outputId": "0b8dc5ca-78cb-4158-9a47-1b7701fcaa84"
   },
   "outputs": [
    {
     "data": {
      "text/plain": [
       "(15129, 16)"
      ]
     },
     "execution_count": 9,
     "metadata": {},
     "output_type": "execute_result"
    }
   ],
   "source": [
    "training_data.shape"
   ]
  },
  {
   "cell_type": "markdown",
   "metadata": {
    "id": "8oiD7YJjLqbI"
   },
   "source": [
    "*Что означает первое и второе число?*\n",
    "\n",
    "Итак, таблица содержит 15129 строк (объектов) и 16 столбцов (признаков), включая выходной (целевой) признак.\n",
    "15129 меньше 21613, так как мы пока загрузили только часть данных, которую будем использовать для обучения модели.\n",
    "\n",
    "Таблицу проверили, теперь можно приступать к обработке данных."
   ]
  },
  {
   "cell_type": "markdown",
   "metadata": {
    "id": "Mz4rsFhALqbJ"
   },
   "source": [
    "# 2. Обработать данные перед обучением модели"
   ]
  },
  {
   "cell_type": "markdown",
   "metadata": {
    "id": "0Z2QQXxSLqbK"
   },
   "source": [
    "**Шаг 2.1. Проверяем данные на наличие пропусков и типов переменных**\n",
    "\n",
    "Начнем с проверки общей информации о данных.\n",
    "Для того чтобы это сделать, нужно обратиться вызвать у переменной *training_data* метод **info()**.\n",
    "\n",
    "Напомним, что в конце необходимо поставить скобочки."
   ]
  },
  {
   "cell_type": "code",
   "execution_count": 10,
   "metadata": {
    "colab": {
     "base_uri": "https://localhost:8080/",
     "height": 408
    },
    "id": "yBfVVIN7LqbL",
    "outputId": "fb581aa0-2cd6-44ea-fe37-c2a9a7d4d239"
   },
   "outputs": [
    {
     "name": "stdout",
     "output_type": "stream",
     "text": [
      "<class 'pandas.core.frame.DataFrame'>\n",
      "RangeIndex: 15129 entries, 0 to 15128\n",
      "Data columns (total 16 columns):\n",
      " #   Column               Non-Null Count  Dtype  \n",
      "---  ------               --------------  -----  \n",
      " 0   Целевая.Цена         15129 non-null  int64  \n",
      " 1   Спальни              15129 non-null  int64  \n",
      " 2   Ванные               15129 non-null  float64\n",
      " 3   Жилая площадь        15129 non-null  int64  \n",
      " 4   Общая площадь        15129 non-null  int64  \n",
      " 5   Количество этажей    15129 non-null  float64\n",
      " 6   Вид на воду          15129 non-null  int64  \n",
      " 7   Просмотрены ранее    15129 non-null  int64  \n",
      " 8   Состояние            15129 non-null  int64  \n",
      " 9   Оценка риелтора      15129 non-null  int64  \n",
      " 10  Площадь без подвала  15129 non-null  int64  \n",
      " 11  Площадь подвала      15129 non-null  int64  \n",
      " 12  Год постройки        15129 non-null  int64  \n",
      " 13  Год реновации        15129 non-null  int64  \n",
      " 14  Широта               15129 non-null  float64\n",
      " 15  Долгота              15129 non-null  float64\n",
      "dtypes: float64(4), int64(12)\n",
      "memory usage: 1.8 MB\n"
     ]
    }
   ],
   "source": [
    "training_data.info()"
   ]
  },
  {
   "cell_type": "markdown",
   "metadata": {
    "id": "va78W9uuLqbN"
   },
   "source": [
    "Анализируем результата выполнения команды:\n",
    "\n",
    "* 15129 строк (entries)\n",
    "* 16 столбцов (Data columns)\n",
    "\n",
    "В данных присутствует всего два типа dtypes:\n",
    "* int64 - целое число  (12 столбцов)\n",
    "* float64 - дробное число (4 столбца)\n",
    "\n",
    "Цифры в каждой строчке обозначают количество заполненных (*non-null*) значений. Так как эти цифры в каждой строчке совпадают с числом строк (15129), то в данных нет пропусков и можно двигаться дальше. "
   ]
  },
  {
   "cell_type": "markdown",
   "metadata": {
    "id": "oPiLacxmLqbO"
   },
   "source": [
    "**Шаг 2.2. Работаем с целевой переменной**\n",
    "\n",
    "*Какая переменная целевая?*\n",
    "\n",
    "В данном случае по условию задачи мы должны прогнозировать стоимость, поэтому целевая переменная - это цена. "
   ]
  },
  {
   "cell_type": "code",
   "execution_count": 11,
   "metadata": {
    "id": "EsyYEJd0LqbP"
   },
   "outputs": [],
   "source": [
    "target_variable_name = 'Целевая.Цена'"
   ]
  },
  {
   "cell_type": "markdown",
   "metadata": {
    "id": "gOM9Kj8pLqbS"
   },
   "source": [
    "Нам нужно выделить в отдельную переменную *training_values* столбец из нашей таблицы, который соответствует определенной выше целевой переменной. Для этого мы у таблицы *training_data* в квадратных скобках указываем имя нужного столбца. В нашем случае это имя записано в переменной *target_variable_name*. "
   ]
  },
  {
   "cell_type": "code",
   "execution_count": 12,
   "metadata": {
    "id": "BbEcpf4mLqbT"
   },
   "outputs": [],
   "source": [
    "training_values = training_data[target_variable_name]"
   ]
  },
  {
   "cell_type": "markdown",
   "metadata": {
    "id": "INrEpAUkLqbV"
   },
   "source": [
    "Отделим входные переменные от выходной (целевой), чтобы можно было построить модель предсказания целевой переменной по входным. \n",
    "Для это нужно у переменной *training_data* вызвать метод **drop()**. Результат мы записываем в новую переменную *training_points*. После выполнения запроса *training_points* будет содержать исходную таблицу без целевого столбца. \n",
    "\n",
    "Обратите внимание, что в данном случае мы передаем два аргумента:\n",
    "    1. target_variable_name - название столбца цены, который мы ранее записали в эту переменную и теперь хотим удалить из training_data\n",
    "    2. axis=1 - означает, что мы удаляем столбец, а в случае axis=0 - означает, что мы удаляем строку"
   ]
  },
  {
   "cell_type": "code",
   "execution_count": 13,
   "metadata": {
    "id": "DDXkAIHBLqbW"
   },
   "outputs": [],
   "source": [
    "training_points = training_data.drop(target_variable_name, axis=1)"
   ]
  },
  {
   "cell_type": "markdown",
   "metadata": {
    "id": "civG1etNLqbY"
   },
   "source": [
    "Можно посмотреть результаты этих действий, вызвав метод **head()** и поле **shape**, которыми мы пользовались ранее, но сейчас нужно вызывать их от новой переменной *training_points*."
   ]
  },
  {
   "cell_type": "code",
   "execution_count": 14,
   "metadata": {
    "colab": {
     "base_uri": "https://localhost:8080/",
     "height": 221
    },
    "id": "tiglFXjuLqbZ",
    "outputId": "242fc89e-a4f3-4ad0-88de-8444e938f4bd"
   },
   "outputs": [
    {
     "data": {
      "text/html": [
       "<div>\n",
       "<style scoped>\n",
       "    .dataframe tbody tr th:only-of-type {\n",
       "        vertical-align: middle;\n",
       "    }\n",
       "\n",
       "    .dataframe tbody tr th {\n",
       "        vertical-align: top;\n",
       "    }\n",
       "\n",
       "    .dataframe thead th {\n",
       "        text-align: right;\n",
       "    }\n",
       "</style>\n",
       "<table border=\"1\" class=\"dataframe\">\n",
       "  <thead>\n",
       "    <tr style=\"text-align: right;\">\n",
       "      <th></th>\n",
       "      <th>Спальни</th>\n",
       "      <th>Ванные</th>\n",
       "      <th>Жилая площадь</th>\n",
       "      <th>Общая площадь</th>\n",
       "      <th>Количество этажей</th>\n",
       "      <th>Вид на воду</th>\n",
       "      <th>Просмотрены ранее</th>\n",
       "      <th>Состояние</th>\n",
       "      <th>Оценка риелтора</th>\n",
       "      <th>Площадь без подвала</th>\n",
       "      <th>Площадь подвала</th>\n",
       "      <th>Год постройки</th>\n",
       "      <th>Год реновации</th>\n",
       "      <th>Широта</th>\n",
       "      <th>Долгота</th>\n",
       "    </tr>\n",
       "  </thead>\n",
       "  <tbody>\n",
       "    <tr>\n",
       "      <th>0</th>\n",
       "      <td>5</td>\n",
       "      <td>3.50</td>\n",
       "      <td>3490</td>\n",
       "      <td>21780</td>\n",
       "      <td>2.0</td>\n",
       "      <td>0</td>\n",
       "      <td>0</td>\n",
       "      <td>3</td>\n",
       "      <td>8</td>\n",
       "      <td>3490</td>\n",
       "      <td>0</td>\n",
       "      <td>1996</td>\n",
       "      <td>0</td>\n",
       "      <td>47.6707</td>\n",
       "      <td>-122.144</td>\n",
       "    </tr>\n",
       "    <tr>\n",
       "      <th>1</th>\n",
       "      <td>4</td>\n",
       "      <td>1.75</td>\n",
       "      <td>2360</td>\n",
       "      <td>7620</td>\n",
       "      <td>1.0</td>\n",
       "      <td>0</td>\n",
       "      <td>0</td>\n",
       "      <td>4</td>\n",
       "      <td>7</td>\n",
       "      <td>1180</td>\n",
       "      <td>1180</td>\n",
       "      <td>1955</td>\n",
       "      <td>0</td>\n",
       "      <td>47.5278</td>\n",
       "      <td>-122.345</td>\n",
       "    </tr>\n",
       "    <tr>\n",
       "      <th>2</th>\n",
       "      <td>6</td>\n",
       "      <td>2.75</td>\n",
       "      <td>2040</td>\n",
       "      <td>8560</td>\n",
       "      <td>1.0</td>\n",
       "      <td>0</td>\n",
       "      <td>2</td>\n",
       "      <td>4</td>\n",
       "      <td>7</td>\n",
       "      <td>1100</td>\n",
       "      <td>940</td>\n",
       "      <td>1961</td>\n",
       "      <td>0</td>\n",
       "      <td>47.6160</td>\n",
       "      <td>-122.115</td>\n",
       "    </tr>\n",
       "    <tr>\n",
       "      <th>3</th>\n",
       "      <td>3</td>\n",
       "      <td>1.75</td>\n",
       "      <td>1940</td>\n",
       "      <td>8376</td>\n",
       "      <td>1.0</td>\n",
       "      <td>0</td>\n",
       "      <td>0</td>\n",
       "      <td>4</td>\n",
       "      <td>8</td>\n",
       "      <td>1290</td>\n",
       "      <td>650</td>\n",
       "      <td>1963</td>\n",
       "      <td>0</td>\n",
       "      <td>47.5586</td>\n",
       "      <td>-122.173</td>\n",
       "    </tr>\n",
       "    <tr>\n",
       "      <th>4</th>\n",
       "      <td>3</td>\n",
       "      <td>2.75</td>\n",
       "      <td>3450</td>\n",
       "      <td>5350</td>\n",
       "      <td>1.5</td>\n",
       "      <td>0</td>\n",
       "      <td>3</td>\n",
       "      <td>4</td>\n",
       "      <td>9</td>\n",
       "      <td>2590</td>\n",
       "      <td>860</td>\n",
       "      <td>1925</td>\n",
       "      <td>0</td>\n",
       "      <td>47.6389</td>\n",
       "      <td>-122.407</td>\n",
       "    </tr>\n",
       "  </tbody>\n",
       "</table>\n",
       "</div>"
      ],
      "text/plain": [
       "   Спальни  Ванные  Жилая площадь  Общая площадь  Количество этажей  \\\n",
       "0        5    3.50           3490          21780                2.0   \n",
       "1        4    1.75           2360           7620                1.0   \n",
       "2        6    2.75           2040           8560                1.0   \n",
       "3        3    1.75           1940           8376                1.0   \n",
       "4        3    2.75           3450           5350                1.5   \n",
       "\n",
       "   Вид на воду  Просмотрены ранее  Состояние  Оценка риелтора  \\\n",
       "0            0                  0          3                8   \n",
       "1            0                  0          4                7   \n",
       "2            0                  2          4                7   \n",
       "3            0                  0          4                8   \n",
       "4            0                  3          4                9   \n",
       "\n",
       "   Площадь без подвала  Площадь подвала  Год постройки  Год реновации  \\\n",
       "0                 3490                0           1996              0   \n",
       "1                 1180             1180           1955              0   \n",
       "2                 1100              940           1961              0   \n",
       "3                 1290              650           1963              0   \n",
       "4                 2590              860           1925              0   \n",
       "\n",
       "    Широта  Долгота  \n",
       "0  47.6707 -122.144  \n",
       "1  47.5278 -122.345  \n",
       "2  47.6160 -122.115  \n",
       "3  47.5586 -122.173  \n",
       "4  47.6389 -122.407  "
      ]
     },
     "execution_count": 14,
     "metadata": {},
     "output_type": "execute_result"
    }
   ],
   "source": [
    "training_points.head()"
   ]
  },
  {
   "cell_type": "code",
   "execution_count": 15,
   "metadata": {
    "colab": {
     "base_uri": "https://localhost:8080/",
     "height": 34
    },
    "id": "DAfReQdsLqbb",
    "outputId": "c01c67cf-6e85-43df-f591-2d3517fef635"
   },
   "outputs": [
    {
     "data": {
      "text/plain": [
       "(15129, 15)"
      ]
     },
     "execution_count": 15,
     "metadata": {},
     "output_type": "execute_result"
    }
   ],
   "source": [
    "training_points.shape"
   ]
  },
  {
   "cell_type": "markdown",
   "metadata": {
    "id": "kx5oc0ScLqbf"
   },
   "source": [
    "Видно, что столбца действительно нет, а количество строк не изменилось. Данные в 5 первых строках такие же, как были ранее."
   ]
  },
  {
   "cell_type": "markdown",
   "metadata": {
    "id": "pJyxgxErLqbg"
   },
   "source": [
    "##   3. Обучить модель на обучающей выборке"
   ]
  },
  {
   "cell_type": "markdown",
   "metadata": {
    "id": "0FvCNInJLqbg"
   },
   "source": [
    "**Шаг 3.1. Выбираем метод, который будем использовать**\n",
    "\n",
    "Проще всего начать с простых методов. \n",
    "\n",
    "На выбор метода для построения модели влияет набор признаков, размер выборки, интуиция про то, какая связь между входными переменными и целевой. Но часто решение принимается исходя из того, какая модель сработала лучше."
   ]
  },
  {
   "cell_type": "markdown",
   "metadata": {
    "id": "m84QeANALqbi"
   },
   "source": [
    "Для корректной работы с методами построения моделей в python требуется загрузить специальную библиотеку\n",
    "**sklearn**, программную библиотеку на языке python для для машинного обучения и анализа данных.\n",
    "\n",
    "Импортируем модуль из этой библиотеки:\n",
    " * *linear_model* - тут находятся все линейные модели"
   ]
  },
  {
   "cell_type": "code",
   "execution_count": 16,
   "metadata": {
    "id": "f1mxLNeZLqbj"
   },
   "outputs": [],
   "source": [
    "from sklearn import linear_model"
   ]
  },
  {
   "cell_type": "markdown",
   "metadata": {
    "id": "Zm15N2pvLqbq"
   },
   "source": [
    "Чтобы создать модель линейной регресии, пишем имя модуля 'linear_model', затем точку, затем название модели."
   ]
  },
  {
   "cell_type": "code",
   "execution_count": 17,
   "metadata": {
    "id": "aJdy5rsFLqbt"
   },
   "outputs": [],
   "source": [
    "linear_regression_model = linear_model.LinearRegression() # создаем модель"
   ]
  },
  {
   "cell_type": "code",
   "execution_count": 18,
   "metadata": {
    "colab": {
     "base_uri": "https://localhost:8080/",
     "height": 34
    },
    "id": "nYk4bedkLqbw",
    "outputId": "b3ed33bd-11d0-4af2-8094-ee3ecedc0fbd"
   },
   "outputs": [
    {
     "data": {
      "text/plain": [
       "LinearRegression()"
      ]
     },
     "execution_count": 18,
     "metadata": {},
     "output_type": "execute_result"
    }
   ],
   "source": [
    "linear_regression_model # смотрим, что получилось"
   ]
  },
  {
   "cell_type": "markdown",
   "metadata": {
    "id": "TM7UfC6uLqb2"
   },
   "source": [
    "**Шаг 3.2. Обучить модель**\n",
    "\n",
    "Теперь, когда мы создали прототип модели, можем её обучить на обучающей выборке. \n",
    "\n",
    "Для этого вызываем метод **fit()** и передаем ему на вход два аргумента: \n",
    "таблицу входных признаков и столбец значений целевой переменной - (training_points, training_values)"
   ]
  },
  {
   "cell_type": "code",
   "execution_count": 19,
   "metadata": {
    "colab": {
     "base_uri": "https://localhost:8080/",
     "height": 34
    },
    "id": "zlMSe5KOLqb3",
    "outputId": "09bfdf12-fa41-4e4a-f23a-a3a45695f078"
   },
   "outputs": [
    {
     "data": {
      "text/plain": [
       "LinearRegression()"
      ]
     },
     "execution_count": 19,
     "metadata": {},
     "output_type": "execute_result"
    }
   ],
   "source": [
    "linear_regression_model.fit(training_points, training_values)"
   ]
  },
  {
   "cell_type": "markdown",
   "metadata": {
    "id": "s_MADgOMhxKd"
   },
   "source": [
    "## Задание 3.5\n",
    "\n",
    "Реализуйте настройку параметров модели не с помощью встроенной функции, а с помощью своей реализации.\n",
    "\n",
    "Настроить параметры нужно либо с помощью **стохастического градиентного спуска** либо с помощью **mini-batch градиентного спуска**. \n",
    "Нужно использовать регуляризацию **L1, L2 или Elastic Net**. "
   ]
  },
  {
   "cell_type": "code",
   "execution_count": 20,
   "metadata": {},
   "outputs": [],
   "source": [
    "import numpy as np"
   ]
  },
  {
   "cell_type": "code",
   "execution_count": 222,
   "metadata": {},
   "outputs": [],
   "source": [
    "def costFunctionReg(theta, X,y,lamda = 10):\n",
    "    '''Cost function for ridge regression (regularized L2)'''\n",
    "    #Initialization\n",
    "    m = len(y) \n",
    "    J = 0\n",
    "    \n",
    "    #Vectorized implementation\n",
    "    h = X @ theta\n",
    "    J_reg = (lamda / (2*m)) * np.sum(np.square(theta))\n",
    "    J = float((1./(2*m)) * (h - y).T @ (h - y)) + J_reg;\n",
    "    return(J)\n",
    "    \n",
    "\n",
    "def MBGD(X,y,theta,learning_rate=0.01,iterations=3,batch_size =5000, alpha=0.3):\n",
    "    '''\n",
    "    X    = Matrix of X without added bias units\n",
    "    y    = Vector of Y\n",
    "    theta=Vector of thetas np.random.randn(j,1)\n",
    "    learning_rate \n",
    "    iterations = no of iterations\n",
    "    \n",
    "    Returns the final theta vector and array of cost history over no of iterations\n",
    "    '''\n",
    "    m = len(y)\n",
    "    cost_history = np.zeros(iterations)\n",
    "    n_batches = int(m/batch_size)\n",
    "    \n",
    "    for it in range(iterations):\n",
    "        cost =0.0\n",
    "        indices = np.random.permutation(m)\n",
    "#         X = X[indices]\n",
    "#         y = y[indices]\n",
    "        for i in range(0,m,batch_size):\n",
    "            print(f'{i} batch')\n",
    "            X_i = X[i:i+batch_size]\n",
    "            y_i = y[i:i+batch_size]\n",
    "            \n",
    "            X_i = np.c_[np.ones(len(X_i)),X_i]\n",
    "            y_i = y_i.to_numpy().reshape(-1, 1)\n",
    "           \n",
    "            prediction = np.dot(X_i,theta)\n",
    "            ridge_pen = np.array(alpha*theta)\n",
    "\n",
    "            theta = theta - lr * (1/(2*m))* ((X_i.T @ (prediction-y_i)) + ridge_pen)\n",
    "\n",
    "            cost += costFunctionReg(theta,X_i,y_i, alpha)\n",
    "        cost_history[it]  = cost\n",
    "        \n",
    "    return theta, cost_history"
   ]
  },
  {
   "cell_type": "code",
   "execution_count": 351,
   "metadata": {
    "scrolled": true
   },
   "outputs": [
    {
     "name": "stdout",
     "output_type": "stream",
     "text": [
      "[[-3.86883327]\n",
      " [-1.3170125 ]\n",
      " [-0.17100171]\n",
      " [ 0.06793066]\n",
      " [-0.77879246]\n",
      " [ 0.58423449]\n",
      " [ 0.35362445]\n",
      " [-0.67109758]\n",
      " [ 0.34329847]\n",
      " [ 1.26797877]\n",
      " [-0.51873829]\n",
      " [ 0.26774355]\n",
      " [ 1.254619  ]\n",
      " [-0.57695134]\n",
      " [ 1.07185333]\n",
      " [-0.2752922 ]]\n",
      "0 batch\n",
      "5000 batch\n",
      "10000 batch\n",
      "15000 batch\n"
     ]
    }
   ],
   "source": [
    "theta = np.random.randn(16,1)\n",
    "print(theta)\n",
    "lr = 0.000000001\n",
    "n_iter = 1\n",
    "theta,cost_history = MBGD(training_points,training_values,theta,lr,n_iter, alpha=50)"
   ]
  },
  {
   "cell_type": "code",
   "execution_count": 352,
   "metadata": {},
   "outputs": [
    {
     "data": {
      "text/plain": [
       "array([[-3.86857096],\n",
       "       [-1.31607584],\n",
       "       [-0.17037541],\n",
       "       [ 0.72712319],\n",
       "       [ 3.12369766],\n",
       "       [ 0.58465039],\n",
       "       [ 0.35363056],\n",
       "       [-0.6709816 ],\n",
       "       [ 0.34419868],\n",
       "       [ 1.27012604],\n",
       "       [ 0.03954143],\n",
       "       [ 0.36865636],\n",
       "       [ 1.77180668],\n",
       "       [-0.54555235],\n",
       "       [ 1.08433627],\n",
       "       [-0.307349  ]])"
      ]
     },
     "execution_count": 352,
     "metadata": {},
     "output_type": "execute_result"
    }
   ],
   "source": [
    "theta"
   ]
  },
  {
   "cell_type": "markdown",
   "metadata": {
    "id": "y8BB5t5DLqb8"
   },
   "source": [
    "# 4. Загрузить и предобработать данные для тестирования"
   ]
  },
  {
   "cell_type": "markdown",
   "metadata": {
    "id": "V70UJoRnLqb9"
   },
   "source": [
    "**Шаг 4.1. Загрузим и проанализируем тестовые данные.**\n",
    "\n",
    "Так как данные в формате xlsx (Excel), мы будем использовать специальную функцию\n",
    "из библиотеки pandas для загрузки таких данных **read_excel**.\n",
    "\n",
    "В функции передаем один атрибут: название файла, в котором находится таблица с данными."
   ]
  },
  {
   "cell_type": "code",
   "execution_count": 21,
   "metadata": {
    "id": "G2QC-fcBLqb9"
   },
   "outputs": [],
   "source": [
    "test_data = pd.read_excel('predict_house_price_test_data.xlsx')"
   ]
  },
  {
   "cell_type": "markdown",
   "metadata": {
    "id": "D5c96FglLqcA"
   },
   "source": [
    "*Что важно посмотреть, после того, как мы загрузили данные?*\n",
    "\n",
    "- проверить, что данные действительно загрузились\n",
    "- посмотреть на данные, чтобы удостовериться, что они правильные: колонки имеют те же названия, что и в таблице и т.д.\n",
    "\n",
    "Для того чтобы это сделать, нужно вызвать от переменной *test_data* метод **head()**, который выводит первые 5 строк таблицы. \n",
    "\n",
    "Для вызова метода объекта необходимо сначала написать *имя объекта*, затем поставить *точку*, затем уже написать *название метода*. Обратите внимание, что в конце обязательно ставить скобочки, потому что метод - это функция и в ней есть аргументы, просто в данном случае мы их не передаем, поэтому оставляем поле пустым"
   ]
  },
  {
   "cell_type": "code",
   "execution_count": 22,
   "metadata": {
    "colab": {
     "base_uri": "https://localhost:8080/",
     "height": 238
    },
    "id": "aWplqmHwLqcC",
    "outputId": "58632679-b4c0-4493-bf21-edb7b393e0e7"
   },
   "outputs": [
    {
     "data": {
      "text/html": [
       "<div>\n",
       "<style scoped>\n",
       "    .dataframe tbody tr th:only-of-type {\n",
       "        vertical-align: middle;\n",
       "    }\n",
       "\n",
       "    .dataframe tbody tr th {\n",
       "        vertical-align: top;\n",
       "    }\n",
       "\n",
       "    .dataframe thead th {\n",
       "        text-align: right;\n",
       "    }\n",
       "</style>\n",
       "<table border=\"1\" class=\"dataframe\">\n",
       "  <thead>\n",
       "    <tr style=\"text-align: right;\">\n",
       "      <th></th>\n",
       "      <th>Целевая.Цена</th>\n",
       "      <th>Спальни</th>\n",
       "      <th>Ванные</th>\n",
       "      <th>Жилая площадь</th>\n",
       "      <th>Общая площадь</th>\n",
       "      <th>Количество этажей</th>\n",
       "      <th>Вид на воду</th>\n",
       "      <th>Просмотрены ранее</th>\n",
       "      <th>Состояние</th>\n",
       "      <th>Оценка риелтора</th>\n",
       "      <th>Площадь без подвала</th>\n",
       "      <th>Площадь подвала</th>\n",
       "      <th>Год постройки</th>\n",
       "      <th>Год реновации</th>\n",
       "      <th>Широта</th>\n",
       "      <th>Долгота</th>\n",
       "    </tr>\n",
       "  </thead>\n",
       "  <tbody>\n",
       "    <tr>\n",
       "      <th>0</th>\n",
       "      <td>260000</td>\n",
       "      <td>3</td>\n",
       "      <td>1.00</td>\n",
       "      <td>1300</td>\n",
       "      <td>10139</td>\n",
       "      <td>1.0</td>\n",
       "      <td>0</td>\n",
       "      <td>0</td>\n",
       "      <td>3</td>\n",
       "      <td>7</td>\n",
       "      <td>1300</td>\n",
       "      <td>0</td>\n",
       "      <td>1962</td>\n",
       "      <td>2007</td>\n",
       "      <td>47.3427</td>\n",
       "      <td>-122.087</td>\n",
       "    </tr>\n",
       "    <tr>\n",
       "      <th>1</th>\n",
       "      <td>734500</td>\n",
       "      <td>4</td>\n",
       "      <td>2.75</td>\n",
       "      <td>3280</td>\n",
       "      <td>6845</td>\n",
       "      <td>2.0</td>\n",
       "      <td>0</td>\n",
       "      <td>0</td>\n",
       "      <td>3</td>\n",
       "      <td>10</td>\n",
       "      <td>3280</td>\n",
       "      <td>0</td>\n",
       "      <td>2003</td>\n",
       "      <td>0</td>\n",
       "      <td>47.7042</td>\n",
       "      <td>-122.107</td>\n",
       "    </tr>\n",
       "    <tr>\n",
       "      <th>2</th>\n",
       "      <td>325000</td>\n",
       "      <td>1</td>\n",
       "      <td>1.00</td>\n",
       "      <td>1220</td>\n",
       "      <td>12426</td>\n",
       "      <td>1.0</td>\n",
       "      <td>0</td>\n",
       "      <td>4</td>\n",
       "      <td>4</td>\n",
       "      <td>6</td>\n",
       "      <td>1220</td>\n",
       "      <td>0</td>\n",
       "      <td>1946</td>\n",
       "      <td>0</td>\n",
       "      <td>47.4047</td>\n",
       "      <td>-122.331</td>\n",
       "    </tr>\n",
       "    <tr>\n",
       "      <th>3</th>\n",
       "      <td>1990000</td>\n",
       "      <td>3</td>\n",
       "      <td>2.50</td>\n",
       "      <td>2880</td>\n",
       "      <td>13500</td>\n",
       "      <td>1.0</td>\n",
       "      <td>0</td>\n",
       "      <td>4</td>\n",
       "      <td>5</td>\n",
       "      <td>8</td>\n",
       "      <td>1520</td>\n",
       "      <td>1360</td>\n",
       "      <td>1950</td>\n",
       "      <td>0</td>\n",
       "      <td>47.6281</td>\n",
       "      <td>-122.216</td>\n",
       "    </tr>\n",
       "    <tr>\n",
       "      <th>4</th>\n",
       "      <td>315000</td>\n",
       "      <td>3</td>\n",
       "      <td>2.00</td>\n",
       "      <td>1300</td>\n",
       "      <td>3731</td>\n",
       "      <td>1.0</td>\n",
       "      <td>0</td>\n",
       "      <td>0</td>\n",
       "      <td>3</td>\n",
       "      <td>7</td>\n",
       "      <td>900</td>\n",
       "      <td>400</td>\n",
       "      <td>1993</td>\n",
       "      <td>0</td>\n",
       "      <td>47.5374</td>\n",
       "      <td>-122.270</td>\n",
       "    </tr>\n",
       "  </tbody>\n",
       "</table>\n",
       "</div>"
      ],
      "text/plain": [
       "   Целевая.Цена  Спальни  Ванные  Жилая площадь  Общая площадь  \\\n",
       "0        260000        3    1.00           1300          10139   \n",
       "1        734500        4    2.75           3280           6845   \n",
       "2        325000        1    1.00           1220          12426   \n",
       "3       1990000        3    2.50           2880          13500   \n",
       "4        315000        3    2.00           1300           3731   \n",
       "\n",
       "   Количество этажей  Вид на воду  Просмотрены ранее  Состояние  \\\n",
       "0                1.0            0                  0          3   \n",
       "1                2.0            0                  0          3   \n",
       "2                1.0            0                  4          4   \n",
       "3                1.0            0                  4          5   \n",
       "4                1.0            0                  0          3   \n",
       "\n",
       "   Оценка риелтора  Площадь без подвала  Площадь подвала  Год постройки  \\\n",
       "0                7                 1300                0           1962   \n",
       "1               10                 3280                0           2003   \n",
       "2                6                 1220                0           1946   \n",
       "3                8                 1520             1360           1950   \n",
       "4                7                  900              400           1993   \n",
       "\n",
       "   Год реновации   Широта  Долгота  \n",
       "0           2007  47.3427 -122.087  \n",
       "1              0  47.7042 -122.107  \n",
       "2              0  47.4047 -122.331  \n",
       "3              0  47.6281 -122.216  \n",
       "4              0  47.5374 -122.270  "
      ]
     },
     "execution_count": 22,
     "metadata": {},
     "output_type": "execute_result"
    }
   ],
   "source": [
    "test_data.head()"
   ]
  },
  {
   "cell_type": "markdown",
   "metadata": {
    "id": "rNOKBtaVLqcF"
   },
   "source": [
    "Посмотрим на размеры загруженной таблицы, так как мы видели только 5 строк\n",
    "\n",
    "Для этого вызываем поле **shape** у нашей переменной *test_data*. Поле вызывается также как метод, но в конце скобки не ставятся (!), так как для поля не предусмотрена передача аргументов.  "
   ]
  },
  {
   "cell_type": "code",
   "execution_count": 23,
   "metadata": {
    "colab": {
     "base_uri": "https://localhost:8080/",
     "height": 34
    },
    "id": "FHzoBYPKLqcG",
    "outputId": "f08d06bf-cf38-429e-b149-ed3ad1033d40"
   },
   "outputs": [
    {
     "data": {
      "text/plain": [
       "(6484, 16)"
      ]
     },
     "execution_count": 23,
     "metadata": {},
     "output_type": "execute_result"
    }
   ],
   "source": [
    "test_data.shape"
   ]
  },
  {
   "cell_type": "markdown",
   "metadata": {
    "id": "Sic-zsmxLqcI"
   },
   "source": [
    "*Что означает первое и второе число?* \n",
    "Таблица содержит 6484 строк (объектов) и 16 столбцов (признаков), включая выходной (целевой) признак. Также как в учебных данных до обучения.\n",
    "\n",
    "Таблицу проверили, теперь можно приступать к обработке данных\n",
    "Действуем аналогично тому, как делали с данными для обучения"
   ]
  },
  {
   "cell_type": "markdown",
   "metadata": {
    "id": "cirwOcb7LqcJ"
   },
   "source": [
    "Проверим, есть ли в данных пропуски. Для того чтобы это сделать, нужно обратиться вызвать у переменной *test_data* метод **info()**."
   ]
  },
  {
   "cell_type": "code",
   "execution_count": 24,
   "metadata": {
    "colab": {
     "base_uri": "https://localhost:8080/",
     "height": 408
    },
    "id": "-TMC8NvMLqcJ",
    "outputId": "36310ab6-661c-430e-ecc0-74cbdf9c2b3a"
   },
   "outputs": [
    {
     "name": "stdout",
     "output_type": "stream",
     "text": [
      "<class 'pandas.core.frame.DataFrame'>\n",
      "RangeIndex: 6484 entries, 0 to 6483\n",
      "Data columns (total 16 columns):\n",
      " #   Column               Non-Null Count  Dtype  \n",
      "---  ------               --------------  -----  \n",
      " 0   Целевая.Цена         6484 non-null   int64  \n",
      " 1   Спальни              6484 non-null   int64  \n",
      " 2   Ванные               6484 non-null   float64\n",
      " 3   Жилая площадь        6484 non-null   int64  \n",
      " 4   Общая площадь        6484 non-null   int64  \n",
      " 5   Количество этажей    6484 non-null   float64\n",
      " 6   Вид на воду          6484 non-null   int64  \n",
      " 7   Просмотрены ранее    6484 non-null   int64  \n",
      " 8   Состояние            6484 non-null   int64  \n",
      " 9   Оценка риелтора      6484 non-null   int64  \n",
      " 10  Площадь без подвала  6484 non-null   int64  \n",
      " 11  Площадь подвала      6484 non-null   int64  \n",
      " 12  Год постройки        6484 non-null   int64  \n",
      " 13  Год реновации        6484 non-null   int64  \n",
      " 14  Широта               6484 non-null   float64\n",
      " 15  Долгота              6484 non-null   float64\n",
      "dtypes: float64(4), int64(12)\n",
      "memory usage: 810.6 KB\n"
     ]
    }
   ],
   "source": [
    "test_data.info()"
   ]
  },
  {
   "cell_type": "markdown",
   "metadata": {
    "id": "AN3MKGbcLqcL"
   },
   "source": [
    "Цифры в каждой строчке обозначают количество заполненных (*non-null*) значений. Так как эти цифры в каждой строчке совпадают с числом строк (6484), то в данных нет пропусков."
   ]
  },
  {
   "cell_type": "markdown",
   "metadata": {
    "id": "2cUtLvm8LqcM"
   },
   "source": [
    "**Шаг 4.2. Отделяем целевую переменную**"
   ]
  },
  {
   "cell_type": "markdown",
   "metadata": {
    "id": "s2QuCPmzLqcM"
   },
   "source": [
    "Нам нужно выделить в отдельную переменную *test_values* столбец из нашей таблицы, который соответствует определенной выше целевой переменной. Для этого мы у таблицы *test_data* в квадратных скобках указываем имя нужного столбца. В нашем случае это имя записано в переменной *target_variable_name*. "
   ]
  },
  {
   "cell_type": "code",
   "execution_count": 25,
   "metadata": {
    "id": "-mJZ2H7QLqcN"
   },
   "outputs": [],
   "source": [
    "test_values = test_data[target_variable_name]"
   ]
  },
  {
   "cell_type": "markdown",
   "metadata": {
    "id": "65B_7B2YLqcP"
   },
   "source": [
    "Отделим входные переменные от выходной (целевой), чтобы можно было построить модель предсказания целевой переменной по входным. \n",
    "Для это нужно у переменной *test_data* вызвать метод **drop()**. Результат мы записываем в новую переменную *test_points*. После выполнения запроса *test_points* будет содержать исходную таблицу без целевого столбца. \n",
    "\n",
    "Обратите внимание, что в данном случае мы передаем два аргумента:\n",
    "    1. target_variable_name - название столбца цены, который мы ранее записали в эту переменную и теперь хотим удалить из training_data\n",
    "    2. axis=1 - означает, что мы удаляем столбец, а в случае axis=0 - означает, что мы удаляем строку"
   ]
  },
  {
   "cell_type": "code",
   "execution_count": 26,
   "metadata": {
    "id": "-VIMWvPLLqcQ"
   },
   "outputs": [],
   "source": [
    "test_points = test_data.drop(target_variable_name, axis=1)"
   ]
  },
  {
   "cell_type": "markdown",
   "metadata": {
    "id": "y3Cwim1CLqcV"
   },
   "source": [
    "И проверяем результат записанный в test_points"
   ]
  },
  {
   "cell_type": "code",
   "execution_count": 27,
   "metadata": {
    "colab": {
     "base_uri": "https://localhost:8080/",
     "height": 221
    },
    "id": "s20UtLqELqcV",
    "outputId": "4cb045bc-216c-43f5-b045-6b86b2557281"
   },
   "outputs": [
    {
     "data": {
      "text/html": [
       "<div>\n",
       "<style scoped>\n",
       "    .dataframe tbody tr th:only-of-type {\n",
       "        vertical-align: middle;\n",
       "    }\n",
       "\n",
       "    .dataframe tbody tr th {\n",
       "        vertical-align: top;\n",
       "    }\n",
       "\n",
       "    .dataframe thead th {\n",
       "        text-align: right;\n",
       "    }\n",
       "</style>\n",
       "<table border=\"1\" class=\"dataframe\">\n",
       "  <thead>\n",
       "    <tr style=\"text-align: right;\">\n",
       "      <th></th>\n",
       "      <th>Спальни</th>\n",
       "      <th>Ванные</th>\n",
       "      <th>Жилая площадь</th>\n",
       "      <th>Общая площадь</th>\n",
       "      <th>Количество этажей</th>\n",
       "      <th>Вид на воду</th>\n",
       "      <th>Просмотрены ранее</th>\n",
       "      <th>Состояние</th>\n",
       "      <th>Оценка риелтора</th>\n",
       "      <th>Площадь без подвала</th>\n",
       "      <th>Площадь подвала</th>\n",
       "      <th>Год постройки</th>\n",
       "      <th>Год реновации</th>\n",
       "      <th>Широта</th>\n",
       "      <th>Долгота</th>\n",
       "    </tr>\n",
       "  </thead>\n",
       "  <tbody>\n",
       "    <tr>\n",
       "      <th>0</th>\n",
       "      <td>3</td>\n",
       "      <td>1.00</td>\n",
       "      <td>1300</td>\n",
       "      <td>10139</td>\n",
       "      <td>1.0</td>\n",
       "      <td>0</td>\n",
       "      <td>0</td>\n",
       "      <td>3</td>\n",
       "      <td>7</td>\n",
       "      <td>1300</td>\n",
       "      <td>0</td>\n",
       "      <td>1962</td>\n",
       "      <td>2007</td>\n",
       "      <td>47.3427</td>\n",
       "      <td>-122.087</td>\n",
       "    </tr>\n",
       "    <tr>\n",
       "      <th>1</th>\n",
       "      <td>4</td>\n",
       "      <td>2.75</td>\n",
       "      <td>3280</td>\n",
       "      <td>6845</td>\n",
       "      <td>2.0</td>\n",
       "      <td>0</td>\n",
       "      <td>0</td>\n",
       "      <td>3</td>\n",
       "      <td>10</td>\n",
       "      <td>3280</td>\n",
       "      <td>0</td>\n",
       "      <td>2003</td>\n",
       "      <td>0</td>\n",
       "      <td>47.7042</td>\n",
       "      <td>-122.107</td>\n",
       "    </tr>\n",
       "    <tr>\n",
       "      <th>2</th>\n",
       "      <td>1</td>\n",
       "      <td>1.00</td>\n",
       "      <td>1220</td>\n",
       "      <td>12426</td>\n",
       "      <td>1.0</td>\n",
       "      <td>0</td>\n",
       "      <td>4</td>\n",
       "      <td>4</td>\n",
       "      <td>6</td>\n",
       "      <td>1220</td>\n",
       "      <td>0</td>\n",
       "      <td>1946</td>\n",
       "      <td>0</td>\n",
       "      <td>47.4047</td>\n",
       "      <td>-122.331</td>\n",
       "    </tr>\n",
       "    <tr>\n",
       "      <th>3</th>\n",
       "      <td>3</td>\n",
       "      <td>2.50</td>\n",
       "      <td>2880</td>\n",
       "      <td>13500</td>\n",
       "      <td>1.0</td>\n",
       "      <td>0</td>\n",
       "      <td>4</td>\n",
       "      <td>5</td>\n",
       "      <td>8</td>\n",
       "      <td>1520</td>\n",
       "      <td>1360</td>\n",
       "      <td>1950</td>\n",
       "      <td>0</td>\n",
       "      <td>47.6281</td>\n",
       "      <td>-122.216</td>\n",
       "    </tr>\n",
       "    <tr>\n",
       "      <th>4</th>\n",
       "      <td>3</td>\n",
       "      <td>2.00</td>\n",
       "      <td>1300</td>\n",
       "      <td>3731</td>\n",
       "      <td>1.0</td>\n",
       "      <td>0</td>\n",
       "      <td>0</td>\n",
       "      <td>3</td>\n",
       "      <td>7</td>\n",
       "      <td>900</td>\n",
       "      <td>400</td>\n",
       "      <td>1993</td>\n",
       "      <td>0</td>\n",
       "      <td>47.5374</td>\n",
       "      <td>-122.270</td>\n",
       "    </tr>\n",
       "  </tbody>\n",
       "</table>\n",
       "</div>"
      ],
      "text/plain": [
       "   Спальни  Ванные  Жилая площадь  Общая площадь  Количество этажей  \\\n",
       "0        3    1.00           1300          10139                1.0   \n",
       "1        4    2.75           3280           6845                2.0   \n",
       "2        1    1.00           1220          12426                1.0   \n",
       "3        3    2.50           2880          13500                1.0   \n",
       "4        3    2.00           1300           3731                1.0   \n",
       "\n",
       "   Вид на воду  Просмотрены ранее  Состояние  Оценка риелтора  \\\n",
       "0            0                  0          3                7   \n",
       "1            0                  0          3               10   \n",
       "2            0                  4          4                6   \n",
       "3            0                  4          5                8   \n",
       "4            0                  0          3                7   \n",
       "\n",
       "   Площадь без подвала  Площадь подвала  Год постройки  Год реновации  \\\n",
       "0                 1300                0           1962           2007   \n",
       "1                 3280                0           2003              0   \n",
       "2                 1220                0           1946              0   \n",
       "3                 1520             1360           1950              0   \n",
       "4                  900              400           1993              0   \n",
       "\n",
       "    Широта  Долгота  \n",
       "0  47.3427 -122.087  \n",
       "1  47.7042 -122.107  \n",
       "2  47.4047 -122.331  \n",
       "3  47.6281 -122.216  \n",
       "4  47.5374 -122.270  "
      ]
     },
     "execution_count": 27,
     "metadata": {},
     "output_type": "execute_result"
    }
   ],
   "source": [
    "test_points.head()"
   ]
  },
  {
   "cell_type": "code",
   "execution_count": 28,
   "metadata": {
    "colab": {
     "base_uri": "https://localhost:8080/",
     "height": 34
    },
    "id": "ig4hw7enLqca",
    "outputId": "2fdd4352-4f21-4ce9-a6fc-2c2d85d3491b"
   },
   "outputs": [
    {
     "data": {
      "text/plain": [
       "(6484, 15)"
      ]
     },
     "execution_count": 28,
     "metadata": {},
     "output_type": "execute_result"
    }
   ],
   "source": [
    "test_points.shape"
   ]
  },
  {
   "cell_type": "markdown",
   "metadata": {
    "id": "xvDMV5yoLqce"
   },
   "source": [
    "Видно, что количество столбцов уменьшилось на один. Данные в 5 первых строках такие же, как были ранее."
   ]
  },
  {
   "cell_type": "markdown",
   "metadata": {
    "id": "5QFgDcQXLqcf"
   },
   "source": [
    "# 5. Провалидировать модель на тестовой выборке"
   ]
  },
  {
   "cell_type": "markdown",
   "metadata": {
    "id": "LL7Pb7IlLqcg"
   },
   "source": [
    "**Шаг 5.1. Сравнение моделей.**\n",
    "\n",
    "Теперь мы готовы сравнить качество двух моделей! 😎"
   ]
  },
  {
   "cell_type": "markdown",
   "metadata": {
    "id": "NDTfUzZdLqch"
   },
   "source": [
    "## Задание 3.6 Какая модель лучше?\n",
    "\n",
    "Получим прогнозы целевой переменной на тестовых данных для модели линейной регрессии из sklearn и для своей реализации. \n",
    "\n"
   ]
  },
  {
   "cell_type": "code",
   "execution_count": 51,
   "metadata": {
    "id": "DK3TytoFLqch"
   },
   "outputs": [],
   "source": [
    "test_predictions_linear = linear_regression_model.predict(test_points)"
   ]
  },
  {
   "cell_type": "markdown",
   "metadata": {
    "id": "kxRo4sq1Lqcm"
   },
   "source": [
    "Качество регрессионных моделей оценим двумя способами: \n",
    "1. Сравним визуально прогнозы с настоящими ценами (тестовые с предсказанием)\n",
    "2. Сравним метрики качества MSE и MAE"
   ]
  },
  {
   "cell_type": "markdown",
   "metadata": {
    "id": "Swg445QcLqct"
   },
   "source": [
    "Для корректного подсчета метрик качества модели в python требуется загрузить их из библиотеки **sklearn**. \n",
    "\n",
    "Мы используем две метрики качества:\n",
    " * *mean_absolute_error* - средняя абсолютная ошибка $|y_i - \\hat{y}_i|$\n",
    " * *mean_squared_error* - средняя квадратичная ошибка $(y_i - \\hat{y}_i)^2$"
   ]
  },
  {
   "cell_type": "code",
   "execution_count": 36,
   "metadata": {
    "id": "vAmGjpEzLqcu"
   },
   "outputs": [],
   "source": [
    "from sklearn.metrics import mean_absolute_error, mean_squared_error"
   ]
  },
  {
   "cell_type": "markdown",
   "metadata": {
    "id": "gmkMZN2FLqcw"
   },
   "source": [
    "Подсчитаем ошибки для линейной модели.\n",
    "\n",
    "Для этого вызовем методы **mean_absolute_error()** и **mean_squared_error()**. На вход им передается столбец настоящих значений *test_values* и столбец значений, предсказанных моделью линейной регрессии *test_predictions_linear*."
   ]
  },
  {
   "cell_type": "code",
   "execution_count": 328,
   "metadata": {
    "id": "k14DseleLqcw"
   },
   "outputs": [],
   "source": [
    "mean_absolute_error_linear_model = mean_absolute_error(test_values, test_predictions_linear) \n",
    "mean_squared_error_linear_model = mean_squared_error(test_values, test_predictions_linear)"
   ]
  },
  {
   "cell_type": "code",
   "execution_count": 329,
   "metadata": {},
   "outputs": [
    {
     "data": {
      "text/plain": [
       "126852.5125500484"
      ]
     },
     "execution_count": 329,
     "metadata": {},
     "output_type": "execute_result"
    }
   ],
   "source": [
    "mean_absolute_error_linear_model"
   ]
  },
  {
   "cell_type": "code",
   "execution_count": 330,
   "metadata": {},
   "outputs": [
    {
     "data": {
      "text/plain": [
       "40756843765.10092"
      ]
     },
     "execution_count": 330,
     "metadata": {},
     "output_type": "execute_result"
    }
   ],
   "source": [
    "mean_squared_error_linear_model"
   ]
  },
  {
   "cell_type": "markdown",
   "metadata": {
    "id": "R84sQt9LLqc0"
   },
   "source": [
    "Подсчитайте ошибки для своей реализации модели."
   ]
  },
  {
   "cell_type": "code",
   "execution_count": 353,
   "metadata": {},
   "outputs": [],
   "source": [
    "X_test = np.c_[np.ones(len(test_points)),test_points]\n",
    "y_own_predicted = X_test.dot(theta)"
   ]
  },
  {
   "cell_type": "code",
   "execution_count": 354,
   "metadata": {},
   "outputs": [
    {
     "data": {
      "text/plain": [
       "499796.88464724156"
      ]
     },
     "execution_count": 354,
     "metadata": {},
     "output_type": "execute_result"
    }
   ],
   "source": [
    "mean_absolute_error(test_values, y_own_predicted)"
   ]
  },
  {
   "cell_type": "code",
   "execution_count": 355,
   "metadata": {},
   "outputs": [
    {
     "data": {
      "text/plain": [
       "387057985062.98145"
      ]
     },
     "execution_count": 355,
     "metadata": {},
     "output_type": "execute_result"
    }
   ],
   "source": [
    "mean_squared_error(test_values, y_own_predicted)"
   ]
  },
  {
   "cell_type": "markdown",
   "metadata": {
    "id": "yvsElUo7Lqc2"
   },
   "source": [
    "Теперь напечатаем полученные ошибки. Обычно смотрят на корень из среднеквадратичной ошибки, RMSE. Чтобы извлечь корень нам понадобится библиотека **Numpy**. С помощью неё можно быстро производить вычисления сразу над массивами чисел."
   ]
  },
  {
   "cell_type": "code",
   "execution_count": 357,
   "metadata": {},
   "outputs": [
    {
     "name": "stdout",
     "output_type": "stream",
     "text": [
      "Для модели из sklearn:\n",
      "201883.24290317143\n",
      "Для нашей модели:\n",
      "622139.8436549306\n"
     ]
    }
   ],
   "source": [
    "print('Для модели из sklearn:')\n",
    "print(mean_squared_error_linear_model**(1/2))\n",
    "print('Для нашей модели:')\n",
    "print(mean_squared_error(test_values, y_own_predicted)**(1/2))"
   ]
  },
  {
   "cell_type": "markdown",
   "metadata": {},
   "source": [
    "Многовато -_-"
   ]
  },
  {
   "cell_type": "markdown",
   "metadata": {
    "id": "RQS6gBO1Lqc5"
   },
   "source": [
    "## 6. Выявление важных признаков"
   ]
  },
  {
   "cell_type": "markdown",
   "metadata": {
    "id": "NCvDudjKLqc6"
   },
   "source": [
    "Признаки, используемые для обучения модели, оказывают большое влияние на качество результатов. Неинформативные или слабо информативные признаки могут снизить качество модели, использование избыточных признаков в модели замедляет скорость ее работы.\n",
    "\n",
    "Для того, чтобы отобрать признаки нам следует ответить на следующие вопросы: \n",
    "\n",
    "    1. Все ли признаки в наших данных заполненны разумными значениями?\n",
    "    2. Какие признаки будут больше всего влиять на значение целевой переменной?\n",
    "    3. Какие дополнительные признаки имело бы смысл добавить в список входных?"
   ]
  },
  {
   "cell_type": "markdown",
   "metadata": {
    "id": "QlM7skwULqc7"
   },
   "source": [
    "**6.1. Разглядывание значений признаков**\n",
    "\n",
    "Для того чтобы ответить на первый вопрос, нам необходимо получить некоторую нашу экспертную оценку данных. В наших данных нет пропусков, однако иногда пропуски предварительно заполняют другими значениями (0, 999 и другие) и их можно увидеть, только внимательно посмотрев на данные. \n",
    "\n",
    "Для того, чтобы это сделать, нужно вызвать у переменной *training_points* метод **head(10)**, который выводит первые 10 строк таблицы."
   ]
  },
  {
   "cell_type": "code",
   "execution_count": 358,
   "metadata": {
    "colab": {
     "base_uri": "https://localhost:8080/",
     "height": 376
    },
    "id": "RF5s50mpLqc9",
    "outputId": "fd01a478-7539-4df4-b291-2084df0f12b1"
   },
   "outputs": [
    {
     "data": {
      "text/html": [
       "<div>\n",
       "<style scoped>\n",
       "    .dataframe tbody tr th:only-of-type {\n",
       "        vertical-align: middle;\n",
       "    }\n",
       "\n",
       "    .dataframe tbody tr th {\n",
       "        vertical-align: top;\n",
       "    }\n",
       "\n",
       "    .dataframe thead th {\n",
       "        text-align: right;\n",
       "    }\n",
       "</style>\n",
       "<table border=\"1\" class=\"dataframe\">\n",
       "  <thead>\n",
       "    <tr style=\"text-align: right;\">\n",
       "      <th></th>\n",
       "      <th>Спальни</th>\n",
       "      <th>Ванные</th>\n",
       "      <th>Жилая площадь</th>\n",
       "      <th>Общая площадь</th>\n",
       "      <th>Количество этажей</th>\n",
       "      <th>Вид на воду</th>\n",
       "      <th>Просмотрены ранее</th>\n",
       "      <th>Состояние</th>\n",
       "      <th>Оценка риелтора</th>\n",
       "      <th>Площадь без подвала</th>\n",
       "      <th>Площадь подвала</th>\n",
       "      <th>Год постройки</th>\n",
       "      <th>Год реновации</th>\n",
       "      <th>Широта</th>\n",
       "      <th>Долгота</th>\n",
       "    </tr>\n",
       "  </thead>\n",
       "  <tbody>\n",
       "    <tr>\n",
       "      <th>0</th>\n",
       "      <td>5</td>\n",
       "      <td>3.50</td>\n",
       "      <td>3490</td>\n",
       "      <td>21780</td>\n",
       "      <td>2.0</td>\n",
       "      <td>0</td>\n",
       "      <td>0</td>\n",
       "      <td>3</td>\n",
       "      <td>8</td>\n",
       "      <td>3490</td>\n",
       "      <td>0</td>\n",
       "      <td>1996</td>\n",
       "      <td>0</td>\n",
       "      <td>47.6707</td>\n",
       "      <td>-122.144</td>\n",
       "    </tr>\n",
       "    <tr>\n",
       "      <th>1</th>\n",
       "      <td>4</td>\n",
       "      <td>1.75</td>\n",
       "      <td>2360</td>\n",
       "      <td>7620</td>\n",
       "      <td>1.0</td>\n",
       "      <td>0</td>\n",
       "      <td>0</td>\n",
       "      <td>4</td>\n",
       "      <td>7</td>\n",
       "      <td>1180</td>\n",
       "      <td>1180</td>\n",
       "      <td>1955</td>\n",
       "      <td>0</td>\n",
       "      <td>47.5278</td>\n",
       "      <td>-122.345</td>\n",
       "    </tr>\n",
       "    <tr>\n",
       "      <th>2</th>\n",
       "      <td>6</td>\n",
       "      <td>2.75</td>\n",
       "      <td>2040</td>\n",
       "      <td>8560</td>\n",
       "      <td>1.0</td>\n",
       "      <td>0</td>\n",
       "      <td>2</td>\n",
       "      <td>4</td>\n",
       "      <td>7</td>\n",
       "      <td>1100</td>\n",
       "      <td>940</td>\n",
       "      <td>1961</td>\n",
       "      <td>0</td>\n",
       "      <td>47.6160</td>\n",
       "      <td>-122.115</td>\n",
       "    </tr>\n",
       "    <tr>\n",
       "      <th>3</th>\n",
       "      <td>3</td>\n",
       "      <td>1.75</td>\n",
       "      <td>1940</td>\n",
       "      <td>8376</td>\n",
       "      <td>1.0</td>\n",
       "      <td>0</td>\n",
       "      <td>0</td>\n",
       "      <td>4</td>\n",
       "      <td>8</td>\n",
       "      <td>1290</td>\n",
       "      <td>650</td>\n",
       "      <td>1963</td>\n",
       "      <td>0</td>\n",
       "      <td>47.5586</td>\n",
       "      <td>-122.173</td>\n",
       "    </tr>\n",
       "    <tr>\n",
       "      <th>4</th>\n",
       "      <td>3</td>\n",
       "      <td>2.75</td>\n",
       "      <td>3450</td>\n",
       "      <td>5350</td>\n",
       "      <td>1.5</td>\n",
       "      <td>0</td>\n",
       "      <td>3</td>\n",
       "      <td>4</td>\n",
       "      <td>9</td>\n",
       "      <td>2590</td>\n",
       "      <td>860</td>\n",
       "      <td>1925</td>\n",
       "      <td>0</td>\n",
       "      <td>47.6389</td>\n",
       "      <td>-122.407</td>\n",
       "    </tr>\n",
       "    <tr>\n",
       "      <th>5</th>\n",
       "      <td>3</td>\n",
       "      <td>2.25</td>\n",
       "      <td>2300</td>\n",
       "      <td>9914</td>\n",
       "      <td>2.0</td>\n",
       "      <td>0</td>\n",
       "      <td>0</td>\n",
       "      <td>4</td>\n",
       "      <td>8</td>\n",
       "      <td>2300</td>\n",
       "      <td>0</td>\n",
       "      <td>1980</td>\n",
       "      <td>0</td>\n",
       "      <td>47.5677</td>\n",
       "      <td>-122.086</td>\n",
       "    </tr>\n",
       "    <tr>\n",
       "      <th>6</th>\n",
       "      <td>3</td>\n",
       "      <td>2.50</td>\n",
       "      <td>2770</td>\n",
       "      <td>8820</td>\n",
       "      <td>1.0</td>\n",
       "      <td>0</td>\n",
       "      <td>0</td>\n",
       "      <td>3</td>\n",
       "      <td>7</td>\n",
       "      <td>1900</td>\n",
       "      <td>870</td>\n",
       "      <td>1980</td>\n",
       "      <td>2004</td>\n",
       "      <td>47.3685</td>\n",
       "      <td>-122.048</td>\n",
       "    </tr>\n",
       "    <tr>\n",
       "      <th>7</th>\n",
       "      <td>2</td>\n",
       "      <td>1.75</td>\n",
       "      <td>1650</td>\n",
       "      <td>7500</td>\n",
       "      <td>1.0</td>\n",
       "      <td>0</td>\n",
       "      <td>0</td>\n",
       "      <td>4</td>\n",
       "      <td>7</td>\n",
       "      <td>1000</td>\n",
       "      <td>650</td>\n",
       "      <td>1959</td>\n",
       "      <td>0</td>\n",
       "      <td>47.6871</td>\n",
       "      <td>-122.207</td>\n",
       "    </tr>\n",
       "    <tr>\n",
       "      <th>8</th>\n",
       "      <td>1</td>\n",
       "      <td>1.00</td>\n",
       "      <td>580</td>\n",
       "      <td>1799</td>\n",
       "      <td>1.0</td>\n",
       "      <td>0</td>\n",
       "      <td>0</td>\n",
       "      <td>3</td>\n",
       "      <td>7</td>\n",
       "      <td>580</td>\n",
       "      <td>0</td>\n",
       "      <td>1908</td>\n",
       "      <td>2005</td>\n",
       "      <td>47.6829</td>\n",
       "      <td>-122.375</td>\n",
       "    </tr>\n",
       "    <tr>\n",
       "      <th>9</th>\n",
       "      <td>2</td>\n",
       "      <td>1.00</td>\n",
       "      <td>900</td>\n",
       "      <td>3400</td>\n",
       "      <td>1.0</td>\n",
       "      <td>0</td>\n",
       "      <td>0</td>\n",
       "      <td>5</td>\n",
       "      <td>6</td>\n",
       "      <td>900</td>\n",
       "      <td>0</td>\n",
       "      <td>1905</td>\n",
       "      <td>0</td>\n",
       "      <td>47.5269</td>\n",
       "      <td>-122.314</td>\n",
       "    </tr>\n",
       "  </tbody>\n",
       "</table>\n",
       "</div>"
      ],
      "text/plain": [
       "   Спальни  Ванные  Жилая площадь  Общая площадь  Количество этажей  \\\n",
       "0        5    3.50           3490          21780                2.0   \n",
       "1        4    1.75           2360           7620                1.0   \n",
       "2        6    2.75           2040           8560                1.0   \n",
       "3        3    1.75           1940           8376                1.0   \n",
       "4        3    2.75           3450           5350                1.5   \n",
       "5        3    2.25           2300           9914                2.0   \n",
       "6        3    2.50           2770           8820                1.0   \n",
       "7        2    1.75           1650           7500                1.0   \n",
       "8        1    1.00            580           1799                1.0   \n",
       "9        2    1.00            900           3400                1.0   \n",
       "\n",
       "   Вид на воду  Просмотрены ранее  Состояние  Оценка риелтора  \\\n",
       "0            0                  0          3                8   \n",
       "1            0                  0          4                7   \n",
       "2            0                  2          4                7   \n",
       "3            0                  0          4                8   \n",
       "4            0                  3          4                9   \n",
       "5            0                  0          4                8   \n",
       "6            0                  0          3                7   \n",
       "7            0                  0          4                7   \n",
       "8            0                  0          3                7   \n",
       "9            0                  0          5                6   \n",
       "\n",
       "   Площадь без подвала  Площадь подвала  Год постройки  Год реновации  \\\n",
       "0                 3490                0           1996              0   \n",
       "1                 1180             1180           1955              0   \n",
       "2                 1100              940           1961              0   \n",
       "3                 1290              650           1963              0   \n",
       "4                 2590              860           1925              0   \n",
       "5                 2300                0           1980              0   \n",
       "6                 1900              870           1980           2004   \n",
       "7                 1000              650           1959              0   \n",
       "8                  580                0           1908           2005   \n",
       "9                  900                0           1905              0   \n",
       "\n",
       "    Широта  Долгота  \n",
       "0  47.6707 -122.144  \n",
       "1  47.5278 -122.345  \n",
       "2  47.6160 -122.115  \n",
       "3  47.5586 -122.173  \n",
       "4  47.6389 -122.407  \n",
       "5  47.5677 -122.086  \n",
       "6  47.3685 -122.048  \n",
       "7  47.6871 -122.207  \n",
       "8  47.6829 -122.375  \n",
       "9  47.5269 -122.314  "
      ]
     },
     "execution_count": 358,
     "metadata": {},
     "output_type": "execute_result"
    }
   ],
   "source": [
    "training_points.head(10)"
   ]
  },
  {
   "cell_type": "markdown",
   "metadata": {
    "id": "g-MGwOMxLqdG"
   },
   "source": [
    "Рассмотрим столбец \"Год реновации\". Он содержит много нулей и мало реальных данных о годах, что как раз свидетельствует о том, что в этих данных изначально были пропуски, а к нам они попали уже заполненные нулями. \n",
    "\n",
    "Мы можем посмотреть количество уникальных значений и сколько раз эти значения встречаются в этом столбце. Для этого вызываем метод **value_counts()** у нашего столбца *training_points['Год реновации']*"
   ]
  },
  {
   "cell_type": "code",
   "execution_count": 359,
   "metadata": {
    "colab": {
     "base_uri": "https://localhost:8080/",
     "height": 221
    },
    "id": "vZhcfLFXLqdJ",
    "outputId": "8867051b-d491-45b6-fae0-56506db56896",
    "scrolled": true
   },
   "outputs": [
    {
     "data": {
      "text/plain": [
       "0       14490\n",
       "2014       63\n",
       "2013       31\n",
       "2000       28\n",
       "2003       24\n",
       "        ...  \n",
       "1948        1\n",
       "1950        1\n",
       "1953        1\n",
       "1934        1\n",
       "1955        1\n",
       "Name: Год реновации, Length: 67, dtype: int64"
      ]
     },
     "execution_count": 359,
     "metadata": {},
     "output_type": "execute_result"
    }
   ],
   "source": [
    "training_points['Год реновации'].value_counts()"
   ]
  },
  {
   "cell_type": "markdown",
   "metadata": {
    "id": "DnPPjFtGLqdL"
   },
   "source": [
    "Как видно, нулей существенно больше (14490), чем любых других значений (639), поэтому можем сделать вывод, что этот признак не информативен и может негативно повлиять на качество модели."
   ]
  },
  {
   "cell_type": "markdown",
   "metadata": {
    "id": "7kYhqu9ELqdM"
   },
   "source": [
    "**6.2. Какие признаки самые важные**\n",
    "\n",
    "Ручной перебор признаков невозможен, если их тысячи, кроме того, часто даже эксперты не могут сказать, использование каких признаков в модели даст прирост качества.\n",
    "Кроме ручного перебора всех признаков и их визуального анализа, можно использовать оценку значимости признаков с помощью обученных моделей. "
   ]
  },
  {
   "cell_type": "markdown",
   "metadata": {
    "id": "xMlw49Lxj1Ne"
   },
   "source": [
    "## Задание 3.7 "
   ]
  },
  {
   "cell_type": "code",
   "execution_count": 360,
   "metadata": {
    "id": "TSzXSHgfLqdN"
   },
   "outputs": [],
   "source": [
    "## введите свой код\n",
    "## напишите код, который вычисляет значимость признака (фактически это просто вес по модулю)"
   ]
  },
  {
   "cell_type": "markdown",
   "metadata": {
    "id": "zyK1fI42LqdT"
   },
   "source": [
    "Представьте полученные результаты в более удобном табличном виде. Создайте пустую таблицу *feature_importance* с двумя колонками \"Название признака\", \"Важность признака\". Для этого воспользуемся функцией **DataFrame()** из библиотеки pandas и передадим ей в качестве аргумента   \n",
    "*columns = [\"Название признака\", \"Важность признака\"]*"
   ]
  },
  {
   "cell_type": "code",
   "execution_count": 361,
   "metadata": {
    "id": "H2a9uu6YLqdT"
   },
   "outputs": [],
   "source": [
    "feature_importance = pd.DataFrame(columns = ['Название признака', 'Важность признака'])"
   ]
  },
  {
   "cell_type": "markdown",
   "metadata": {
    "id": "2L5zngrOLqdX"
   },
   "source": [
    "Заполните соответствующие колонки значениями, которые мы получили выше. "
   ]
  },
  {
   "cell_type": "code",
   "execution_count": 372,
   "metadata": {},
   "outputs": [
    {
     "data": {
      "text/plain": [
       "array([-3.37568700e+04,  4.31210151e+04,  1.15347631e+02, -4.72733343e-02,\n",
       "       -6.33671614e+03,  5.91890463e+05,  4.97598815e+04,  3.21627978e+04,\n",
       "        9.96353171e+04,  7.99725607e+01,  3.53750699e+01, -2.44905828e+03,\n",
       "        2.45690914e+01,  5.70765126e+05, -1.08281940e+05])"
      ]
     },
     "execution_count": 372,
     "metadata": {},
     "output_type": "execute_result"
    }
   ],
   "source": [
    "linear_regression_model.coef_"
   ]
  },
  {
   "cell_type": "code",
   "execution_count": 377,
   "metadata": {},
   "outputs": [],
   "source": [
    "feature_importance['Название признака'] = training_points.columns\n",
    "feature_importance['Важность признака'] = abs(linear_regression_model.coef_)"
   ]
  },
  {
   "cell_type": "code",
   "execution_count": 378,
   "metadata": {
    "colab": {
     "base_uri": "https://localhost:8080/",
     "height": 49
    },
    "id": "gb3TXJEbLqdZ",
    "outputId": "6bf72c84-b6cb-4bc5-bb7e-1efaa88faa5a"
   },
   "outputs": [
    {
     "data": {
      "text/html": [
       "<div>\n",
       "<style scoped>\n",
       "    .dataframe tbody tr th:only-of-type {\n",
       "        vertical-align: middle;\n",
       "    }\n",
       "\n",
       "    .dataframe tbody tr th {\n",
       "        vertical-align: top;\n",
       "    }\n",
       "\n",
       "    .dataframe thead th {\n",
       "        text-align: right;\n",
       "    }\n",
       "</style>\n",
       "<table border=\"1\" class=\"dataframe\">\n",
       "  <thead>\n",
       "    <tr style=\"text-align: right;\">\n",
       "      <th></th>\n",
       "      <th>Название признака</th>\n",
       "      <th>Важность признака</th>\n",
       "    </tr>\n",
       "  </thead>\n",
       "  <tbody>\n",
       "    <tr>\n",
       "      <th>0</th>\n",
       "      <td>Спальни</td>\n",
       "      <td>33756.870035</td>\n",
       "    </tr>\n",
       "    <tr>\n",
       "      <th>1</th>\n",
       "      <td>Ванные</td>\n",
       "      <td>43121.015073</td>\n",
       "    </tr>\n",
       "    <tr>\n",
       "      <th>2</th>\n",
       "      <td>Жилая площадь</td>\n",
       "      <td>115.347631</td>\n",
       "    </tr>\n",
       "    <tr>\n",
       "      <th>3</th>\n",
       "      <td>Общая площадь</td>\n",
       "      <td>0.047273</td>\n",
       "    </tr>\n",
       "    <tr>\n",
       "      <th>4</th>\n",
       "      <td>Количество этажей</td>\n",
       "      <td>6336.716142</td>\n",
       "    </tr>\n",
       "    <tr>\n",
       "      <th>5</th>\n",
       "      <td>Вид на воду</td>\n",
       "      <td>591890.462867</td>\n",
       "    </tr>\n",
       "    <tr>\n",
       "      <th>6</th>\n",
       "      <td>Просмотрены ранее</td>\n",
       "      <td>49759.881549</td>\n",
       "    </tr>\n",
       "    <tr>\n",
       "      <th>7</th>\n",
       "      <td>Состояние</td>\n",
       "      <td>32162.797820</td>\n",
       "    </tr>\n",
       "    <tr>\n",
       "      <th>8</th>\n",
       "      <td>Оценка риелтора</td>\n",
       "      <td>99635.317145</td>\n",
       "    </tr>\n",
       "    <tr>\n",
       "      <th>9</th>\n",
       "      <td>Площадь без подвала</td>\n",
       "      <td>79.972561</td>\n",
       "    </tr>\n",
       "    <tr>\n",
       "      <th>10</th>\n",
       "      <td>Площадь подвала</td>\n",
       "      <td>35.375070</td>\n",
       "    </tr>\n",
       "    <tr>\n",
       "      <th>11</th>\n",
       "      <td>Год постройки</td>\n",
       "      <td>2449.058277</td>\n",
       "    </tr>\n",
       "    <tr>\n",
       "      <th>12</th>\n",
       "      <td>Год реновации</td>\n",
       "      <td>24.569091</td>\n",
       "    </tr>\n",
       "    <tr>\n",
       "      <th>13</th>\n",
       "      <td>Широта</td>\n",
       "      <td>570765.125799</td>\n",
       "    </tr>\n",
       "    <tr>\n",
       "      <th>14</th>\n",
       "      <td>Долгота</td>\n",
       "      <td>108281.940471</td>\n",
       "    </tr>\n",
       "  </tbody>\n",
       "</table>\n",
       "</div>"
      ],
      "text/plain": [
       "      Название признака  Важность признака\n",
       "0               Спальни       33756.870035\n",
       "1                Ванные       43121.015073\n",
       "2         Жилая площадь         115.347631\n",
       "3         Общая площадь           0.047273\n",
       "4     Количество этажей        6336.716142\n",
       "5           Вид на воду      591890.462867\n",
       "6     Просмотрены ранее       49759.881549\n",
       "7             Состояние       32162.797820\n",
       "8       Оценка риелтора       99635.317145\n",
       "9   Площадь без подвала          79.972561\n",
       "10      Площадь подвала          35.375070\n",
       "11        Год постройки        2449.058277\n",
       "12        Год реновации          24.569091\n",
       "13               Широта      570765.125799\n",
       "14              Долгота      108281.940471"
      ]
     },
     "execution_count": 378,
     "metadata": {},
     "output_type": "execute_result"
    }
   ],
   "source": [
    "# выведите полученную таблицу\n",
    "feature_importance"
   ]
  },
  {
   "cell_type": "markdown",
   "metadata": {
    "id": "HCqhWnNtLqdb"
   },
   "source": [
    "Мы можем отсортировать значения по важности, вызвав у *feature_importance* метод **sort_values()**.\n",
    "\n",
    "Обратите внимание, что в данном случае мы передаем два аргумента:\n",
    "\n",
    "1. by='Важность признака' - название столбца, по которому мы сортируем\n",
    "2. ascending=False - означает, что мы сортируем по убиыванию, а в случае ascending=True сортировка будет по возростанию"
   ]
  },
  {
   "cell_type": "code",
   "execution_count": 379,
   "metadata": {
    "colab": {
     "base_uri": "https://localhost:8080/",
     "height": 49
    },
    "id": "uAOXjcAxLqdb",
    "outputId": "921a2ff0-9bfa-4551-debb-190f85f43399"
   },
   "outputs": [
    {
     "data": {
      "text/html": [
       "<div>\n",
       "<style scoped>\n",
       "    .dataframe tbody tr th:only-of-type {\n",
       "        vertical-align: middle;\n",
       "    }\n",
       "\n",
       "    .dataframe tbody tr th {\n",
       "        vertical-align: top;\n",
       "    }\n",
       "\n",
       "    .dataframe thead th {\n",
       "        text-align: right;\n",
       "    }\n",
       "</style>\n",
       "<table border=\"1\" class=\"dataframe\">\n",
       "  <thead>\n",
       "    <tr style=\"text-align: right;\">\n",
       "      <th></th>\n",
       "      <th>Название признака</th>\n",
       "      <th>Важность признака</th>\n",
       "    </tr>\n",
       "  </thead>\n",
       "  <tbody>\n",
       "    <tr>\n",
       "      <th>5</th>\n",
       "      <td>Вид на воду</td>\n",
       "      <td>591890.462867</td>\n",
       "    </tr>\n",
       "    <tr>\n",
       "      <th>13</th>\n",
       "      <td>Широта</td>\n",
       "      <td>570765.125799</td>\n",
       "    </tr>\n",
       "    <tr>\n",
       "      <th>14</th>\n",
       "      <td>Долгота</td>\n",
       "      <td>108281.940471</td>\n",
       "    </tr>\n",
       "    <tr>\n",
       "      <th>8</th>\n",
       "      <td>Оценка риелтора</td>\n",
       "      <td>99635.317145</td>\n",
       "    </tr>\n",
       "    <tr>\n",
       "      <th>6</th>\n",
       "      <td>Просмотрены ранее</td>\n",
       "      <td>49759.881549</td>\n",
       "    </tr>\n",
       "    <tr>\n",
       "      <th>1</th>\n",
       "      <td>Ванные</td>\n",
       "      <td>43121.015073</td>\n",
       "    </tr>\n",
       "    <tr>\n",
       "      <th>0</th>\n",
       "      <td>Спальни</td>\n",
       "      <td>33756.870035</td>\n",
       "    </tr>\n",
       "    <tr>\n",
       "      <th>7</th>\n",
       "      <td>Состояние</td>\n",
       "      <td>32162.797820</td>\n",
       "    </tr>\n",
       "    <tr>\n",
       "      <th>4</th>\n",
       "      <td>Количество этажей</td>\n",
       "      <td>6336.716142</td>\n",
       "    </tr>\n",
       "    <tr>\n",
       "      <th>11</th>\n",
       "      <td>Год постройки</td>\n",
       "      <td>2449.058277</td>\n",
       "    </tr>\n",
       "    <tr>\n",
       "      <th>2</th>\n",
       "      <td>Жилая площадь</td>\n",
       "      <td>115.347631</td>\n",
       "    </tr>\n",
       "    <tr>\n",
       "      <th>9</th>\n",
       "      <td>Площадь без подвала</td>\n",
       "      <td>79.972561</td>\n",
       "    </tr>\n",
       "    <tr>\n",
       "      <th>10</th>\n",
       "      <td>Площадь подвала</td>\n",
       "      <td>35.375070</td>\n",
       "    </tr>\n",
       "    <tr>\n",
       "      <th>12</th>\n",
       "      <td>Год реновации</td>\n",
       "      <td>24.569091</td>\n",
       "    </tr>\n",
       "    <tr>\n",
       "      <th>3</th>\n",
       "      <td>Общая площадь</td>\n",
       "      <td>0.047273</td>\n",
       "    </tr>\n",
       "  </tbody>\n",
       "</table>\n",
       "</div>"
      ],
      "text/plain": [
       "      Название признака  Важность признака\n",
       "5           Вид на воду      591890.462867\n",
       "13               Широта      570765.125799\n",
       "14              Долгота      108281.940471\n",
       "8       Оценка риелтора       99635.317145\n",
       "6     Просмотрены ранее       49759.881549\n",
       "1                Ванные       43121.015073\n",
       "0               Спальни       33756.870035\n",
       "7             Состояние       32162.797820\n",
       "4     Количество этажей        6336.716142\n",
       "11        Год постройки        2449.058277\n",
       "2         Жилая площадь         115.347631\n",
       "9   Площадь без подвала          79.972561\n",
       "10      Площадь подвала          35.375070\n",
       "12        Год реновации          24.569091\n",
       "3         Общая площадь           0.047273"
      ]
     },
     "execution_count": 379,
     "metadata": {},
     "output_type": "execute_result"
    }
   ],
   "source": [
    "feature_importance.sort_values(by='Важность признака', ascending=False)"
   ]
  },
  {
   "cell_type": "markdown",
   "metadata": {
    "id": "y1W41te9H0CG"
   },
   "source": [
    "## Задание 3.8. \n",
    "\n",
    "Напомню исходную постановку задачи. Мы говорили о том, что оценка цены на недвижимость может быть нужна для выявления аномально низких цен на объект недвижимости. Давайте попробуем найти такие в датасете."
   ]
  },
  {
   "cell_type": "code",
   "execution_count": 53,
   "metadata": {},
   "outputs": [],
   "source": [
    "outliers = []\n",
    "for i in range(len(test_predictions_linear)):\n",
    "    diff = test_predictions_linear[i] - test_values\n",
    "#     print(diff)\n",
    "    if diff[i] > 100000:\n",
    "        outliers.append(i)"
   ]
  },
  {
   "cell_type": "code",
   "execution_count": 54,
   "metadata": {
    "scrolled": true
   },
   "outputs": [
    {
     "data": {
      "text/plain": [
       "0.239"
      ]
     },
     "execution_count": 54,
     "metadata": {},
     "output_type": "execute_result"
    }
   ],
   "source": [
    "round(len(outliers)/len(test_predictions_linear), 3)"
   ]
  },
  {
   "cell_type": "markdown",
   "metadata": {},
   "source": [
    "У почти каждого 4 объекта из тестовой выборки цена на 100000 у.е. ниже, чем предсказывает модель"
   ]
  },
  {
   "cell_type": "markdown",
   "metadata": {},
   "source": [
    "Попробуем применить полиномиальную регрессию, может наш результат будет лучше"
   ]
  },
  {
   "cell_type": "code",
   "execution_count": 29,
   "metadata": {},
   "outputs": [],
   "source": [
    "from sklearn.preprocessing import PolynomialFeatures"
   ]
  },
  {
   "cell_type": "code",
   "execution_count": 41,
   "metadata": {},
   "outputs": [],
   "source": [
    "poly = PolynomialFeatures(3)\n",
    "X_train = poly.fit_transform(training_points)\n",
    "X_test = poly.fit_transform(test_points)"
   ]
  },
  {
   "cell_type": "code",
   "execution_count": 42,
   "metadata": {},
   "outputs": [],
   "source": [
    "from sklearn.linear_model import LinearRegression"
   ]
  },
  {
   "cell_type": "code",
   "execution_count": 43,
   "metadata": {
    "scrolled": true
   },
   "outputs": [],
   "source": [
    "reg = LinearRegression(n_jobs=-1)"
   ]
  },
  {
   "cell_type": "code",
   "execution_count": 44,
   "metadata": {},
   "outputs": [
    {
     "data": {
      "text/plain": [
       "LinearRegression(n_jobs=-1)"
      ]
     },
     "execution_count": 44,
     "metadata": {},
     "output_type": "execute_result"
    }
   ],
   "source": [
    "reg.fit(X_train, training_values)"
   ]
  },
  {
   "cell_type": "code",
   "execution_count": 45,
   "metadata": {},
   "outputs": [],
   "source": [
    "y_predicted = reg.predict(X_test)"
   ]
  },
  {
   "cell_type": "code",
   "execution_count": 46,
   "metadata": {},
   "outputs": [
    {
     "data": {
      "text/plain": [
       "55675393169.29637"
      ]
     },
     "execution_count": 46,
     "metadata": {},
     "output_type": "execute_result"
    }
   ],
   "source": [
    "mean_squared_error(test_values, y_predicted)"
   ]
  },
  {
   "cell_type": "markdown",
   "metadata": {},
   "source": [
    "У той модели было 40756843765.10092"
   ]
  },
  {
   "cell_type": "code",
   "execution_count": 47,
   "metadata": {},
   "outputs": [
    {
     "data": {
      "text/plain": [
       "201883.24290317143"
      ]
     },
     "execution_count": 47,
     "metadata": {},
     "output_type": "execute_result"
    }
   ],
   "source": [
    "(40756843765.10092)**(1/2)"
   ]
  },
  {
   "cell_type": "code",
   "execution_count": 49,
   "metadata": {},
   "outputs": [
    {
     "data": {
      "text/plain": [
       "235956.3374213466"
      ]
     },
     "execution_count": 49,
     "metadata": {},
     "output_type": "execute_result"
    }
   ],
   "source": [
    "(55675393169.29637)**(1/2)"
   ]
  },
  {
   "cell_type": "markdown",
   "metadata": {},
   "source": [
    "Моделька хуже работает с полиномиальными признаками\n",
    "Вернёмся к обычной"
   ]
  },
  {
   "cell_type": "code",
   "execution_count": 59,
   "metadata": {},
   "outputs": [
    {
     "data": {
      "text/html": [
       "<div>\n",
       "<style scoped>\n",
       "    .dataframe tbody tr th:only-of-type {\n",
       "        vertical-align: middle;\n",
       "    }\n",
       "\n",
       "    .dataframe tbody tr th {\n",
       "        vertical-align: top;\n",
       "    }\n",
       "\n",
       "    .dataframe thead th {\n",
       "        text-align: right;\n",
       "    }\n",
       "</style>\n",
       "<table border=\"1\" class=\"dataframe\">\n",
       "  <thead>\n",
       "    <tr style=\"text-align: right;\">\n",
       "      <th></th>\n",
       "      <th>Целевая.Цена</th>\n",
       "      <th>Спальни</th>\n",
       "      <th>Ванные</th>\n",
       "      <th>Жилая площадь</th>\n",
       "      <th>Общая площадь</th>\n",
       "      <th>Количество этажей</th>\n",
       "      <th>Вид на воду</th>\n",
       "      <th>Просмотрены ранее</th>\n",
       "      <th>Состояние</th>\n",
       "      <th>Оценка риелтора</th>\n",
       "      <th>Площадь без подвала</th>\n",
       "      <th>Площадь подвала</th>\n",
       "      <th>Год постройки</th>\n",
       "      <th>Год реновации</th>\n",
       "      <th>Широта</th>\n",
       "      <th>Долгота</th>\n",
       "    </tr>\n",
       "  </thead>\n",
       "  <tbody>\n",
       "    <tr>\n",
       "      <th>1</th>\n",
       "      <td>734500</td>\n",
       "      <td>4</td>\n",
       "      <td>2.75</td>\n",
       "      <td>3280</td>\n",
       "      <td>6845</td>\n",
       "      <td>2.0</td>\n",
       "      <td>0</td>\n",
       "      <td>0</td>\n",
       "      <td>3</td>\n",
       "      <td>10</td>\n",
       "      <td>3280</td>\n",
       "      <td>0</td>\n",
       "      <td>2003</td>\n",
       "      <td>0</td>\n",
       "      <td>47.7042</td>\n",
       "      <td>-122.107</td>\n",
       "    </tr>\n",
       "    <tr>\n",
       "      <th>2</th>\n",
       "      <td>325000</td>\n",
       "      <td>1</td>\n",
       "      <td>1.00</td>\n",
       "      <td>1220</td>\n",
       "      <td>12426</td>\n",
       "      <td>1.0</td>\n",
       "      <td>0</td>\n",
       "      <td>4</td>\n",
       "      <td>4</td>\n",
       "      <td>6</td>\n",
       "      <td>1220</td>\n",
       "      <td>0</td>\n",
       "      <td>1946</td>\n",
       "      <td>0</td>\n",
       "      <td>47.4047</td>\n",
       "      <td>-122.331</td>\n",
       "    </tr>\n",
       "    <tr>\n",
       "      <th>7</th>\n",
       "      <td>424240</td>\n",
       "      <td>3</td>\n",
       "      <td>2.00</td>\n",
       "      <td>2080</td>\n",
       "      <td>12094</td>\n",
       "      <td>2.0</td>\n",
       "      <td>0</td>\n",
       "      <td>0</td>\n",
       "      <td>4</td>\n",
       "      <td>8</td>\n",
       "      <td>2080</td>\n",
       "      <td>0</td>\n",
       "      <td>1982</td>\n",
       "      <td>0</td>\n",
       "      <td>47.7035</td>\n",
       "      <td>-122.164</td>\n",
       "    </tr>\n",
       "    <tr>\n",
       "      <th>10</th>\n",
       "      <td>325000</td>\n",
       "      <td>2</td>\n",
       "      <td>2.00</td>\n",
       "      <td>1040</td>\n",
       "      <td>5796</td>\n",
       "      <td>1.0</td>\n",
       "      <td>0</td>\n",
       "      <td>2</td>\n",
       "      <td>4</td>\n",
       "      <td>6</td>\n",
       "      <td>1040</td>\n",
       "      <td>0</td>\n",
       "      <td>1921</td>\n",
       "      <td>0</td>\n",
       "      <td>47.7362</td>\n",
       "      <td>-122.290</td>\n",
       "    </tr>\n",
       "    <tr>\n",
       "      <th>13</th>\n",
       "      <td>424950</td>\n",
       "      <td>5</td>\n",
       "      <td>3.50</td>\n",
       "      <td>2760</td>\n",
       "      <td>3846</td>\n",
       "      <td>2.5</td>\n",
       "      <td>0</td>\n",
       "      <td>0</td>\n",
       "      <td>3</td>\n",
       "      <td>8</td>\n",
       "      <td>2760</td>\n",
       "      <td>0</td>\n",
       "      <td>2013</td>\n",
       "      <td>0</td>\n",
       "      <td>47.5047</td>\n",
       "      <td>-122.170</td>\n",
       "    </tr>\n",
       "    <tr>\n",
       "      <th>...</th>\n",
       "      <td>...</td>\n",
       "      <td>...</td>\n",
       "      <td>...</td>\n",
       "      <td>...</td>\n",
       "      <td>...</td>\n",
       "      <td>...</td>\n",
       "      <td>...</td>\n",
       "      <td>...</td>\n",
       "      <td>...</td>\n",
       "      <td>...</td>\n",
       "      <td>...</td>\n",
       "      <td>...</td>\n",
       "      <td>...</td>\n",
       "      <td>...</td>\n",
       "      <td>...</td>\n",
       "      <td>...</td>\n",
       "    </tr>\n",
       "    <tr>\n",
       "      <th>6474</th>\n",
       "      <td>369900</td>\n",
       "      <td>2</td>\n",
       "      <td>2.50</td>\n",
       "      <td>1770</td>\n",
       "      <td>1853</td>\n",
       "      <td>3.0</td>\n",
       "      <td>0</td>\n",
       "      <td>0</td>\n",
       "      <td>3</td>\n",
       "      <td>8</td>\n",
       "      <td>1770</td>\n",
       "      <td>0</td>\n",
       "      <td>2007</td>\n",
       "      <td>0</td>\n",
       "      <td>47.5472</td>\n",
       "      <td>-122.371</td>\n",
       "    </tr>\n",
       "    <tr>\n",
       "      <th>6476</th>\n",
       "      <td>557500</td>\n",
       "      <td>3</td>\n",
       "      <td>2.50</td>\n",
       "      <td>2620</td>\n",
       "      <td>11056</td>\n",
       "      <td>2.0</td>\n",
       "      <td>0</td>\n",
       "      <td>0</td>\n",
       "      <td>3</td>\n",
       "      <td>9</td>\n",
       "      <td>2620</td>\n",
       "      <td>0</td>\n",
       "      <td>1988</td>\n",
       "      <td>0</td>\n",
       "      <td>47.7378</td>\n",
       "      <td>-122.218</td>\n",
       "    </tr>\n",
       "    <tr>\n",
       "      <th>6477</th>\n",
       "      <td>425000</td>\n",
       "      <td>3</td>\n",
       "      <td>2.50</td>\n",
       "      <td>2670</td>\n",
       "      <td>13218</td>\n",
       "      <td>1.0</td>\n",
       "      <td>0</td>\n",
       "      <td>0</td>\n",
       "      <td>4</td>\n",
       "      <td>10</td>\n",
       "      <td>2670</td>\n",
       "      <td>0</td>\n",
       "      <td>1988</td>\n",
       "      <td>0</td>\n",
       "      <td>47.3683</td>\n",
       "      <td>-122.153</td>\n",
       "    </tr>\n",
       "    <tr>\n",
       "      <th>6478</th>\n",
       "      <td>515000</td>\n",
       "      <td>4</td>\n",
       "      <td>2.50</td>\n",
       "      <td>2670</td>\n",
       "      <td>8765</td>\n",
       "      <td>2.0</td>\n",
       "      <td>0</td>\n",
       "      <td>0</td>\n",
       "      <td>3</td>\n",
       "      <td>9</td>\n",
       "      <td>2670</td>\n",
       "      <td>0</td>\n",
       "      <td>2006</td>\n",
       "      <td>0</td>\n",
       "      <td>47.4876</td>\n",
       "      <td>-122.146</td>\n",
       "    </tr>\n",
       "    <tr>\n",
       "      <th>6479</th>\n",
       "      <td>600000</td>\n",
       "      <td>5</td>\n",
       "      <td>3.25</td>\n",
       "      <td>4410</td>\n",
       "      <td>58157</td>\n",
       "      <td>2.0</td>\n",
       "      <td>0</td>\n",
       "      <td>0</td>\n",
       "      <td>4</td>\n",
       "      <td>9</td>\n",
       "      <td>2330</td>\n",
       "      <td>2080</td>\n",
       "      <td>2001</td>\n",
       "      <td>0</td>\n",
       "      <td>47.4395</td>\n",
       "      <td>-122.111</td>\n",
       "    </tr>\n",
       "  </tbody>\n",
       "</table>\n",
       "<p>1548 rows × 16 columns</p>\n",
       "</div>"
      ],
      "text/plain": [
       "      Целевая.Цена  Спальни  Ванные  Жилая площадь  Общая площадь  \\\n",
       "1           734500        4    2.75           3280           6845   \n",
       "2           325000        1    1.00           1220          12426   \n",
       "7           424240        3    2.00           2080          12094   \n",
       "10          325000        2    2.00           1040           5796   \n",
       "13          424950        5    3.50           2760           3846   \n",
       "...            ...      ...     ...            ...            ...   \n",
       "6474        369900        2    2.50           1770           1853   \n",
       "6476        557500        3    2.50           2620          11056   \n",
       "6477        425000        3    2.50           2670          13218   \n",
       "6478        515000        4    2.50           2670           8765   \n",
       "6479        600000        5    3.25           4410          58157   \n",
       "\n",
       "      Количество этажей  Вид на воду  Просмотрены ранее  Состояние  \\\n",
       "1                   2.0            0                  0          3   \n",
       "2                   1.0            0                  4          4   \n",
       "7                   2.0            0                  0          4   \n",
       "10                  1.0            0                  2          4   \n",
       "13                  2.5            0                  0          3   \n",
       "...                 ...          ...                ...        ...   \n",
       "6474                3.0            0                  0          3   \n",
       "6476                2.0            0                  0          3   \n",
       "6477                1.0            0                  0          4   \n",
       "6478                2.0            0                  0          3   \n",
       "6479                2.0            0                  0          4   \n",
       "\n",
       "      Оценка риелтора  Площадь без подвала  Площадь подвала  Год постройки  \\\n",
       "1                  10                 3280                0           2003   \n",
       "2                   6                 1220                0           1946   \n",
       "7                   8                 2080                0           1982   \n",
       "10                  6                 1040                0           1921   \n",
       "13                  8                 2760                0           2013   \n",
       "...               ...                  ...              ...            ...   \n",
       "6474                8                 1770                0           2007   \n",
       "6476                9                 2620                0           1988   \n",
       "6477               10                 2670                0           1988   \n",
       "6478                9                 2670                0           2006   \n",
       "6479                9                 2330             2080           2001   \n",
       "\n",
       "      Год реновации   Широта  Долгота  \n",
       "1                 0  47.7042 -122.107  \n",
       "2                 0  47.4047 -122.331  \n",
       "7                 0  47.7035 -122.164  \n",
       "10                0  47.7362 -122.290  \n",
       "13                0  47.5047 -122.170  \n",
       "...             ...      ...      ...  \n",
       "6474              0  47.5472 -122.371  \n",
       "6476              0  47.7378 -122.218  \n",
       "6477              0  47.3683 -122.153  \n",
       "6478              0  47.4876 -122.146  \n",
       "6479              0  47.4395 -122.111  \n",
       "\n",
       "[1548 rows x 16 columns]"
      ]
     },
     "execution_count": 59,
     "metadata": {},
     "output_type": "execute_result"
    }
   ],
   "source": [
    "test_data.iloc[outliers]"
   ]
  },
  {
   "cell_type": "code",
   "execution_count": 110,
   "metadata": {},
   "outputs": [],
   "source": [
    "# Посмотрим у кого стоимость ниже на 500 тысяч у.е.\n",
    "outliers = []\n",
    "for i in range(len(test_predictions_linear)):\n",
    "    diff = test_predictions_linear[i] - test_values\n",
    "#     print(diff)\n",
    "    if diff[i] > 5e+5:\n",
    "        outliers.append(i)"
   ]
  },
  {
   "cell_type": "code",
   "execution_count": 111,
   "metadata": {},
   "outputs": [
    {
     "data": {
      "text/plain": [
       "29"
      ]
     },
     "execution_count": 111,
     "metadata": {},
     "output_type": "execute_result"
    }
   ],
   "source": [
    "len(outliers)"
   ]
  },
  {
   "cell_type": "code",
   "execution_count": 112,
   "metadata": {},
   "outputs": [
    {
     "data": {
      "text/html": [
       "<div>\n",
       "<style scoped>\n",
       "    .dataframe tbody tr th:only-of-type {\n",
       "        vertical-align: middle;\n",
       "    }\n",
       "\n",
       "    .dataframe tbody tr th {\n",
       "        vertical-align: top;\n",
       "    }\n",
       "\n",
       "    .dataframe thead th {\n",
       "        text-align: right;\n",
       "    }\n",
       "</style>\n",
       "<table border=\"1\" class=\"dataframe\">\n",
       "  <thead>\n",
       "    <tr style=\"text-align: right;\">\n",
       "      <th></th>\n",
       "      <th>Целевая.Цена</th>\n",
       "      <th>Спальни</th>\n",
       "      <th>Ванные</th>\n",
       "      <th>Жилая площадь</th>\n",
       "      <th>Общая площадь</th>\n",
       "      <th>Количество этажей</th>\n",
       "      <th>Вид на воду</th>\n",
       "      <th>Просмотрены ранее</th>\n",
       "      <th>Состояние</th>\n",
       "      <th>Оценка риелтора</th>\n",
       "      <th>Площадь без подвала</th>\n",
       "      <th>Площадь подвала</th>\n",
       "      <th>Год постройки</th>\n",
       "      <th>Год реновации</th>\n",
       "      <th>Широта</th>\n",
       "      <th>Долгота</th>\n",
       "    </tr>\n",
       "  </thead>\n",
       "  <tbody>\n",
       "    <tr>\n",
       "      <th>277</th>\n",
       "      <td>500000</td>\n",
       "      <td>2</td>\n",
       "      <td>1.00</td>\n",
       "      <td>1760</td>\n",
       "      <td>27332</td>\n",
       "      <td>1.0</td>\n",
       "      <td>1</td>\n",
       "      <td>4</td>\n",
       "      <td>4</td>\n",
       "      <td>7</td>\n",
       "      <td>1300</td>\n",
       "      <td>460</td>\n",
       "      <td>1951</td>\n",
       "      <td>0</td>\n",
       "      <td>47.3799</td>\n",
       "      <td>-122.325</td>\n",
       "    </tr>\n",
       "    <tr>\n",
       "      <th>632</th>\n",
       "      <td>425000</td>\n",
       "      <td>3</td>\n",
       "      <td>2.75</td>\n",
       "      <td>3610</td>\n",
       "      <td>107386</td>\n",
       "      <td>1.5</td>\n",
       "      <td>1</td>\n",
       "      <td>3</td>\n",
       "      <td>3</td>\n",
       "      <td>8</td>\n",
       "      <td>3130</td>\n",
       "      <td>480</td>\n",
       "      <td>1918</td>\n",
       "      <td>1962</td>\n",
       "      <td>47.3351</td>\n",
       "      <td>-122.362</td>\n",
       "    </tr>\n",
       "    <tr>\n",
       "      <th>706</th>\n",
       "      <td>340500</td>\n",
       "      <td>3</td>\n",
       "      <td>2.50</td>\n",
       "      <td>3070</td>\n",
       "      <td>5871</td>\n",
       "      <td>3.0</td>\n",
       "      <td>0</td>\n",
       "      <td>0</td>\n",
       "      <td>4</td>\n",
       "      <td>8</td>\n",
       "      <td>2510</td>\n",
       "      <td>560</td>\n",
       "      <td>1928</td>\n",
       "      <td>0</td>\n",
       "      <td>47.5007</td>\n",
       "      <td>-122.223</td>\n",
       "    </tr>\n",
       "    <tr>\n",
       "      <th>842</th>\n",
       "      <td>345600</td>\n",
       "      <td>5</td>\n",
       "      <td>3.50</td>\n",
       "      <td>2800</td>\n",
       "      <td>5120</td>\n",
       "      <td>2.5</td>\n",
       "      <td>0</td>\n",
       "      <td>0</td>\n",
       "      <td>3</td>\n",
       "      <td>9</td>\n",
       "      <td>2800</td>\n",
       "      <td>0</td>\n",
       "      <td>1903</td>\n",
       "      <td>2005</td>\n",
       "      <td>47.6059</td>\n",
       "      <td>-122.310</td>\n",
       "    </tr>\n",
       "    <tr>\n",
       "      <th>1032</th>\n",
       "      <td>2280000</td>\n",
       "      <td>7</td>\n",
       "      <td>8.00</td>\n",
       "      <td>13540</td>\n",
       "      <td>307752</td>\n",
       "      <td>3.0</td>\n",
       "      <td>0</td>\n",
       "      <td>4</td>\n",
       "      <td>3</td>\n",
       "      <td>12</td>\n",
       "      <td>9410</td>\n",
       "      <td>4130</td>\n",
       "      <td>1999</td>\n",
       "      <td>0</td>\n",
       "      <td>47.6675</td>\n",
       "      <td>-121.986</td>\n",
       "    </tr>\n",
       "    <tr>\n",
       "      <th>1101</th>\n",
       "      <td>1680000</td>\n",
       "      <td>5</td>\n",
       "      <td>3.50</td>\n",
       "      <td>5170</td>\n",
       "      <td>7197</td>\n",
       "      <td>3.0</td>\n",
       "      <td>1</td>\n",
       "      <td>4</td>\n",
       "      <td>3</td>\n",
       "      <td>11</td>\n",
       "      <td>3520</td>\n",
       "      <td>1650</td>\n",
       "      <td>1998</td>\n",
       "      <td>0</td>\n",
       "      <td>47.7561</td>\n",
       "      <td>-122.271</td>\n",
       "    </tr>\n",
       "    <tr>\n",
       "      <th>1834</th>\n",
       "      <td>540000</td>\n",
       "      <td>7</td>\n",
       "      <td>5.75</td>\n",
       "      <td>3700</td>\n",
       "      <td>7647</td>\n",
       "      <td>2.0</td>\n",
       "      <td>0</td>\n",
       "      <td>1</td>\n",
       "      <td>3</td>\n",
       "      <td>8</td>\n",
       "      <td>3700</td>\n",
       "      <td>0</td>\n",
       "      <td>1948</td>\n",
       "      <td>1984</td>\n",
       "      <td>47.7393</td>\n",
       "      <td>-122.289</td>\n",
       "    </tr>\n",
       "    <tr>\n",
       "      <th>2365</th>\n",
       "      <td>995000</td>\n",
       "      <td>5</td>\n",
       "      <td>4.00</td>\n",
       "      <td>5610</td>\n",
       "      <td>22529</td>\n",
       "      <td>2.0</td>\n",
       "      <td>0</td>\n",
       "      <td>0</td>\n",
       "      <td>3</td>\n",
       "      <td>11</td>\n",
       "      <td>4090</td>\n",
       "      <td>1520</td>\n",
       "      <td>1996</td>\n",
       "      <td>0</td>\n",
       "      <td>47.7239</td>\n",
       "      <td>-122.092</td>\n",
       "    </tr>\n",
       "    <tr>\n",
       "      <th>2426</th>\n",
       "      <td>600000</td>\n",
       "      <td>2</td>\n",
       "      <td>2.25</td>\n",
       "      <td>2320</td>\n",
       "      <td>18919</td>\n",
       "      <td>2.0</td>\n",
       "      <td>1</td>\n",
       "      <td>4</td>\n",
       "      <td>4</td>\n",
       "      <td>8</td>\n",
       "      <td>2320</td>\n",
       "      <td>0</td>\n",
       "      <td>1976</td>\n",
       "      <td>0</td>\n",
       "      <td>47.3905</td>\n",
       "      <td>-122.462</td>\n",
       "    </tr>\n",
       "    <tr>\n",
       "      <th>2739</th>\n",
       "      <td>603500</td>\n",
       "      <td>4</td>\n",
       "      <td>2.50</td>\n",
       "      <td>4060</td>\n",
       "      <td>9734</td>\n",
       "      <td>1.0</td>\n",
       "      <td>0</td>\n",
       "      <td>4</td>\n",
       "      <td>3</td>\n",
       "      <td>9</td>\n",
       "      <td>2150</td>\n",
       "      <td>1910</td>\n",
       "      <td>1977</td>\n",
       "      <td>0</td>\n",
       "      <td>47.7678</td>\n",
       "      <td>-122.254</td>\n",
       "    </tr>\n",
       "    <tr>\n",
       "      <th>2765</th>\n",
       "      <td>357000</td>\n",
       "      <td>3</td>\n",
       "      <td>2.00</td>\n",
       "      <td>2460</td>\n",
       "      <td>53882</td>\n",
       "      <td>1.0</td>\n",
       "      <td>1</td>\n",
       "      <td>4</td>\n",
       "      <td>3</td>\n",
       "      <td>7</td>\n",
       "      <td>2460</td>\n",
       "      <td>0</td>\n",
       "      <td>1955</td>\n",
       "      <td>0</td>\n",
       "      <td>47.3811</td>\n",
       "      <td>-122.325</td>\n",
       "    </tr>\n",
       "    <tr>\n",
       "      <th>3005</th>\n",
       "      <td>440000</td>\n",
       "      <td>3</td>\n",
       "      <td>1.75</td>\n",
       "      <td>2840</td>\n",
       "      <td>16851</td>\n",
       "      <td>1.0</td>\n",
       "      <td>0</td>\n",
       "      <td>3</td>\n",
       "      <td>3</td>\n",
       "      <td>8</td>\n",
       "      <td>1600</td>\n",
       "      <td>1240</td>\n",
       "      <td>1950</td>\n",
       "      <td>0</td>\n",
       "      <td>47.7458</td>\n",
       "      <td>-122.287</td>\n",
       "    </tr>\n",
       "    <tr>\n",
       "      <th>3184</th>\n",
       "      <td>289275</td>\n",
       "      <td>3</td>\n",
       "      <td>2.00</td>\n",
       "      <td>2860</td>\n",
       "      <td>24046</td>\n",
       "      <td>1.0</td>\n",
       "      <td>0</td>\n",
       "      <td>0</td>\n",
       "      <td>3</td>\n",
       "      <td>9</td>\n",
       "      <td>1700</td>\n",
       "      <td>1160</td>\n",
       "      <td>1985</td>\n",
       "      <td>0</td>\n",
       "      <td>47.7718</td>\n",
       "      <td>-121.904</td>\n",
       "    </tr>\n",
       "    <tr>\n",
       "      <th>3314</th>\n",
       "      <td>600000</td>\n",
       "      <td>3</td>\n",
       "      <td>3.00</td>\n",
       "      <td>3530</td>\n",
       "      <td>8345</td>\n",
       "      <td>2.0</td>\n",
       "      <td>0</td>\n",
       "      <td>0</td>\n",
       "      <td>3</td>\n",
       "      <td>10</td>\n",
       "      <td>3530</td>\n",
       "      <td>0</td>\n",
       "      <td>2006</td>\n",
       "      <td>0</td>\n",
       "      <td>47.7338</td>\n",
       "      <td>-122.234</td>\n",
       "    </tr>\n",
       "    <tr>\n",
       "      <th>3502</th>\n",
       "      <td>400000</td>\n",
       "      <td>3</td>\n",
       "      <td>2.50</td>\n",
       "      <td>2090</td>\n",
       "      <td>32718</td>\n",
       "      <td>2.0</td>\n",
       "      <td>1</td>\n",
       "      <td>4</td>\n",
       "      <td>3</td>\n",
       "      <td>7</td>\n",
       "      <td>1550</td>\n",
       "      <td>540</td>\n",
       "      <td>1919</td>\n",
       "      <td>1983</td>\n",
       "      <td>47.3338</td>\n",
       "      <td>-122.511</td>\n",
       "    </tr>\n",
       "    <tr>\n",
       "      <th>3511</th>\n",
       "      <td>600000</td>\n",
       "      <td>2</td>\n",
       "      <td>1.75</td>\n",
       "      <td>1550</td>\n",
       "      <td>7764</td>\n",
       "      <td>1.0</td>\n",
       "      <td>1</td>\n",
       "      <td>4</td>\n",
       "      <td>4</td>\n",
       "      <td>8</td>\n",
       "      <td>1550</td>\n",
       "      <td>0</td>\n",
       "      <td>1965</td>\n",
       "      <td>1986</td>\n",
       "      <td>47.3580</td>\n",
       "      <td>-122.446</td>\n",
       "    </tr>\n",
       "    <tr>\n",
       "      <th>3594</th>\n",
       "      <td>1100000</td>\n",
       "      <td>4</td>\n",
       "      <td>3.25</td>\n",
       "      <td>3190</td>\n",
       "      <td>11774</td>\n",
       "      <td>2.0</td>\n",
       "      <td>1</td>\n",
       "      <td>4</td>\n",
       "      <td>3</td>\n",
       "      <td>8</td>\n",
       "      <td>2610</td>\n",
       "      <td>580</td>\n",
       "      <td>1956</td>\n",
       "      <td>1991</td>\n",
       "      <td>47.5033</td>\n",
       "      <td>-122.225</td>\n",
       "    </tr>\n",
       "    <tr>\n",
       "      <th>3622</th>\n",
       "      <td>492000</td>\n",
       "      <td>4</td>\n",
       "      <td>2.50</td>\n",
       "      <td>3305</td>\n",
       "      <td>16164</td>\n",
       "      <td>1.5</td>\n",
       "      <td>0</td>\n",
       "      <td>0</td>\n",
       "      <td>5</td>\n",
       "      <td>7</td>\n",
       "      <td>2245</td>\n",
       "      <td>1060</td>\n",
       "      <td>1922</td>\n",
       "      <td>1956</td>\n",
       "      <td>47.7563</td>\n",
       "      <td>-122.338</td>\n",
       "    </tr>\n",
       "    <tr>\n",
       "      <th>4178</th>\n",
       "      <td>1000000</td>\n",
       "      <td>5</td>\n",
       "      <td>4.50</td>\n",
       "      <td>2120</td>\n",
       "      <td>8944</td>\n",
       "      <td>2.0</td>\n",
       "      <td>1</td>\n",
       "      <td>4</td>\n",
       "      <td>5</td>\n",
       "      <td>8</td>\n",
       "      <td>2120</td>\n",
       "      <td>0</td>\n",
       "      <td>1939</td>\n",
       "      <td>1963</td>\n",
       "      <td>47.5488</td>\n",
       "      <td>-122.197</td>\n",
       "    </tr>\n",
       "    <tr>\n",
       "      <th>4270</th>\n",
       "      <td>995000</td>\n",
       "      <td>3</td>\n",
       "      <td>4.50</td>\n",
       "      <td>4380</td>\n",
       "      <td>47044</td>\n",
       "      <td>2.0</td>\n",
       "      <td>1</td>\n",
       "      <td>3</td>\n",
       "      <td>3</td>\n",
       "      <td>9</td>\n",
       "      <td>3720</td>\n",
       "      <td>660</td>\n",
       "      <td>1968</td>\n",
       "      <td>1990</td>\n",
       "      <td>47.4734</td>\n",
       "      <td>-122.365</td>\n",
       "    </tr>\n",
       "    <tr>\n",
       "      <th>4354</th>\n",
       "      <td>600000</td>\n",
       "      <td>3</td>\n",
       "      <td>2.50</td>\n",
       "      <td>4930</td>\n",
       "      <td>77536</td>\n",
       "      <td>2.0</td>\n",
       "      <td>0</td>\n",
       "      <td>0</td>\n",
       "      <td>3</td>\n",
       "      <td>9</td>\n",
       "      <td>3930</td>\n",
       "      <td>1000</td>\n",
       "      <td>1981</td>\n",
       "      <td>0</td>\n",
       "      <td>47.7634</td>\n",
       "      <td>-122.139</td>\n",
       "    </tr>\n",
       "    <tr>\n",
       "      <th>4438</th>\n",
       "      <td>650000</td>\n",
       "      <td>5</td>\n",
       "      <td>3.50</td>\n",
       "      <td>5110</td>\n",
       "      <td>10018</td>\n",
       "      <td>2.0</td>\n",
       "      <td>0</td>\n",
       "      <td>0</td>\n",
       "      <td>3</td>\n",
       "      <td>10</td>\n",
       "      <td>3850</td>\n",
       "      <td>1260</td>\n",
       "      <td>2003</td>\n",
       "      <td>0</td>\n",
       "      <td>47.7261</td>\n",
       "      <td>-122.170</td>\n",
       "    </tr>\n",
       "    <tr>\n",
       "      <th>4643</th>\n",
       "      <td>650000</td>\n",
       "      <td>3</td>\n",
       "      <td>1.75</td>\n",
       "      <td>2800</td>\n",
       "      <td>19386</td>\n",
       "      <td>1.0</td>\n",
       "      <td>1</td>\n",
       "      <td>4</td>\n",
       "      <td>3</td>\n",
       "      <td>8</td>\n",
       "      <td>1400</td>\n",
       "      <td>1400</td>\n",
       "      <td>1965</td>\n",
       "      <td>0</td>\n",
       "      <td>47.3554</td>\n",
       "      <td>-122.324</td>\n",
       "    </tr>\n",
       "    <tr>\n",
       "      <th>4675</th>\n",
       "      <td>380000</td>\n",
       "      <td>3</td>\n",
       "      <td>2.50</td>\n",
       "      <td>1980</td>\n",
       "      <td>17342</td>\n",
       "      <td>2.0</td>\n",
       "      <td>1</td>\n",
       "      <td>4</td>\n",
       "      <td>3</td>\n",
       "      <td>10</td>\n",
       "      <td>1580</td>\n",
       "      <td>400</td>\n",
       "      <td>1984</td>\n",
       "      <td>0</td>\n",
       "      <td>47.4551</td>\n",
       "      <td>-122.373</td>\n",
       "    </tr>\n",
       "    <tr>\n",
       "      <th>4838</th>\n",
       "      <td>1110000</td>\n",
       "      <td>5</td>\n",
       "      <td>3.50</td>\n",
       "      <td>7350</td>\n",
       "      <td>12231</td>\n",
       "      <td>2.0</td>\n",
       "      <td>0</td>\n",
       "      <td>4</td>\n",
       "      <td>3</td>\n",
       "      <td>11</td>\n",
       "      <td>4750</td>\n",
       "      <td>2600</td>\n",
       "      <td>2001</td>\n",
       "      <td>0</td>\n",
       "      <td>47.5373</td>\n",
       "      <td>-121.865</td>\n",
       "    </tr>\n",
       "    <tr>\n",
       "      <th>5165</th>\n",
       "      <td>835000</td>\n",
       "      <td>4</td>\n",
       "      <td>4.25</td>\n",
       "      <td>4930</td>\n",
       "      <td>25714</td>\n",
       "      <td>2.0</td>\n",
       "      <td>0</td>\n",
       "      <td>0</td>\n",
       "      <td>3</td>\n",
       "      <td>12</td>\n",
       "      <td>4930</td>\n",
       "      <td>0</td>\n",
       "      <td>2005</td>\n",
       "      <td>0</td>\n",
       "      <td>47.3069</td>\n",
       "      <td>-122.148</td>\n",
       "    </tr>\n",
       "    <tr>\n",
       "      <th>6088</th>\n",
       "      <td>750000</td>\n",
       "      <td>4</td>\n",
       "      <td>1.75</td>\n",
       "      <td>2520</td>\n",
       "      <td>21834</td>\n",
       "      <td>1.0</td>\n",
       "      <td>1</td>\n",
       "      <td>4</td>\n",
       "      <td>3</td>\n",
       "      <td>8</td>\n",
       "      <td>1420</td>\n",
       "      <td>1100</td>\n",
       "      <td>1960</td>\n",
       "      <td>0</td>\n",
       "      <td>47.4996</td>\n",
       "      <td>-122.378</td>\n",
       "    </tr>\n",
       "    <tr>\n",
       "      <th>6180</th>\n",
       "      <td>480000</td>\n",
       "      <td>2</td>\n",
       "      <td>1.50</td>\n",
       "      <td>1008</td>\n",
       "      <td>26487</td>\n",
       "      <td>1.0</td>\n",
       "      <td>1</td>\n",
       "      <td>4</td>\n",
       "      <td>4</td>\n",
       "      <td>6</td>\n",
       "      <td>1008</td>\n",
       "      <td>0</td>\n",
       "      <td>1943</td>\n",
       "      <td>2002</td>\n",
       "      <td>47.3853</td>\n",
       "      <td>-122.479</td>\n",
       "    </tr>\n",
       "    <tr>\n",
       "      <th>6303</th>\n",
       "      <td>452000</td>\n",
       "      <td>5</td>\n",
       "      <td>2.50</td>\n",
       "      <td>5067</td>\n",
       "      <td>13315</td>\n",
       "      <td>1.0</td>\n",
       "      <td>0</td>\n",
       "      <td>2</td>\n",
       "      <td>3</td>\n",
       "      <td>9</td>\n",
       "      <td>3154</td>\n",
       "      <td>1913</td>\n",
       "      <td>1968</td>\n",
       "      <td>0</td>\n",
       "      <td>47.3391</td>\n",
       "      <td>-122.325</td>\n",
       "    </tr>\n",
       "  </tbody>\n",
       "</table>\n",
       "</div>"
      ],
      "text/plain": [
       "      Целевая.Цена  Спальни  Ванные  Жилая площадь  Общая площадь  \\\n",
       "277         500000        2    1.00           1760          27332   \n",
       "632         425000        3    2.75           3610         107386   \n",
       "706         340500        3    2.50           3070           5871   \n",
       "842         345600        5    3.50           2800           5120   \n",
       "1032       2280000        7    8.00          13540         307752   \n",
       "1101       1680000        5    3.50           5170           7197   \n",
       "1834        540000        7    5.75           3700           7647   \n",
       "2365        995000        5    4.00           5610          22529   \n",
       "2426        600000        2    2.25           2320          18919   \n",
       "2739        603500        4    2.50           4060           9734   \n",
       "2765        357000        3    2.00           2460          53882   \n",
       "3005        440000        3    1.75           2840          16851   \n",
       "3184        289275        3    2.00           2860          24046   \n",
       "3314        600000        3    3.00           3530           8345   \n",
       "3502        400000        3    2.50           2090          32718   \n",
       "3511        600000        2    1.75           1550           7764   \n",
       "3594       1100000        4    3.25           3190          11774   \n",
       "3622        492000        4    2.50           3305          16164   \n",
       "4178       1000000        5    4.50           2120           8944   \n",
       "4270        995000        3    4.50           4380          47044   \n",
       "4354        600000        3    2.50           4930          77536   \n",
       "4438        650000        5    3.50           5110          10018   \n",
       "4643        650000        3    1.75           2800          19386   \n",
       "4675        380000        3    2.50           1980          17342   \n",
       "4838       1110000        5    3.50           7350          12231   \n",
       "5165        835000        4    4.25           4930          25714   \n",
       "6088        750000        4    1.75           2520          21834   \n",
       "6180        480000        2    1.50           1008          26487   \n",
       "6303        452000        5    2.50           5067          13315   \n",
       "\n",
       "      Количество этажей  Вид на воду  Просмотрены ранее  Состояние  \\\n",
       "277                 1.0            1                  4          4   \n",
       "632                 1.5            1                  3          3   \n",
       "706                 3.0            0                  0          4   \n",
       "842                 2.5            0                  0          3   \n",
       "1032                3.0            0                  4          3   \n",
       "1101                3.0            1                  4          3   \n",
       "1834                2.0            0                  1          3   \n",
       "2365                2.0            0                  0          3   \n",
       "2426                2.0            1                  4          4   \n",
       "2739                1.0            0                  4          3   \n",
       "2765                1.0            1                  4          3   \n",
       "3005                1.0            0                  3          3   \n",
       "3184                1.0            0                  0          3   \n",
       "3314                2.0            0                  0          3   \n",
       "3502                2.0            1                  4          3   \n",
       "3511                1.0            1                  4          4   \n",
       "3594                2.0            1                  4          3   \n",
       "3622                1.5            0                  0          5   \n",
       "4178                2.0            1                  4          5   \n",
       "4270                2.0            1                  3          3   \n",
       "4354                2.0            0                  0          3   \n",
       "4438                2.0            0                  0          3   \n",
       "4643                1.0            1                  4          3   \n",
       "4675                2.0            1                  4          3   \n",
       "4838                2.0            0                  4          3   \n",
       "5165                2.0            0                  0          3   \n",
       "6088                1.0            1                  4          3   \n",
       "6180                1.0            1                  4          4   \n",
       "6303                1.0            0                  2          3   \n",
       "\n",
       "      Оценка риелтора  Площадь без подвала  Площадь подвала  Год постройки  \\\n",
       "277                 7                 1300              460           1951   \n",
       "632                 8                 3130              480           1918   \n",
       "706                 8                 2510              560           1928   \n",
       "842                 9                 2800                0           1903   \n",
       "1032               12                 9410             4130           1999   \n",
       "1101               11                 3520             1650           1998   \n",
       "1834                8                 3700                0           1948   \n",
       "2365               11                 4090             1520           1996   \n",
       "2426                8                 2320                0           1976   \n",
       "2739                9                 2150             1910           1977   \n",
       "2765                7                 2460                0           1955   \n",
       "3005                8                 1600             1240           1950   \n",
       "3184                9                 1700             1160           1985   \n",
       "3314               10                 3530                0           2006   \n",
       "3502                7                 1550              540           1919   \n",
       "3511                8                 1550                0           1965   \n",
       "3594                8                 2610              580           1956   \n",
       "3622                7                 2245             1060           1922   \n",
       "4178                8                 2120                0           1939   \n",
       "4270                9                 3720              660           1968   \n",
       "4354                9                 3930             1000           1981   \n",
       "4438               10                 3850             1260           2003   \n",
       "4643                8                 1400             1400           1965   \n",
       "4675               10                 1580              400           1984   \n",
       "4838               11                 4750             2600           2001   \n",
       "5165               12                 4930                0           2005   \n",
       "6088                8                 1420             1100           1960   \n",
       "6180                6                 1008                0           1943   \n",
       "6303                9                 3154             1913           1968   \n",
       "\n",
       "      Год реновации   Широта  Долгота  \n",
       "277               0  47.3799 -122.325  \n",
       "632            1962  47.3351 -122.362  \n",
       "706               0  47.5007 -122.223  \n",
       "842            2005  47.6059 -122.310  \n",
       "1032              0  47.6675 -121.986  \n",
       "1101              0  47.7561 -122.271  \n",
       "1834           1984  47.7393 -122.289  \n",
       "2365              0  47.7239 -122.092  \n",
       "2426              0  47.3905 -122.462  \n",
       "2739              0  47.7678 -122.254  \n",
       "2765              0  47.3811 -122.325  \n",
       "3005              0  47.7458 -122.287  \n",
       "3184              0  47.7718 -121.904  \n",
       "3314              0  47.7338 -122.234  \n",
       "3502           1983  47.3338 -122.511  \n",
       "3511           1986  47.3580 -122.446  \n",
       "3594           1991  47.5033 -122.225  \n",
       "3622           1956  47.7563 -122.338  \n",
       "4178           1963  47.5488 -122.197  \n",
       "4270           1990  47.4734 -122.365  \n",
       "4354              0  47.7634 -122.139  \n",
       "4438              0  47.7261 -122.170  \n",
       "4643              0  47.3554 -122.324  \n",
       "4675              0  47.4551 -122.373  \n",
       "4838              0  47.5373 -121.865  \n",
       "5165              0  47.3069 -122.148  \n",
       "6088              0  47.4996 -122.378  \n",
       "6180           2002  47.3853 -122.479  \n",
       "6303              0  47.3391 -122.325  "
      ]
     },
     "execution_count": 112,
     "metadata": {},
     "output_type": "execute_result"
    }
   ],
   "source": [
    "test_data.iloc[outliers]"
   ]
  },
  {
   "cell_type": "code",
   "execution_count": 113,
   "metadata": {},
   "outputs": [
    {
     "data": {
      "text/plain": [
       "Спальни                0.320383\n",
       "Ванные                 0.532124\n",
       "Жилая площадь          0.703234\n",
       "Общая площадь          0.071335\n",
       "Количество этажей      0.287307\n",
       "Вид на воду            0.270965\n",
       "Просмотрены ранее      0.413364\n",
       "Состояние              0.020116\n",
       "Оценка риелтора        0.677585\n",
       "Площадь без подвала    0.604214\n",
       "Площадь подвала        0.340575\n",
       "Год постройки          0.072268\n",
       "Год реновации          0.121359\n",
       "Широта                 0.319800\n",
       "Долгота                0.015633\n",
       "dtype: float64"
      ]
     },
     "execution_count": 113,
     "metadata": {},
     "output_type": "execute_result"
    }
   ],
   "source": [
    "test_points.corrwith(test_values)"
   ]
  },
  {
   "cell_type": "code",
   "execution_count": 114,
   "metadata": {},
   "outputs": [
    {
     "data": {
      "text/plain": [
       "<matplotlib.collections.PathCollection at 0x7f35f7055ee0>"
      ]
     },
     "execution_count": 114,
     "metadata": {},
     "output_type": "execute_result"
    },
    {
     "data": {
      "image/png": "[encoded data removed]",
      "text/plain": [
       "<Figure size 432x288 with 1 Axes>"
      ]
     },
     "metadata": {
      "needs_background": "light"
     },
     "output_type": "display_data"
    }
   ],
   "source": [
    "plt.scatter(test_points['Жилая площадь'], test_values)\n",
    "plt.scatter(test_data.iloc[outliers]['Жилая площадь'], test_values[outliers], c='purple')"
   ]
  },
  {
   "cell_type": "code",
   "execution_count": 115,
   "metadata": {},
   "outputs": [
    {
     "data": {
      "text/plain": [
       "<matplotlib.collections.PathCollection at 0x7f35f6fba280>"
      ]
     },
     "execution_count": 115,
     "metadata": {},
     "output_type": "execute_result"
    },
    {
     "data": {
      "image/png": "[encoded data removed]",
      "text/plain": [
       "<Figure size 432x288 with 1 Axes>"
      ]
     },
     "metadata": {
      "needs_background": "light"
     },
     "output_type": "display_data"
    }
   ],
   "source": [
    "plt.scatter(test_points['Оценка риелтора'], test_values)\n",
    "plt.scatter(test_data.iloc[outliers]['Оценка риелтора'], test_values[outliers], c='red')"
   ]
  },
  {
   "cell_type": "code",
   "execution_count": null,
   "metadata": {},
   "outputs": [],
   "source": []
  }
 ],
 "metadata": {
  "colab": {
   "collapsed_sections": [],
   "name": "Linear Regression lab 3.5-3.8",
   "provenance": [],
   "toc_visible": true
  },
  "kernelspec": {
   "display_name": "Python 3 (ipykernel)",
   "language": "python",
   "name": "python3"
  },
  "language_info": {
   "codemirror_mode": {
    "name": "ipython",
    "version": 3
   },
   "file_extension": ".py",
   "mimetype": "text/x-python",
   "name": "python",
   "nbconvert_exporter": "python",
   "pygments_lexer": "ipython3",
   "version": "3.8.10"
  },
  "toc": {
   "base_numbering": 1,
   "nav_menu": {},
   "number_sections": true,
   "sideBar": true,
   "skip_h1_title": false,
   "title_cell": "Table of Contents",
   "title_sidebar": "Contents",
   "toc_cell": false,
   "toc_position": {},
   "toc_section_display": true,
   "toc_window_display": false
  }
 },
 "nbformat": 4,
 "nbformat_minor": 1
}
