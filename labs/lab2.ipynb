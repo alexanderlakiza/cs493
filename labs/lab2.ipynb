{
 "cells": [
  {
   "cell_type": "code",
   "execution_count": 1,
   "metadata": {
    "ExecuteTime": {
     "end_time": "2020-04-23T10:16:05.965275Z",
     "start_time": "2020-04-23T10:16:05.312704Z"
    },
    "id": "bZ7J0si68JdT"
   },
   "outputs": [],
   "source": [
    "import pandas as pd\n",
    "import numpy as np"
   ]
  },
  {
   "cell_type": "markdown",
   "metadata": {
    "id": "xjvL0IIG8Jd0"
   },
   "source": [
    "## Задание 0\n"
   ]
  },
  {
   "cell_type": "markdown",
   "metadata": {
    "id": "yaSxXHvxO0qo"
   },
   "source": [
    "Для всех  заданий будем использовать обезличенные транзакционные банковские данные. Для этого считайте в переменные **tr_mcc_codes, tr_types, transactions и gender_train** из одноимённых таблиц из папки data. Для таблицы transactions используйте только первые n=1000000 строк. Обратите внимание на разделители внутри каждого из файлов - они могут различаться!"
   ]
  },
  {
   "cell_type": "markdown",
   "metadata": {
    "id": "oP3lX9xC8Jd8"
   },
   "source": [
    "###  Описание данных\n",
    "#### Таблица ```transactions.csv```\n",
    "##### Описание\n",
    "Таблица содержит историю транзакций клиентов банка за один год и три месяца.\n",
    "\n",
    "##### Формат данных\n",
    "\n",
    "```\n",
    "customer_id,tr_datetime,mcc_code,tr_type,amount,term_id\n",
    "111111,15 01:40:52,1111,1000,-5224,111111\n",
    "111112,15 15:18:32,3333,2000,-100,11122233\n",
    "...\n",
    "```\n",
    "##### Описание полей\n",
    "\n",
    " - ```customer_id``` — идентификатор клиента;\n",
    " - ```tr_datetime``` — день и время совершения транзакции (дни нумеруются с начала данных);\n",
    " - ```mcc_code``` — mcc-код транзакции;\n",
    " - ```tr_type``` — тип транзакции;\n",
    " - ```amount``` — сумма транзакции в условных единицах со знаком; ```+``` — начисление средств клиенту (приходная транзакция), ```-``` — списание средств (расходная транзакция);\n",
    " - ```term_id``` — идентификатор терминала;\n",
    "\n",
    "\n",
    "#### Таблица ```gender_train.csv```\n",
    "\n",
    "##### Описание\n",
    "Данная таблица содержит информацию по полу для части клиентов, для которых он известен. Для остальных клиентов пол неизвестен.\n",
    "\n",
    "##### Формат данных\n",
    "```\n",
    "customer_id,gender\n",
    "111111,0\n",
    "111112,1\n",
    "...\n",
    "```\n",
    "\n",
    "##### Описание полей\n",
    " - ```customer_id``` — идентификатор клиента;\n",
    " - ```gender``` — пол клиента;\n",
    "\n",
    "### Таблица ```tr_mcc_codes.csv```\n",
    "\n",
    "##### Описание\n",
    "Данная таблица содержит описание mcc-кодов транзакций.\n",
    "\n",
    "##### Формат данных\n",
    "```\n",
    "mcc_code;mcc_description\n",
    "1000;словесное описание mcc-кода 1000\n",
    "2000;словесное описание mcc-кода 2000\n",
    "...\n",
    "```\n",
    "\n",
    "##### Описание полей\n",
    " - ```mcc_code``` – mcc-код транзакции;\n",
    " - ```mcc_description``` — описание mcc-кода транзакции.\n",
    "\n",
    "#### Таблица ```tr_types.csv```\n",
    "\n",
    "##### Описание\n",
    "Данная таблица содержит описание типов транзакций.\n",
    "\n",
    "##### Формат данных\n",
    "```\n",
    "tr_type;tr_description\n",
    "1000;словесное описание типа транзакции 1000\n",
    "2000;словесное описание типа транзакции 2000\n",
    "...\n",
    "```\n",
    "\n",
    "##### Описание полей\n",
    " - ```tr_type``` – тип транзакции;\n",
    " - ```tr_description``` — описание типа транзакции;"
   ]
  },
  {
   "cell_type": "code",
   "execution_count": 5,
   "metadata": {
    "pycharm": {
     "name": "#%%\n"
    }
   },
   "outputs": [
    {
     "data": {
      "text/plain": "   customer_id tr_datetime  mcc_code  tr_type    amount term_id\n0     39026145  0 10:23:26      4814     1030  -2245.92     NaN\n1     39026145  1 10:19:29      6011     7010  56147.89     NaN\n2     39026145  1 10:20:56      4829     2330 -56147.89     NaN\n3     39026145  1 10:39:54      5499     1010  -1392.47     NaN\n4     39026145  2 15:33:42      5499     1010   -920.83     NaN",
      "text/html": "<div>\n<style scoped>\n    .dataframe tbody tr th:only-of-type {\n        vertical-align: middle;\n    }\n\n    .dataframe tbody tr th {\n        vertical-align: top;\n    }\n\n    .dataframe thead th {\n        text-align: right;\n    }\n</style>\n<table border=\"1\" class=\"dataframe\">\n  <thead>\n    <tr style=\"text-align: right;\">\n      <th></th>\n      <th>customer_id</th>\n      <th>tr_datetime</th>\n      <th>mcc_code</th>\n      <th>tr_type</th>\n      <th>amount</th>\n      <th>term_id</th>\n    </tr>\n  </thead>\n  <tbody>\n    <tr>\n      <th>0</th>\n      <td>39026145</td>\n      <td>0 10:23:26</td>\n      <td>4814</td>\n      <td>1030</td>\n      <td>-2245.92</td>\n      <td>NaN</td>\n    </tr>\n    <tr>\n      <th>1</th>\n      <td>39026145</td>\n      <td>1 10:19:29</td>\n      <td>6011</td>\n      <td>7010</td>\n      <td>56147.89</td>\n      <td>NaN</td>\n    </tr>\n    <tr>\n      <th>2</th>\n      <td>39026145</td>\n      <td>1 10:20:56</td>\n      <td>4829</td>\n      <td>2330</td>\n      <td>-56147.89</td>\n      <td>NaN</td>\n    </tr>\n    <tr>\n      <th>3</th>\n      <td>39026145</td>\n      <td>1 10:39:54</td>\n      <td>5499</td>\n      <td>1010</td>\n      <td>-1392.47</td>\n      <td>NaN</td>\n    </tr>\n    <tr>\n      <th>4</th>\n      <td>39026145</td>\n      <td>2 15:33:42</td>\n      <td>5499</td>\n      <td>1010</td>\n      <td>-920.83</td>\n      <td>NaN</td>\n    </tr>\n  </tbody>\n</table>\n</div>"
     },
     "execution_count": 5,
     "metadata": {},
     "output_type": "execute_result"
    }
   ],
   "source": [
    "df = pd.read_csv(\"../data/transactions.csv\", nrows=1000000)\n",
    "df.head()"
   ]
  },
  {
   "cell_type": "code",
   "execution_count": 6,
   "metadata": {
    "pycharm": {
     "name": "#%%\n"
    }
   },
   "outputs": [
    {
     "data": {
      "text/plain": "   customer_id  gender\n0     10928546       1\n1     69348468       1\n2     61009479       0\n3     74045822       0\n4     27979606       1",
      "text/html": "<div>\n<style scoped>\n    .dataframe tbody tr th:only-of-type {\n        vertical-align: middle;\n    }\n\n    .dataframe tbody tr th {\n        vertical-align: top;\n    }\n\n    .dataframe thead th {\n        text-align: right;\n    }\n</style>\n<table border=\"1\" class=\"dataframe\">\n  <thead>\n    <tr style=\"text-align: right;\">\n      <th></th>\n      <th>customer_id</th>\n      <th>gender</th>\n    </tr>\n  </thead>\n  <tbody>\n    <tr>\n      <th>0</th>\n      <td>10928546</td>\n      <td>1</td>\n    </tr>\n    <tr>\n      <th>1</th>\n      <td>69348468</td>\n      <td>1</td>\n    </tr>\n    <tr>\n      <th>2</th>\n      <td>61009479</td>\n      <td>0</td>\n    </tr>\n    <tr>\n      <th>3</th>\n      <td>74045822</td>\n      <td>0</td>\n    </tr>\n    <tr>\n      <th>4</th>\n      <td>27979606</td>\n      <td>1</td>\n    </tr>\n  </tbody>\n</table>\n</div>"
     },
     "execution_count": 6,
     "metadata": {},
     "output_type": "execute_result"
    }
   ],
   "source": [
    "genders = pd.read_csv(\"../data/gender_train.csv\")\n",
    "genders.head()"
   ]
  },
  {
   "cell_type": "code",
   "execution_count": 39,
   "metadata": {
    "pycharm": {
     "name": "#%%\n"
    }
   },
   "outputs": [
    {
     "data": {
      "text/plain": "   mcc_code                                    mcc_description\n0       742                                Ветеринарные услуги\n1      1711  Генеральные подрядчики по вентиляции, теплосна...\n2      1731                        Подрядчики по электричеству\n3      1799  Подрядчики, специализированная торговля — нигд...\n4      2741           Разнообразные издательства/печатное дело",
      "text/html": "<div>\n<style scoped>\n    .dataframe tbody tr th:only-of-type {\n        vertical-align: middle;\n    }\n\n    .dataframe tbody tr th {\n        vertical-align: top;\n    }\n\n    .dataframe thead th {\n        text-align: right;\n    }\n</style>\n<table border=\"1\" class=\"dataframe\">\n  <thead>\n    <tr style=\"text-align: right;\">\n      <th></th>\n      <th>mcc_code</th>\n      <th>mcc_description</th>\n    </tr>\n  </thead>\n  <tbody>\n    <tr>\n      <th>0</th>\n      <td>742</td>\n      <td>Ветеринарные услуги</td>\n    </tr>\n    <tr>\n      <th>1</th>\n      <td>1711</td>\n      <td>Генеральные подрядчики по вентиляции, теплосна...</td>\n    </tr>\n    <tr>\n      <th>2</th>\n      <td>1731</td>\n      <td>Подрядчики по электричеству</td>\n    </tr>\n    <tr>\n      <th>3</th>\n      <td>1799</td>\n      <td>Подрядчики, специализированная торговля — нигд...</td>\n    </tr>\n    <tr>\n      <th>4</th>\n      <td>2741</td>\n      <td>Разнообразные издательства/печатное дело</td>\n    </tr>\n  </tbody>\n</table>\n</div>"
     },
     "execution_count": 39,
     "metadata": {},
     "output_type": "execute_result"
    }
   ],
   "source": [
    "mccs = pd.read_csv(\"../data/tr_mcc_codes.csv\", sep=';')\n",
    "mccs.head()"
   ]
  },
  {
   "cell_type": "code",
   "execution_count": 8,
   "metadata": {
    "pycharm": {
     "name": "#%%\n"
    }
   },
   "outputs": [
    {
     "data": {
      "text/plain": "   tr_type                                     tr_description\n0     3200  Плата за предоставление услуг посредством моби...\n1     3210  Плата за предоставление отчета по счету карты ...\n2     3800  Плата за обслуживание банковской карты (за пер...\n3     4000            Плата за получение наличных в Сбербанке\n4     4001  Плата за получение наличных в Сбербанке (в дру...",
      "text/html": "<div>\n<style scoped>\n    .dataframe tbody tr th:only-of-type {\n        vertical-align: middle;\n    }\n\n    .dataframe tbody tr th {\n        vertical-align: top;\n    }\n\n    .dataframe thead th {\n        text-align: right;\n    }\n</style>\n<table border=\"1\" class=\"dataframe\">\n  <thead>\n    <tr style=\"text-align: right;\">\n      <th></th>\n      <th>tr_type</th>\n      <th>tr_description</th>\n    </tr>\n  </thead>\n  <tbody>\n    <tr>\n      <th>0</th>\n      <td>3200</td>\n      <td>Плата за предоставление услуг посредством моби...</td>\n    </tr>\n    <tr>\n      <th>1</th>\n      <td>3210</td>\n      <td>Плата за предоставление отчета по счету карты ...</td>\n    </tr>\n    <tr>\n      <th>2</th>\n      <td>3800</td>\n      <td>Плата за обслуживание банковской карты (за пер...</td>\n    </tr>\n    <tr>\n      <th>3</th>\n      <td>4000</td>\n      <td>Плата за получение наличных в Сбербанке</td>\n    </tr>\n    <tr>\n      <th>4</th>\n      <td>4001</td>\n      <td>Плата за получение наличных в Сбербанке (в дру...</td>\n    </tr>\n  </tbody>\n</table>\n</div>"
     },
     "execution_count": 8,
     "metadata": {},
     "output_type": "execute_result"
    }
   ],
   "source": [
    "tr_types = pd.read_csv(\"../data/tr_types.csv\", sep=';')\n",
    "tr_types.head()"
   ]
  },
  {
   "cell_type": "markdown",
   "metadata": {
    "id": "04CYsBKz8JeB"
   },
   "source": [
    "## Задание 1\n",
    "\n"
   ]
  },
  {
   "cell_type": "markdown",
   "metadata": {
    "id": "1hcrfwsYN_Yz"
   },
   "source": [
    "1. Для столбца tr_type датафрейма transactions выберите произвольные 1000 строк с помощью метода sample\n",
    "2. В полученной на предыдущем этапе подвыборке найдите долю транзакций (стобец tr_description в датасете tr_types), в которой содержится подстрока 'POS' или 'ATM'"
   ]
  },
  {
   "cell_type": "markdown",
   "metadata": {
    "pycharm": {
     "name": "#%% md\n"
    }
   },
   "source": [
    "Если мы должны найти долю типов транзакций, которые содержат __POS__ или __ATM__ от всех уникальных типов транзакций в выборке `sample`:"
   ]
  },
  {
   "cell_type": "code",
   "execution_count": 21,
   "metadata": {
    "pycharm": {
     "name": "#%%\n"
    }
   },
   "outputs": [],
   "source": [
    "# 1\n",
    "sample = df['tr_type'].sample(1000)"
   ]
  },
  {
   "cell_type": "code",
   "execution_count": 22,
   "metadata": {
    "pycharm": {
     "name": "#%%\n"
    }
   },
   "outputs": [],
   "source": [
    "unique_types_in_sample = sample.unique()"
   ]
  },
  {
   "cell_type": "code",
   "execution_count": 23,
   "metadata": {
    "pycharm": {
     "name": "#%%\n"
    }
   },
   "outputs": [
    {
     "data": {
      "text/plain": "1000"
     },
     "execution_count": 23,
     "metadata": {},
     "output_type": "execute_result"
    }
   ],
   "source": [
    "len(sample)"
   ]
  },
  {
   "cell_type": "markdown",
   "metadata": {
    "pycharm": {
     "name": "#%% md\n"
    }
   },
   "source": [
    "### Ответ к заданию 1"
   ]
  },
  {
   "cell_type": "code",
   "execution_count": 24,
   "metadata": {
    "pycharm": {
     "name": "#%%\n"
    }
   },
   "outputs": [
    {
     "data": {
      "text/plain": "True     0.642857\nFalse    0.357143\nName: tr_description, dtype: float64"
     },
     "execution_count": 24,
     "metadata": {},
     "output_type": "execute_result"
    }
   ],
   "source": [
    "# 2\n",
    "tr_types[tr_types['tr_type'].isin(unique_types_in_sample)]['tr_description'] \\\n",
    "    .str.contains('POS|АТМ').value_counts(normalize=True)"
   ]
  },
  {
   "cell_type": "markdown",
   "metadata": {
    "pycharm": {
     "name": "#%% md\n"
    }
   },
   "source": [
    "---\n",
    "Если же мы должны найти долю транзакций в выборке `sample`, у которых в описании типа есть слова __POS__ или __ATM__ относительно всех 1000 транзакций в выборке, то:"
   ]
  },
  {
   "cell_type": "code",
   "execution_count": 27,
   "metadata": {
    "pycharm": {
     "name": "#%%\n"
    }
   },
   "outputs": [],
   "source": [
    "types_contain_pos = tr_types[tr_types['tr_description'].str.contains('POS|АТМ')]['tr_type']"
   ]
  },
  {
   "cell_type": "markdown",
   "metadata": {
    "pycharm": {
     "name": "#%% md\n"
    }
   },
   "source": [
    "### Ответ к заданию 1"
   ]
  },
  {
   "cell_type": "code",
   "execution_count": 28,
   "metadata": {
    "pycharm": {
     "name": "#%%\n"
    }
   },
   "outputs": [
    {
     "data": {
      "text/plain": "True     617\nFalse    383\nName: tr_type, dtype: int64"
     },
     "execution_count": 28,
     "metadata": {},
     "output_type": "execute_result"
    }
   ],
   "source": [
    "# 2\n",
    "sample.isin(types_contain_pos).value_counts()  # нормализировать не имеет смысла, сумма = 1000"
   ]
  },
  {
   "cell_type": "markdown",
   "metadata": {
    "pycharm": {
     "name": "#%% md\n"
    }
   },
   "source": [
    "###### Примечание: ответы будут меняться при каждом новом `sample`"
   ]
  },
  {
   "cell_type": "markdown",
   "source": [
    "###### Примечание от 24.09.2021: Правильная интерпретация задания - вторая"
   ],
   "metadata": {
    "collapsed": false,
    "pycharm": {
     "name": "#%% md\n"
    }
   }
  },
  {
   "cell_type": "markdown",
   "metadata": {
    "id": "fiZBDIZt8JeS"
   },
   "source": [
    "## Задание 2 \n"
   ]
  },
  {
   "cell_type": "markdown",
   "metadata": {
    "id": "FFKeBUThOCrz"
   },
   "source": [
    "1. Для столбца tr_type датафрейма transactions посчитайте частоту встречаемости всех типов транзакций tr_type в transactions.\n",
    "2. Выведите топ-10 транзакций по частоте встречаемости."
   ]
  },
  {
   "cell_type": "markdown",
   "metadata": {
    "pycharm": {
     "name": "#%% md\n"
    }
   },
   "source": [
    "### Ответы к заданию 2"
   ]
  },
  {
   "cell_type": "code",
   "execution_count": 119,
   "metadata": {
    "pycharm": {
     "name": "#%%\n"
    }
   },
   "outputs": [
    {
     "data": {
      "text/plain": "1010    231117\n2010    151166\n7070    149006\n1110    137658\n1030    118975\n         ...  \n2446         4\n4096         4\n8146         3\n1510         2\n8100         2\nName: tr_type, Length: 72, dtype: int64"
     },
     "execution_count": 119,
     "metadata": {},
     "output_type": "execute_result"
    }
   ],
   "source": [
    "# 1\n",
    "df['tr_type'].value_counts()"
   ]
  },
  {
   "cell_type": "code",
   "execution_count": 120,
   "metadata": {
    "pycharm": {
     "name": "#%%\n"
    }
   },
   "outputs": [
    {
     "data": {
      "text/plain": "1010    231117\n2010    151166\n7070    149006\n1110    137658\n1030    118975\n2370     49830\n7010     28972\n7030     26078\n7071     15781\n1100     15476\nName: tr_type, dtype: int64"
     },
     "execution_count": 120,
     "metadata": {},
     "output_type": "execute_result"
    }
   ],
   "source": [
    "# 2\n",
    "df['tr_type'].value_counts()[:10]"
   ]
  },
  {
   "cell_type": "markdown",
   "metadata": {
    "id": "mktm_JeA8JeX"
   },
   "source": [
    "## Задание 3\n",
    "1. В датафрейме transactions найдите клиента с максимальной суммой приходов на карту\n",
    "2. В датафрейме transactions найдите клиента с максимальной суммой расходов по карте\n",
    "3. Найдите разницу для этих клиентов между суммой расходов и суммой приходов"
   ]
  },
  {
   "cell_type": "code",
   "execution_count": 121,
   "metadata": {
    "pycharm": {
     "name": "#%%\n"
    }
   },
   "outputs": [],
   "source": [
    "money_sums = df.groupby('customer_id').sum()"
   ]
  },
  {
   "cell_type": "code",
   "execution_count": 122,
   "metadata": {
    "pycharm": {
     "name": "#%%\n"
    }
   },
   "outputs": [
    {
     "data": {
      "text/plain": "             mcc_code  tr_type      amount\ncustomer_id                               \n95481247      4227905  2282858  50508877.7",
      "text/html": "<div>\n<style scoped>\n    .dataframe tbody tr th:only-of-type {\n        vertical-align: middle;\n    }\n\n    .dataframe tbody tr th {\n        vertical-align: top;\n    }\n\n    .dataframe thead th {\n        text-align: right;\n    }\n</style>\n<table border=\"1\" class=\"dataframe\">\n  <thead>\n    <tr style=\"text-align: right;\">\n      <th></th>\n      <th>mcc_code</th>\n      <th>tr_type</th>\n      <th>amount</th>\n    </tr>\n    <tr>\n      <th>customer_id</th>\n      <th></th>\n      <th></th>\n      <th></th>\n    </tr>\n  </thead>\n  <tbody>\n    <tr>\n      <th>95481247</th>\n      <td>4227905</td>\n      <td>2282858</td>\n      <td>50508877.7</td>\n    </tr>\n  </tbody>\n</table>\n</div>"
     },
     "execution_count": 122,
     "metadata": {},
     "output_type": "execute_result"
    }
   ],
   "source": [
    "# 1\n",
    "money_sums[money_sums['amount'] == max(money_sums['amount'])]"
   ]
  },
  {
   "cell_type": "code",
   "execution_count": 123,
   "metadata": {
    "pycharm": {
     "name": "#%%\n"
    }
   },
   "outputs": [
    {
     "data": {
      "text/plain": "             mcc_code  tr_type       amount\ncustomer_id                                \n54871257     15954177  7081907 -801026035.2",
      "text/html": "<div>\n<style scoped>\n    .dataframe tbody tr th:only-of-type {\n        vertical-align: middle;\n    }\n\n    .dataframe tbody tr th {\n        vertical-align: top;\n    }\n\n    .dataframe thead th {\n        text-align: right;\n    }\n</style>\n<table border=\"1\" class=\"dataframe\">\n  <thead>\n    <tr style=\"text-align: right;\">\n      <th></th>\n      <th>mcc_code</th>\n      <th>tr_type</th>\n      <th>amount</th>\n    </tr>\n    <tr>\n      <th>customer_id</th>\n      <th></th>\n      <th></th>\n      <th></th>\n    </tr>\n  </thead>\n  <tbody>\n    <tr>\n      <th>54871257</th>\n      <td>15954177</td>\n      <td>7081907</td>\n      <td>-801026035.2</td>\n    </tr>\n  </tbody>\n</table>\n</div>"
     },
     "execution_count": 123,
     "metadata": {},
     "output_type": "execute_result"
    }
   ],
   "source": [
    "# 2\n",
    "money_sums[money_sums['amount'] == min(money_sums['amount'])]"
   ]
  },
  {
   "cell_type": "markdown",
   "metadata": {
    "pycharm": {
     "name": "#%% md\n"
    }
   },
   "source": [
    "Если нам надо найти разницу между `amount` у самого \"богатого\" и `amount` у самого \"бедного\", то:"
   ]
  },
  {
   "cell_type": "code",
   "execution_count": 124,
   "metadata": {
    "pycharm": {
     "name": "#%%\n"
    }
   },
   "outputs": [
    {
     "data": {
      "text/plain": "-851534912.9"
     },
     "execution_count": 124,
     "metadata": {},
     "output_type": "execute_result"
    }
   ],
   "source": [
    "round(float(money_sums[money_sums['amount'] == min(money_sums['amount'])]['amount']) -\n",
    "      float(money_sums[money_sums['amount'] == max(money_sums['amount'])]['amount']), 1)"
   ]
  },
  {
   "cell_type": "markdown",
   "metadata": {
    "pycharm": {
     "name": "#%% md\n"
    }
   },
   "source": [
    "---\n",
    "Если же нам надо найти разницу между всей прибылью и всей убылью у каждого из этих двух клиентов (`customer_id` 95481247 и `customer_id` 54871257), то:"
   ]
  },
  {
   "cell_type": "code",
   "execution_count": 125,
   "metadata": {
    "pycharm": {
     "name": "#%%\n"
    }
   },
   "outputs": [],
   "source": [
    "richest = money_sums[money_sums['amount'] == max(money_sums['amount'])].index[0]"
   ]
  },
  {
   "cell_type": "code",
   "execution_count": 126,
   "metadata": {
    "pycharm": {
     "name": "#%%\n"
    }
   },
   "outputs": [],
   "source": [
    "poorest = money_sums[money_sums['amount'] == min(money_sums['amount'])].index[0]"
   ]
  },
  {
   "cell_type": "code",
   "execution_count": 127,
   "metadata": {
    "pycharm": {
     "name": "#%%\n"
    }
   },
   "outputs": [],
   "source": [
    "trs_of_richest = df[df['customer_id'] == richest]  # transactions of the richest customer"
   ]
  },
  {
   "cell_type": "code",
   "execution_count": 128,
   "metadata": {
    "pycharm": {
     "name": "#%%\n"
    }
   },
   "outputs": [],
   "source": [
    "trs_of_poorest = df[df['customer_id'] == poorest]  # transactions of the poorest customer"
   ]
  },
  {
   "cell_type": "code",
   "execution_count": 129,
   "metadata": {
    "pycharm": {
     "name": "#%%\n"
    }
   },
   "outputs": [
    {
     "data": {
      "text/plain": "-122309451.36"
     },
     "execution_count": 129,
     "metadata": {},
     "output_type": "execute_result"
    }
   ],
   "source": [
    "# 3 (for customer_id = 95481247)\n",
    "trs_of_richest[trs_of_richest['amount'] < 0]['amount'].sum() -\\\n",
    "trs_of_richest[trs_of_richest['amount'] > 0]['amount'].sum()"
   ]
  },
  {
   "cell_type": "code",
   "execution_count": 130,
   "metadata": {
    "pycharm": {
     "name": "#%%\n"
    }
   },
   "outputs": [
    {
     "data": {
      "text/plain": "-1145257382.16"
     },
     "execution_count": 130,
     "metadata": {},
     "output_type": "execute_result"
    }
   ],
   "source": [
    "# 3 (for customer_id = 54871257)\n",
    "trs_of_poorest[trs_of_poorest['amount'] < 0]['amount'].sum() -\\\n",
    "trs_of_poorest[trs_of_poorest['amount'] > 0]['amount'].sum()"
   ]
  },
  {
   "cell_type": "markdown",
   "source": [
    "###### Примечание от 24.09.2021: Правильная интерпретация задания - вторая"
   ],
   "metadata": {
    "collapsed": false,
    "pycharm": {
     "name": "#%% md\n"
    }
   }
  },
  {
   "cell_type": "markdown",
   "metadata": {
    "id": "BYrJ5b_E8Jee"
   },
   "source": [
    "## Задание 4\n",
    "1. Найдите среднее арифметическое и медиану по всем типам транзакций из топ 10 из задания 2\n",
    "2. Найдите среднее арифметическое и медиану по всем типам транзакций для клиентов из задания 3"
   ]
  },
  {
   "cell_type": "markdown",
   "source": [
    "### Ответ к заданию 4"
   ],
   "metadata": {
    "collapsed": false,
    "pycharm": {
     "name": "#%% md\n"
    }
   }
  },
  {
   "cell_type": "code",
   "execution_count": 131,
   "outputs": [],
   "source": [
    "top10_tr_types = df[df['tr_type'].isin(list(df['tr_type'].value_counts()[:10].index))]"
   ],
   "metadata": {
    "collapsed": false,
    "pycharm": {
     "name": "#%%\n"
    }
   }
  },
  {
   "cell_type": "code",
   "execution_count": 132,
   "outputs": [
    {
     "data": {
      "text/plain": "tr_type\n1010    -19784.748640\n1030     -5320.980222\n1100    -44061.827262\n1110    -32119.330371\n2010   -136077.629325\n2370   -205418.249032\n7010    276391.789596\n7030     86104.332909\n7070     65569.831700\n7071     66806.826623\nName: amount, dtype: float64"
     },
     "execution_count": 132,
     "metadata": {},
     "output_type": "execute_result"
    }
   ],
   "source": [
    "# 1 (mean)\n",
    "top10_tr_types.groupby('tr_type')['amount'].mean()"
   ],
   "metadata": {
    "collapsed": false,
    "pycharm": {
     "name": "#%%\n"
    }
   }
  },
  {
   "cell_type": "code",
   "execution_count": 133,
   "outputs": [
    {
     "data": {
      "text/plain": "tr_type\n1010     -7411.52\n1030     -2245.92\n1100    -10188.26\n1110    -11207.57\n2010    -44918.32\n2370    -44918.32\n7010    112295.79\n7030     13951.52\n7070     11319.42\n7071      3593.47\nName: amount, dtype: float64"
     },
     "execution_count": 133,
     "metadata": {},
     "output_type": "execute_result"
    }
   ],
   "source": [
    "# 1 (median)\n",
    "top10_tr_types.groupby('tr_type')['amount'].median()"
   ],
   "metadata": {
    "collapsed": false,
    "pycharm": {
     "name": "#%%\n"
    }
   }
  },
  {
   "cell_type": "code",
   "execution_count": 134,
   "outputs": [
    {
     "data": {
      "text/plain": "tr_type\n1010    -42570.722778\n1030     -6446.932628\n1100    -15508.020098\n1110    -39140.697500\n1200     -7244.027250\n2010   -246489.256406\n2330    -67377.470000\n2370   -178690.461266\n2371   -134754.950000\n4041      -859.063333\n4071     -1347.550000\n6110     18349.130000\n6200      6957.510000\n7010    892241.084091\n7020     51094.582500\n7021    119595.015000\n7030    119906.947778\n7031    192025.799091\n7070    193394.852128\n7071    193634.035714\nName: amount, dtype: float64"
     },
     "execution_count": 134,
     "metadata": {},
     "output_type": "execute_result"
    }
   ],
   "source": [
    "# 2 (mean for the richest one)\n",
    "trs_of_richest.groupby('tr_type')['amount'].mean()"
   ],
   "metadata": {
    "collapsed": false,
    "pycharm": {
     "name": "#%%\n"
    }
   }
  },
  {
   "cell_type": "code",
   "execution_count": 135,
   "outputs": [
    {
     "data": {
      "text/plain": "tr_type\n1010    -14901.655\n1030     -2245.920\n1100    -12105.490\n1110    -27751.880\n1200     -5832.645\n2010   -179673.260\n2330    -67377.470\n2370    -67377.470\n2371   -134754.950\n4041      -892.750\n4071     -1347.550\n6110     18349.130\n6200      7137.630\n7010    673774.730\n7020     59516.765\n7021    126894.245\n7030     94328.460\n7031     97697.340\n7070     85344.800\n7071     58393.810\nName: amount, dtype: float64"
     },
     "execution_count": 135,
     "metadata": {},
     "output_type": "execute_result"
    }
   ],
   "source": [
    "# 2 (median for the richest one)\n",
    "trs_of_richest.groupby('tr_type')['amount'].median()"
   ],
   "metadata": {
    "collapsed": false,
    "pycharm": {
     "name": "#%%\n"
    }
   }
  },
  {
   "cell_type": "code",
   "execution_count": 136,
   "outputs": [
    {
     "data": {
      "text/plain": "tr_type\n1010   -4.416506e+04\n1030   -1.903366e+04\n1100   -1.807962e+04\n1110   -7.717905e+04\n2010   -4.502637e+05\n2011   -5.440107e+05\n2020   -3.544629e+06\n2110   -1.066810e+05\n2330   -4.929340e+05\n2331   -7.586204e+05\n2370   -4.357385e+05\n2371   -5.612563e+05\n4010   -6.902448e+03\n4051   -7.586206e+03\n4071   -4.727519e+03\n4110   -3.368877e+03\n4500   -3.481169e+04\n7010    1.135792e+06\n7011    4.491830e+03\n7021    5.545472e+05\n7030    9.348624e+05\n7031    3.671511e+05\n7070    1.358207e+06\n7071    3.660094e+05\nName: amount, dtype: float64"
     },
     "execution_count": 136,
     "metadata": {},
     "output_type": "execute_result"
    }
   ],
   "source": [
    "# 2 (mean for the poorest one)\n",
    "trs_of_poorest.groupby('tr_type')['amount'].mean()"
   ],
   "metadata": {
    "collapsed": false,
    "pycharm": {
     "name": "#%%\n"
    }
   }
  },
  {
   "cell_type": "code",
   "execution_count": 137,
   "outputs": [
    {
     "data": {
      "text/plain": "tr_type\n1010     -19202.580\n1030     -22459.160\n1100     -14036.975\n1110     -29982.980\n2010    -336887.370\n2011    -449183.150\n2020   -1572141.040\n2110    -106681.000\n2330    -336887.370\n2331    -505331.050\n2370    -269509.890\n2371    -363838.355\n4010      -6737.750\n4051      -5053.310\n4071      -3638.385\n4110      -2245.920\n4500     -34811.695\n7010     999432.520\n7011       4491.830\n7021     554547.150\n7030     640085.995\n7031     333518.490\n7070     269509.890\n7071     289049.360\nName: amount, dtype: float64"
     },
     "execution_count": 137,
     "metadata": {},
     "output_type": "execute_result"
    }
   ],
   "source": [
    "# 2 (median for the poorest one)\n",
    "trs_of_poorest.groupby('tr_type')['amount'].median()"
   ],
   "metadata": {
    "collapsed": false,
    "pycharm": {
     "name": "#%%\n"
    }
   }
  },
  {
   "cell_type": "markdown",
   "metadata": {
    "id": "BYXwM4l3QDBu"
   },
   "source": [
    "## Подготовка для заданий 5-8"
   ]
  },
  {
   "cell_type": "markdown",
   "metadata": {
    "id": "XWQzFeKcQHRe"
   },
   "source": [
    "*Из заданий 5-8 нужно выполнить минимум два любых*\n",
    "\n",
    "Соедините transactions с всеми остальными таблицами (tr_mcc_codes, tr_types, gender_train). Причём с gender_train необходимо смёрджиться с помощью left join, а с оставшимися датафреймами - через inner.\n",
    "После получения результата таблицы gender_train, tr_types, tr_mcc_codes можно удалить. В результате соединения датафреймов должно получиться 999584 строки."
   ]
  },
  {
   "cell_type": "code",
   "execution_count": 30,
   "metadata": {
    "id": "sndJxjJ7QQf5"
   },
   "outputs": [
    {
     "data": {
      "text/plain": "(999584, 9)"
     },
     "execution_count": 30,
     "metadata": {},
     "output_type": "execute_result"
    }
   ],
   "source": [
    "transactions = pd.merge(df, genders, how='left')\n",
    "transactions = pd.merge(transactions, mccs, how='inner')\n",
    "transactions = pd.merge(transactions, tr_types, how='inner')\n",
    "transactions.shape"
   ]
  },
  {
   "cell_type": "markdown",
   "source": [
    "Кол-во строк совпадает"
   ],
   "metadata": {
    "collapsed": false,
    "pycharm": {
     "name": "#%% md\n"
    }
   }
  },
  {
   "cell_type": "code",
   "execution_count": 31,
   "outputs": [
    {
     "data": {
      "text/plain": "   customer_id  tr_datetime  mcc_code  tr_type   amount term_id  gender  \\\n0     39026145   0 10:23:26      4814     1030 -2245.92     NaN     1.0   \n1     39026145   6 07:08:31      4814     1030 -5614.79     NaN     1.0   \n2     39026145   8 07:06:10      4814     1030 -1122.96     NaN     1.0   \n3     39026145  11 08:49:03      4814     1030 -2245.92     NaN     1.0   \n4     39026145  11 14:12:08      4814     1030 -2245.92     NaN     1.0   \n\n                                     mcc_description  \\\n0  Звонки с использованием телефонов, считывающих...   \n1  Звонки с использованием телефонов, считывающих...   \n2  Звонки с использованием телефонов, считывающих...   \n3  Звонки с использованием телефонов, считывающих...   \n4  Звонки с использованием телефонов, считывающих...   \n\n                   tr_description  \n0  Оплата услуги. Банкоматы СБ РФ  \n1  Оплата услуги. Банкоматы СБ РФ  \n2  Оплата услуги. Банкоматы СБ РФ  \n3  Оплата услуги. Банкоматы СБ РФ  \n4  Оплата услуги. Банкоматы СБ РФ  ",
      "text/html": "<div>\n<style scoped>\n    .dataframe tbody tr th:only-of-type {\n        vertical-align: middle;\n    }\n\n    .dataframe tbody tr th {\n        vertical-align: top;\n    }\n\n    .dataframe thead th {\n        text-align: right;\n    }\n</style>\n<table border=\"1\" class=\"dataframe\">\n  <thead>\n    <tr style=\"text-align: right;\">\n      <th></th>\n      <th>customer_id</th>\n      <th>tr_datetime</th>\n      <th>mcc_code</th>\n      <th>tr_type</th>\n      <th>amount</th>\n      <th>term_id</th>\n      <th>gender</th>\n      <th>mcc_description</th>\n      <th>tr_description</th>\n    </tr>\n  </thead>\n  <tbody>\n    <tr>\n      <th>0</th>\n      <td>39026145</td>\n      <td>0 10:23:26</td>\n      <td>4814</td>\n      <td>1030</td>\n      <td>-2245.92</td>\n      <td>NaN</td>\n      <td>1.0</td>\n      <td>Звонки с использованием телефонов, считывающих...</td>\n      <td>Оплата услуги. Банкоматы СБ РФ</td>\n    </tr>\n    <tr>\n      <th>1</th>\n      <td>39026145</td>\n      <td>6 07:08:31</td>\n      <td>4814</td>\n      <td>1030</td>\n      <td>-5614.79</td>\n      <td>NaN</td>\n      <td>1.0</td>\n      <td>Звонки с использованием телефонов, считывающих...</td>\n      <td>Оплата услуги. Банкоматы СБ РФ</td>\n    </tr>\n    <tr>\n      <th>2</th>\n      <td>39026145</td>\n      <td>8 07:06:10</td>\n      <td>4814</td>\n      <td>1030</td>\n      <td>-1122.96</td>\n      <td>NaN</td>\n      <td>1.0</td>\n      <td>Звонки с использованием телефонов, считывающих...</td>\n      <td>Оплата услуги. Банкоматы СБ РФ</td>\n    </tr>\n    <tr>\n      <th>3</th>\n      <td>39026145</td>\n      <td>11 08:49:03</td>\n      <td>4814</td>\n      <td>1030</td>\n      <td>-2245.92</td>\n      <td>NaN</td>\n      <td>1.0</td>\n      <td>Звонки с использованием телефонов, считывающих...</td>\n      <td>Оплата услуги. Банкоматы СБ РФ</td>\n    </tr>\n    <tr>\n      <th>4</th>\n      <td>39026145</td>\n      <td>11 14:12:08</td>\n      <td>4814</td>\n      <td>1030</td>\n      <td>-2245.92</td>\n      <td>NaN</td>\n      <td>1.0</td>\n      <td>Звонки с использованием телефонов, считывающих...</td>\n      <td>Оплата услуги. Банкоматы СБ РФ</td>\n    </tr>\n  </tbody>\n</table>\n</div>"
     },
     "execution_count": 31,
     "metadata": {},
     "output_type": "execute_result"
    }
   ],
   "source": [
    "transactions.head()"
   ],
   "metadata": {
    "collapsed": false,
    "pycharm": {
     "name": "#%%\n"
    }
   }
  },
  {
   "cell_type": "markdown",
   "metadata": {
    "id": "8vrFauJ8QgmT"
   },
   "source": [
    "## Задание 5"
   ]
  },
  {
   "cell_type": "markdown",
   "metadata": {
    "id": "rOjEQ5xyQfE_"
   },
   "source": [
    "1. Определите модуль разницы между средними тратами женщин и мужчин (трата - отрицательное значение amount).\n",
    "2. Определите модуль разницы между средними поступлениями у мужчин и женщин\n",
    "\n",
    "Обратите внимание, что для вычисления модуля разности точных знаний о том, \n",
    "какой класc относится к мужчинам, а какой - к женщинам, не требуется."
   ]
  },
  {
   "cell_type": "markdown",
   "source": [
    "### Ответ к заданию 5"
   ],
   "metadata": {
    "collapsed": false,
    "pycharm": {
     "name": "#%% md\n"
    }
   }
  },
  {
   "cell_type": "code",
   "execution_count": 140,
   "outputs": [
    {
     "data": {
      "text/plain": "32718.054920224655"
     },
     "execution_count": 86,
     "metadata": {},
     "output_type": "execute_result"
    },
    {
     "data": {
      "text/plain": "32718.054920224655"
     },
     "execution_count": 140,
     "metadata": {},
     "output_type": "execute_result"
    }
   ],
   "source": [
    "# 1\n",
    "abs(transactions[transactions['amount'] < 0].groupby('gender')['amount'].mean()[0] -\n",
    "    transactions[transactions['amount'] < 0].groupby('gender')['amount'].mean()[1])"
   ],
   "metadata": {
    "collapsed": false,
    "pycharm": {
     "name": "#%%\n"
    }
   }
  },
  {
   "cell_type": "code",
   "execution_count": 141,
   "outputs": [
    {
     "data": {
      "text/plain": "63366.57104801464"
     },
     "execution_count": 87,
     "metadata": {},
     "output_type": "execute_result"
    },
    {
     "data": {
      "text/plain": "63366.57104801464"
     },
     "execution_count": 141,
     "metadata": {},
     "output_type": "execute_result"
    }
   ],
   "source": [
    "# 2\n",
    "abs(transactions[transactions['amount'] > 0].groupby('gender')['amount'].mean()[0] -\n",
    "    transactions[transactions['amount'] > 0].groupby('gender')['amount'].mean()[1])"
   ],
   "metadata": {
    "collapsed": false,
    "pycharm": {
     "name": "#%%\n"
    }
   }
  },
  {
   "cell_type": "markdown",
   "metadata": {
    "id": "DSHFLbepQ7G1"
   },
   "source": [
    "## Задание 6"
   ]
  },
  {
   "cell_type": "markdown",
   "metadata": {
    "id": "2EF1490bQ-17"
   },
   "source": [
    "1. По всем типам транзакций рассчитайте максимальную сумму прихода на карту (из строго положительных сумм по столбцу amount) отдельно для мужчин и женщин (назовите ее \"max_income\"). Оставьте по 10 транзакций для мужчин и для женщин, наименьших среди всех транзакций по полученным значениям \"max_income\". \n",
    "2. Выделите среди них те, которые встречаются одновременно и у мужчин, и у женщин"
   ]
  },
  {
   "cell_type": "markdown",
   "metadata": {
    "id": "W-LaVwRdR3UB"
   },
   "source": [
    "## Задание 7"
   ]
  },
  {
   "cell_type": "markdown",
   "metadata": {
    "id": "rhI4NOciR7e0"
   },
   "source": [
    "1. Найдите суммы затрат по каждой категории для мужчин и для женщин. \n",
    "2. Найдите топ 5 категорий с самыми большими относительными модулями разности для в тратах для разных полов."
   ]
  },
  {
   "cell_type": "code",
   "execution_count": 32,
   "outputs": [
    {
     "data": {
      "text/plain": "184"
     },
     "execution_count": 32,
     "metadata": {},
     "output_type": "execute_result"
    }
   ],
   "source": [
    "transactions['mcc_code'].nunique()"
   ],
   "metadata": {
    "collapsed": false,
    "pycharm": {
     "name": "#%%\n"
    }
   }
  },
  {
   "cell_type": "code",
   "execution_count": 33,
   "outputs": [],
   "source": [
    "gender_0 = {}\n",
    "gender_1 = {}"
   ],
   "metadata": {
    "collapsed": false,
    "pycharm": {
     "name": "#%%\n"
    }
   }
  },
  {
   "cell_type": "markdown",
   "source": [
    "### Ответ к заданию 7"
   ],
   "metadata": {
    "collapsed": false,
    "pycharm": {
     "name": "#%% md\n"
    }
   }
  },
  {
   "cell_type": "code",
   "execution_count": 34,
   "outputs": [
    {
     "data": {
      "text/plain": "mcc_code\n742      -386207.68\n1711     -674897.69\n1799     -261626.73\n2741      -20746.42\n3000   -70435914.05\n           ...     \n8699     -521107.48\n8999   -19421951.30\n9222     -361143.24\n9311     -372897.03\n9399    -1481389.65\nName: amount, Length: 174, dtype: float64"
     },
     "execution_count": 34,
     "metadata": {},
     "output_type": "execute_result"
    }
   ],
   "source": [
    "# 1 (gender = 0)\n",
    "transactions[transactions['gender'] == 0].groupby('mcc_code').sum()['amount']"
   ],
   "metadata": {
    "collapsed": false,
    "pycharm": {
     "name": "#%%\n"
    }
   }
  },
  {
   "cell_type": "code",
   "execution_count": 35,
   "outputs": [
    {
     "data": {
      "text/plain": "mcc_code\n742      -132277.93\n1711     -206264.90\n1731     -121542.67\n1799    -1129257.68\n2741     -221290.08\n           ...     \n8999   -28636743.64\n9222     -988205.17\n9311     -373271.22\n9399    -1810820.67\n9402       -4581.67\nName: amount, Length: 175, dtype: float64"
     },
     "execution_count": 35,
     "metadata": {},
     "output_type": "execute_result"
    }
   ],
   "source": [
    "# 1 (gender = 1)\n",
    "transactions[transactions['gender'] == 1].groupby('mcc_code').sum()['amount']"
   ],
   "metadata": {
    "collapsed": false,
    "pycharm": {
     "name": "#%%\n"
    }
   }
  },
  {
   "cell_type": "code",
   "execution_count": 36,
   "outputs": [],
   "source": [
    "g_0 = transactions[(transactions['gender'] == 0) & (transactions['amount'] < 0)].groupby('mcc_code').sum()['amount']"
   ],
   "metadata": {
    "collapsed": false,
    "pycharm": {
     "name": "#%%\n"
    }
   }
  },
  {
   "cell_type": "code",
   "execution_count": 37,
   "outputs": [],
   "source": [
    "g_1 = transactions[(transactions['gender'] == 1) & (transactions['amount'] < 0)].groupby('mcc_code').sum()['amount']"
   ],
   "metadata": {
    "collapsed": false,
    "pycharm": {
     "name": "#%%\n"
    }
   }
  },
  {
   "cell_type": "code",
   "execution_count": 38,
   "outputs": [
    {
     "data": {
      "text/plain": "mcc_code\n6011    3.085862e+09\n4829    2.499153e+09\n6010    2.208580e+08\n5541    1.554326e+08\n5511    7.352877e+07\nName: amount, dtype: float64"
     },
     "execution_count": 38,
     "metadata": {},
     "output_type": "execute_result"
    }
   ],
   "source": [
    "# 2\n",
    "(abs(g_1 - g_0)).sort_values(ascending=False)[:5]"
   ],
   "metadata": {
    "collapsed": false,
    "pycharm": {
     "name": "#%%\n"
    }
   }
  },
  {
   "cell_type": "code",
   "execution_count": 40,
   "outputs": [
    {
     "data": {
      "text/plain": "Int64Index([6011, 4829, 6010, 5541, 5511], dtype='int64', name='mcc_code')"
     },
     "execution_count": 40,
     "metadata": {},
     "output_type": "execute_result"
    }
   ],
   "source": [
    "(abs(g_1 - g_0)).sort_values(ascending=False)[:5].index"
   ],
   "metadata": {
    "collapsed": false,
    "pycharm": {
     "name": "#%%\n"
    }
   }
  },
  {
   "cell_type": "code",
   "execution_count": 41,
   "outputs": [
    {
     "data": {
      "text/plain": "     mcc_code                                    mcc_description\n22       4829                                  Денежные переводы\n62       5511  Легковой и грузовой транспорт — продажа, серви...\n65       5541                            Станции техобслуживания\n123      6010   Финансовые институты — снятие наличности вручную\n124      6011  Финансовые институты — снятие наличности автом...",
      "text/html": "<div>\n<style scoped>\n    .dataframe tbody tr th:only-of-type {\n        vertical-align: middle;\n    }\n\n    .dataframe tbody tr th {\n        vertical-align: top;\n    }\n\n    .dataframe thead th {\n        text-align: right;\n    }\n</style>\n<table border=\"1\" class=\"dataframe\">\n  <thead>\n    <tr style=\"text-align: right;\">\n      <th></th>\n      <th>mcc_code</th>\n      <th>mcc_description</th>\n    </tr>\n  </thead>\n  <tbody>\n    <tr>\n      <th>22</th>\n      <td>4829</td>\n      <td>Денежные переводы</td>\n    </tr>\n    <tr>\n      <th>62</th>\n      <td>5511</td>\n      <td>Легковой и грузовой транспорт — продажа, серви...</td>\n    </tr>\n    <tr>\n      <th>65</th>\n      <td>5541</td>\n      <td>Станции техобслуживания</td>\n    </tr>\n    <tr>\n      <th>123</th>\n      <td>6010</td>\n      <td>Финансовые институты — снятие наличности вручную</td>\n    </tr>\n    <tr>\n      <th>124</th>\n      <td>6011</td>\n      <td>Финансовые институты — снятие наличности автом...</td>\n    </tr>\n  </tbody>\n</table>\n</div>"
     },
     "execution_count": 41,
     "metadata": {},
     "output_type": "execute_result"
    }
   ],
   "source": [
    "mccs[mccs['mcc_code'].isin((abs(g_1 - g_0)).sort_values(ascending=False)[:5].index)]"
   ],
   "metadata": {
    "collapsed": false,
    "pycharm": {
     "name": "#%%\n"
    }
   }
  },
  {
   "cell_type": "markdown",
   "source": [
    "А теперь проверим правильность полученного результата своими руками (с костылями, но зато убедимся)"
   ],
   "metadata": {
    "collapsed": false,
    "pycharm": {
     "name": "#%% md\n"
    }
   }
  },
  {
   "cell_type": "code",
   "execution_count": 42,
   "outputs": [],
   "source": [
    "for i in transactions['mcc_code'].unique():\n",
    "    if i in g_0.index:\n",
    "        gender_0[i] = g_0.loc[i]\n",
    "    else:\n",
    "        gender_0[i] = 0"
   ],
   "metadata": {
    "collapsed": false,
    "pycharm": {
     "name": "#%%\n"
    }
   }
  },
  {
   "cell_type": "code",
   "execution_count": 43,
   "outputs": [],
   "source": [
    "for i in transactions['mcc_code'].unique():\n",
    "    if i in g_1.index:\n",
    "        gender_1[i] = g_1.loc[i]\n",
    "    else:\n",
    "        gender_1[i] = 0"
   ],
   "metadata": {
    "collapsed": false,
    "pycharm": {
     "name": "#%%\n"
    }
   }
  },
  {
   "cell_type": "code",
   "execution_count": 44,
   "outputs": [],
   "source": [
    "differences = {}\n",
    "for i in range(len(gender_0)):\n",
    "    differences[list(gender_0.keys())[i]] = abs(list(gender_0.values())[i] -\n",
    "                                                list(gender_1.values())[i])"
   ],
   "metadata": {
    "collapsed": false,
    "pycharm": {
     "name": "#%%\n"
    }
   }
  },
  {
   "cell_type": "code",
   "execution_count": 45,
   "outputs": [
    {
     "data": {
      "text/plain": "[(6011, 3085861560.9300003),\n (4829, 2499153380.4900002),\n (6010, 220857973.82000002),\n (5541, 155432553.64999998),\n (5511, 73528766.9)]"
     },
     "execution_count": 45,
     "metadata": {},
     "output_type": "execute_result"
    }
   ],
   "source": [
    "sorted(differences.items(), key=lambda x: x[1], reverse=True)[:5]"
   ],
   "metadata": {
    "collapsed": false,
    "pycharm": {
     "name": "#%%\n"
    }
   }
  },
  {
   "cell_type": "markdown",
   "source": [
    "6011,    3.085862e+09<br />\n",
    "4829,    2.499153e+09<br />\n",
    "6010,    2.208580e+08<br/>\n",
    "5541,    1.554326e+08<br/>\n",
    "5511,    7.352877e+07<br/>\n",
    "\n",
    "Проверяем и видим, что обычная разность двух PandasSeries дала нам тот же результат"
   ],
   "metadata": {
    "collapsed": false,
    "pycharm": {
     "name": "#%% md\n"
    }
   }
  },
  {
   "cell_type": "markdown",
   "metadata": {
    "id": "aGaPkQkVSvl8"
   },
   "source": [
    "## Задание 8"
   ]
  },
  {
   "cell_type": "markdown",
   "metadata": {
    "id": "T7Ox1qAXTHQl"
   },
   "source": [
    "1. Из поля tr_datetime выделите час tr_hour, в который произошла транзакция, как первые 2 цифры до \":\". (\\**)\n",
    "2. Посчитайте ночные поступления для мужчин и женщин. Ночные - это примерно 00-06 часов. "
   ]
  },
  {
   "cell_type": "code",
   "execution_count": 46,
   "outputs": [
    {
     "data": {
      "text/plain": "   customer_id  tr_datetime  mcc_code  tr_type   amount term_id  gender  \\\n0     39026145   0 10:23:26      4814     1030 -2245.92     NaN     1.0   \n1     39026145   6 07:08:31      4814     1030 -5614.79     NaN     1.0   \n2     39026145   8 07:06:10      4814     1030 -1122.96     NaN     1.0   \n3     39026145  11 08:49:03      4814     1030 -2245.92     NaN     1.0   \n4     39026145  11 14:12:08      4814     1030 -2245.92     NaN     1.0   \n\n                                     mcc_description  \\\n0  Звонки с использованием телефонов, считывающих...   \n1  Звонки с использованием телефонов, считывающих...   \n2  Звонки с использованием телефонов, считывающих...   \n3  Звонки с использованием телефонов, считывающих...   \n4  Звонки с использованием телефонов, считывающих...   \n\n                   tr_description  \n0  Оплата услуги. Банкоматы СБ РФ  \n1  Оплата услуги. Банкоматы СБ РФ  \n2  Оплата услуги. Банкоматы СБ РФ  \n3  Оплата услуги. Банкоматы СБ РФ  \n4  Оплата услуги. Банкоматы СБ РФ  ",
      "text/html": "<div>\n<style scoped>\n    .dataframe tbody tr th:only-of-type {\n        vertical-align: middle;\n    }\n\n    .dataframe tbody tr th {\n        vertical-align: top;\n    }\n\n    .dataframe thead th {\n        text-align: right;\n    }\n</style>\n<table border=\"1\" class=\"dataframe\">\n  <thead>\n    <tr style=\"text-align: right;\">\n      <th></th>\n      <th>customer_id</th>\n      <th>tr_datetime</th>\n      <th>mcc_code</th>\n      <th>tr_type</th>\n      <th>amount</th>\n      <th>term_id</th>\n      <th>gender</th>\n      <th>mcc_description</th>\n      <th>tr_description</th>\n    </tr>\n  </thead>\n  <tbody>\n    <tr>\n      <th>0</th>\n      <td>39026145</td>\n      <td>0 10:23:26</td>\n      <td>4814</td>\n      <td>1030</td>\n      <td>-2245.92</td>\n      <td>NaN</td>\n      <td>1.0</td>\n      <td>Звонки с использованием телефонов, считывающих...</td>\n      <td>Оплата услуги. Банкоматы СБ РФ</td>\n    </tr>\n    <tr>\n      <th>1</th>\n      <td>39026145</td>\n      <td>6 07:08:31</td>\n      <td>4814</td>\n      <td>1030</td>\n      <td>-5614.79</td>\n      <td>NaN</td>\n      <td>1.0</td>\n      <td>Звонки с использованием телефонов, считывающих...</td>\n      <td>Оплата услуги. Банкоматы СБ РФ</td>\n    </tr>\n    <tr>\n      <th>2</th>\n      <td>39026145</td>\n      <td>8 07:06:10</td>\n      <td>4814</td>\n      <td>1030</td>\n      <td>-1122.96</td>\n      <td>NaN</td>\n      <td>1.0</td>\n      <td>Звонки с использованием телефонов, считывающих...</td>\n      <td>Оплата услуги. Банкоматы СБ РФ</td>\n    </tr>\n    <tr>\n      <th>3</th>\n      <td>39026145</td>\n      <td>11 08:49:03</td>\n      <td>4814</td>\n      <td>1030</td>\n      <td>-2245.92</td>\n      <td>NaN</td>\n      <td>1.0</td>\n      <td>Звонки с использованием телефонов, считывающих...</td>\n      <td>Оплата услуги. Банкоматы СБ РФ</td>\n    </tr>\n    <tr>\n      <th>4</th>\n      <td>39026145</td>\n      <td>11 14:12:08</td>\n      <td>4814</td>\n      <td>1030</td>\n      <td>-2245.92</td>\n      <td>NaN</td>\n      <td>1.0</td>\n      <td>Звонки с использованием телефонов, считывающих...</td>\n      <td>Оплата услуги. Банкоматы СБ РФ</td>\n    </tr>\n  </tbody>\n</table>\n</div>"
     },
     "execution_count": 46,
     "metadata": {},
     "output_type": "execute_result"
    }
   ],
   "source": [
    "transactions.head()"
   ],
   "metadata": {
    "collapsed": false,
    "pycharm": {
     "name": "#%%\n"
    }
   }
  },
  {
   "cell_type": "code",
   "execution_count": 47,
   "outputs": [],
   "source": [
    "import re"
   ],
   "metadata": {
    "collapsed": false,
    "pycharm": {
     "name": "#%%\n"
    }
   }
  },
  {
   "cell_type": "code",
   "execution_count": 48,
   "outputs": [],
   "source": [
    "lol = list(transactions['tr_datetime'].map(lambda x: re.search(r'\\d{2}:', x).group()))"
   ],
   "metadata": {
    "collapsed": false,
    "pycharm": {
     "name": "#%%\n"
    }
   }
  },
  {
   "cell_type": "code",
   "execution_count": 49,
   "outputs": [],
   "source": [
    "lol = list(map(lambda x: re.search(r'\\d{2}', x).group(), lol))\n",
    "lol = list(map(int, lol))"
   ],
   "metadata": {
    "collapsed": false,
    "pycharm": {
     "name": "#%%\n"
    }
   }
  },
  {
   "cell_type": "markdown",
   "source": [
    "### Ответ к заданию 8"
   ],
   "metadata": {
    "collapsed": false,
    "pycharm": {
     "name": "#%% md\n"
    }
   }
  },
  {
   "cell_type": "code",
   "execution_count": 50,
   "outputs": [],
   "source": [
    "# 1\n",
    "transactions['tr_hour'] = lol"
   ],
   "metadata": {
    "collapsed": false,
    "pycharm": {
     "name": "#%%\n"
    }
   }
  },
  {
   "cell_type": "code",
   "execution_count": 51,
   "outputs": [
    {
     "data": {
      "text/plain": "   customer_id  tr_datetime  mcc_code  tr_type   amount term_id  gender  \\\n0     39026145   0 10:23:26      4814     1030 -2245.92     NaN     1.0   \n1     39026145   6 07:08:31      4814     1030 -5614.79     NaN     1.0   \n2     39026145   8 07:06:10      4814     1030 -1122.96     NaN     1.0   \n3     39026145  11 08:49:03      4814     1030 -2245.92     NaN     1.0   \n4     39026145  11 14:12:08      4814     1030 -2245.92     NaN     1.0   \n\n                                     mcc_description  \\\n0  Звонки с использованием телефонов, считывающих...   \n1  Звонки с использованием телефонов, считывающих...   \n2  Звонки с использованием телефонов, считывающих...   \n3  Звонки с использованием телефонов, считывающих...   \n4  Звонки с использованием телефонов, считывающих...   \n\n                   tr_description  tr_hour  \n0  Оплата услуги. Банкоматы СБ РФ       10  \n1  Оплата услуги. Банкоматы СБ РФ        7  \n2  Оплата услуги. Банкоматы СБ РФ        7  \n3  Оплата услуги. Банкоматы СБ РФ        8  \n4  Оплата услуги. Банкоматы СБ РФ       14  ",
      "text/html": "<div>\n<style scoped>\n    .dataframe tbody tr th:only-of-type {\n        vertical-align: middle;\n    }\n\n    .dataframe tbody tr th {\n        vertical-align: top;\n    }\n\n    .dataframe thead th {\n        text-align: right;\n    }\n</style>\n<table border=\"1\" class=\"dataframe\">\n  <thead>\n    <tr style=\"text-align: right;\">\n      <th></th>\n      <th>customer_id</th>\n      <th>tr_datetime</th>\n      <th>mcc_code</th>\n      <th>tr_type</th>\n      <th>amount</th>\n      <th>term_id</th>\n      <th>gender</th>\n      <th>mcc_description</th>\n      <th>tr_description</th>\n      <th>tr_hour</th>\n    </tr>\n  </thead>\n  <tbody>\n    <tr>\n      <th>0</th>\n      <td>39026145</td>\n      <td>0 10:23:26</td>\n      <td>4814</td>\n      <td>1030</td>\n      <td>-2245.92</td>\n      <td>NaN</td>\n      <td>1.0</td>\n      <td>Звонки с использованием телефонов, считывающих...</td>\n      <td>Оплата услуги. Банкоматы СБ РФ</td>\n      <td>10</td>\n    </tr>\n    <tr>\n      <th>1</th>\n      <td>39026145</td>\n      <td>6 07:08:31</td>\n      <td>4814</td>\n      <td>1030</td>\n      <td>-5614.79</td>\n      <td>NaN</td>\n      <td>1.0</td>\n      <td>Звонки с использованием телефонов, считывающих...</td>\n      <td>Оплата услуги. Банкоматы СБ РФ</td>\n      <td>7</td>\n    </tr>\n    <tr>\n      <th>2</th>\n      <td>39026145</td>\n      <td>8 07:06:10</td>\n      <td>4814</td>\n      <td>1030</td>\n      <td>-1122.96</td>\n      <td>NaN</td>\n      <td>1.0</td>\n      <td>Звонки с использованием телефонов, считывающих...</td>\n      <td>Оплата услуги. Банкоматы СБ РФ</td>\n      <td>7</td>\n    </tr>\n    <tr>\n      <th>3</th>\n      <td>39026145</td>\n      <td>11 08:49:03</td>\n      <td>4814</td>\n      <td>1030</td>\n      <td>-2245.92</td>\n      <td>NaN</td>\n      <td>1.0</td>\n      <td>Звонки с использованием телефонов, считывающих...</td>\n      <td>Оплата услуги. Банкоматы СБ РФ</td>\n      <td>8</td>\n    </tr>\n    <tr>\n      <th>4</th>\n      <td>39026145</td>\n      <td>11 14:12:08</td>\n      <td>4814</td>\n      <td>1030</td>\n      <td>-2245.92</td>\n      <td>NaN</td>\n      <td>1.0</td>\n      <td>Звонки с использованием телефонов, считывающих...</td>\n      <td>Оплата услуги. Банкоматы СБ РФ</td>\n      <td>14</td>\n    </tr>\n  </tbody>\n</table>\n</div>"
     },
     "execution_count": 51,
     "metadata": {},
     "output_type": "execute_result"
    }
   ],
   "source": [
    "# 1\n",
    "transactions.head()"
   ],
   "metadata": {
    "collapsed": false,
    "pycharm": {
     "name": "#%%\n"
    }
   }
  },
  {
   "cell_type": "code",
   "execution_count": 52,
   "outputs": [
    {
     "data": {
      "text/plain": "customer_id\n117556       996063.66\n293048      1825929.53\n1747627      240312.99\n1946162     1426156.55\n2208164      429980.33\n               ...    \n96057039    2088701.67\n98488344      94306.00\n98804574     826946.18\n98998782     156809.85\n99683064      10106.63\nName: amount, Length: 151, dtype: float64"
     },
     "execution_count": 52,
     "metadata": {},
     "output_type": "execute_result"
    }
   ],
   "source": [
    "# 2 (gender = 0)\n",
    "transactions[(transactions['gender'] == 0) & (transactions['tr_hour'] > 0) & (transactions['tr_hour'] < 6) &\n",
    "             (transactions['amount'] > 0)].\\\n",
    "    groupby('customer_id').sum()['amount']"
   ],
   "metadata": {
    "collapsed": false,
    "pycharm": {
     "name": "#%%\n"
    }
   }
  },
  {
   "cell_type": "code",
   "execution_count": 53,
   "outputs": [
    {
     "data": {
      "text/plain": "customer_id\n189257       359346.52\n361458      1174613.96\n496551      1437386.10\n1297829      183042.14\n1521146       28803.87\n               ...    \n99267661    1684436.83\n99302313     104435.08\n99859464     336887.37\n99864691     103312.13\n99999680     233575.24\nName: amount, Length: 272, dtype: float64"
     },
     "execution_count": 53,
     "metadata": {},
     "output_type": "execute_result"
    }
   ],
   "source": [
    "# 2 (gender = 1)\n",
    "transactions[(transactions['gender'] == 1) & (transactions['tr_hour'] >= 0) & (transactions['tr_hour'] <= 6) &\n",
    "             (transactions['amount'] > 0)].\\\n",
    "    groupby('customer_id').sum()['amount']"
   ],
   "metadata": {
    "collapsed": false,
    "pycharm": {
     "name": "#%%\n"
    }
   }
  },
  {
   "cell_type": "markdown",
   "source": [
    "# Доп запрос"
   ],
   "metadata": {
    "collapsed": false,
    "pycharm": {
     "name": "#%% md\n"
    }
   }
  },
  {
   "cell_type": "code",
   "execution_count": 89,
   "outputs": [
    {
     "data": {
      "text/plain": "     mcc_code                                    mcc_description\n417      4814  Звонки с использованием телефонов, считывающих...\n418      4814  Звонки с использованием телефонов, считывающих...\n419      4814  Звонки с использованием телефонов, считывающих...\n420      4814  Звонки с использованием телефонов, считывающих...\n421      4814  Звонки с использованием телефонов, считывающих...",
      "text/html": "<div>\n<style scoped>\n    .dataframe tbody tr th:only-of-type {\n        vertical-align: middle;\n    }\n\n    .dataframe tbody tr th {\n        vertical-align: top;\n    }\n\n    .dataframe thead th {\n        text-align: right;\n    }\n</style>\n<table border=\"1\" class=\"dataframe\">\n  <thead>\n    <tr style=\"text-align: right;\">\n      <th></th>\n      <th>mcc_code</th>\n      <th>mcc_description</th>\n    </tr>\n  </thead>\n  <tbody>\n    <tr>\n      <th>417</th>\n      <td>4814</td>\n      <td>Звонки с использованием телефонов, считывающих...</td>\n    </tr>\n    <tr>\n      <th>418</th>\n      <td>4814</td>\n      <td>Звонки с использованием телефонов, считывающих...</td>\n    </tr>\n    <tr>\n      <th>419</th>\n      <td>4814</td>\n      <td>Звонки с использованием телефонов, считывающих...</td>\n    </tr>\n    <tr>\n      <th>420</th>\n      <td>4814</td>\n      <td>Звонки с использованием телефонов, считывающих...</td>\n    </tr>\n    <tr>\n      <th>421</th>\n      <td>4814</td>\n      <td>Звонки с использованием телефонов, считывающих...</td>\n    </tr>\n  </tbody>\n</table>\n</div>"
     },
     "execution_count": 89,
     "metadata": {},
     "output_type": "execute_result"
    }
   ],
   "source": [
    "# gender = 0\n",
    "transactions[(transactions['gender'] == 0) & (transactions['amount'] < 0)][['mcc_code', 'mcc_description']].head()"
   ],
   "metadata": {
    "collapsed": false,
    "pycharm": {
     "name": "#%%\n"
    }
   }
  },
  {
   "cell_type": "code",
   "execution_count": 90,
   "outputs": [
    {
     "data": {
      "text/plain": "   mcc_code                                    mcc_description\n0      4814  Звонки с использованием телефонов, считывающих...\n1      4814  Звонки с использованием телефонов, считывающих...\n2      4814  Звонки с использованием телефонов, считывающих...\n3      4814  Звонки с использованием телефонов, считывающих...\n4      4814  Звонки с использованием телефонов, считывающих...",
      "text/html": "<div>\n<style scoped>\n    .dataframe tbody tr th:only-of-type {\n        vertical-align: middle;\n    }\n\n    .dataframe tbody tr th {\n        vertical-align: top;\n    }\n\n    .dataframe thead th {\n        text-align: right;\n    }\n</style>\n<table border=\"1\" class=\"dataframe\">\n  <thead>\n    <tr style=\"text-align: right;\">\n      <th></th>\n      <th>mcc_code</th>\n      <th>mcc_description</th>\n    </tr>\n  </thead>\n  <tbody>\n    <tr>\n      <th>0</th>\n      <td>4814</td>\n      <td>Звонки с использованием телефонов, считывающих...</td>\n    </tr>\n    <tr>\n      <th>1</th>\n      <td>4814</td>\n      <td>Звонки с использованием телефонов, считывающих...</td>\n    </tr>\n    <tr>\n      <th>2</th>\n      <td>4814</td>\n      <td>Звонки с использованием телефонов, считывающих...</td>\n    </tr>\n    <tr>\n      <th>3</th>\n      <td>4814</td>\n      <td>Звонки с использованием телефонов, считывающих...</td>\n    </tr>\n    <tr>\n      <th>4</th>\n      <td>4814</td>\n      <td>Звонки с использованием телефонов, считывающих...</td>\n    </tr>\n  </tbody>\n</table>\n</div>"
     },
     "execution_count": 90,
     "metadata": {},
     "output_type": "execute_result"
    }
   ],
   "source": [
    "# gender = 1\n",
    "transactions[(transactions['gender'] == 1) & (transactions['amount'] < 0)][['mcc_code', 'mcc_description']].head()"
   ],
   "metadata": {
    "collapsed": false,
    "pycharm": {
     "name": "#%%\n"
    }
   }
  },
  {
   "cell_type": "code",
   "execution_count": 91,
   "outputs": [],
   "source": [
    "mccs_for_0 = transactions[(transactions['gender'] == 0) & (transactions['amount'] < 0)]['mcc_code'].unique()"
   ],
   "metadata": {
    "collapsed": false,
    "pycharm": {
     "name": "#%%\n"
    }
   }
  },
  {
   "cell_type": "code",
   "execution_count": 92,
   "outputs": [],
   "source": [
    "mccs_for_1 = transactions[(transactions['gender'] == 1) & (transactions['amount'] < 0)]['mcc_code'].unique()"
   ],
   "metadata": {
    "collapsed": false,
    "pycharm": {
     "name": "#%%\n"
    }
   }
  },
  {
   "cell_type": "code",
   "execution_count": 93,
   "outputs": [],
   "source": [
    "unique_mccs_for_0 = [i for i in mccs_for_0 if i not in mccs_for_1]"
   ],
   "metadata": {
    "collapsed": false,
    "pycharm": {
     "name": "#%%\n"
    }
   }
  },
  {
   "cell_type": "code",
   "execution_count": 94,
   "outputs": [],
   "source": [
    "unique_mccs_for_1 = [i for i in mccs_for_1 if i not in mccs_for_0]"
   ],
   "metadata": {
    "collapsed": false,
    "pycharm": {
     "name": "#%%\n"
    }
   }
  },
  {
   "cell_type": "markdown",
   "source": [
    "Те, которые только у пола 0:"
   ],
   "metadata": {
    "collapsed": false,
    "pycharm": {
     "name": "#%% md\n"
    }
   }
  },
  {
   "cell_type": "code",
   "execution_count": 95,
   "outputs": [
    {
     "data": {
      "text/plain": "[7278, 5310, 5131, 5931, 5965, 5697]"
     },
     "execution_count": 95,
     "metadata": {},
     "output_type": "execute_result"
    }
   ],
   "source": [
    "unique_mccs_for_0"
   ],
   "metadata": {
    "collapsed": false,
    "pycharm": {
     "name": "#%%\n"
    }
   }
  },
  {
   "cell_type": "code",
   "execution_count": 96,
   "outputs": [
    {
     "data": {
      "text/plain": "     mcc_code                                    mcc_description\n38       5131  Штучные товары, галантерея и другие текстильны...\n52       5310             Магазины, торгующие по сниженным ценам\n78       5697       Услуги по переделке, починке и пошиву одежды\n96       5931  Магазины second hand, магазины б/у товаров, ко...\n109      5965  Прямой маркетинг — комбинированный каталог и т...\n137      7278                         Сервисы по покупке/продаже",
      "text/html": "<div>\n<style scoped>\n    .dataframe tbody tr th:only-of-type {\n        vertical-align: middle;\n    }\n\n    .dataframe tbody tr th {\n        vertical-align: top;\n    }\n\n    .dataframe thead th {\n        text-align: right;\n    }\n</style>\n<table border=\"1\" class=\"dataframe\">\n  <thead>\n    <tr style=\"text-align: right;\">\n      <th></th>\n      <th>mcc_code</th>\n      <th>mcc_description</th>\n    </tr>\n  </thead>\n  <tbody>\n    <tr>\n      <th>38</th>\n      <td>5131</td>\n      <td>Штучные товары, галантерея и другие текстильны...</td>\n    </tr>\n    <tr>\n      <th>52</th>\n      <td>5310</td>\n      <td>Магазины, торгующие по сниженным ценам</td>\n    </tr>\n    <tr>\n      <th>78</th>\n      <td>5697</td>\n      <td>Услуги по переделке, починке и пошиву одежды</td>\n    </tr>\n    <tr>\n      <th>96</th>\n      <td>5931</td>\n      <td>Магазины second hand, магазины б/у товаров, ко...</td>\n    </tr>\n    <tr>\n      <th>109</th>\n      <td>5965</td>\n      <td>Прямой маркетинг — комбинированный каталог и т...</td>\n    </tr>\n    <tr>\n      <th>137</th>\n      <td>7278</td>\n      <td>Сервисы по покупке/продаже</td>\n    </tr>\n  </tbody>\n</table>\n</div>"
     },
     "execution_count": 96,
     "metadata": {},
     "output_type": "execute_result"
    }
   ],
   "source": [
    "mccs[mccs['mcc_code'].isin(unique_mccs_for_0)]"
   ],
   "metadata": {
    "collapsed": false,
    "pycharm": {
     "name": "#%%\n"
    }
   }
  },
  {
   "cell_type": "code",
   "execution_count": 97,
   "outputs": [
    {
     "name": "stdout",
     "output_type": "stream",
     "text": [
      "Для пола 0 всего 6 категорий, которые не используются полом 1\n"
     ]
    }
   ],
   "source": [
    "print(f'Для пола 0 всего {len(unique_mccs_for_0)} категорий, которые не используются полом 1')"
   ],
   "metadata": {
    "collapsed": false,
    "pycharm": {
     "name": "#%%\n"
    }
   }
  },
  {
   "cell_type": "markdown",
   "source": [
    "---\n",
    "Те, которые только у пола 1:"
   ],
   "metadata": {
    "collapsed": false,
    "pycharm": {
     "name": "#%% md\n"
    }
   }
  },
  {
   "cell_type": "code",
   "execution_count": 98,
   "outputs": [
    {
     "data": {
      "text/plain": "[5571, 7829, 7512, 7338, 9402, 1731, 5967]"
     },
     "execution_count": 98,
     "metadata": {},
     "output_type": "execute_result"
    }
   ],
   "source": [
    "unique_mccs_for_1"
   ],
   "metadata": {
    "collapsed": false,
    "pycharm": {
     "name": "#%%\n"
    }
   }
  },
  {
   "cell_type": "code",
   "execution_count": 99,
   "outputs": [
    {
     "data": {
      "text/plain": "'Для пола 1 всего 7 категорий, которые не используются полом 0'"
     },
     "execution_count": 99,
     "metadata": {},
     "output_type": "execute_result"
    }
   ],
   "source": [
    "f'Для пола 1 всего {len(unique_mccs_for_1)} категорий, которые не используются полом 0'"
   ],
   "metadata": {
    "collapsed": false,
    "pycharm": {
     "name": "#%%\n"
    }
   }
  },
  {
   "cell_type": "code",
   "execution_count": 100,
   "outputs": [
    {
     "data": {
      "text/plain": "     mcc_code                            mcc_description\n2        1731                Подрядчики по электричеству\n67       5571                         Продажа мотоциклов\n110      5967  Прямой маркетинг — входящий телемаркетинг\n141      7338               Услуги копировальных центров\n146      7512                         Прокат автомобилей\n153      7829    Производство и дистрибуция видеофильмов\n183      9402     Почтовые услуги — только правительство",
      "text/html": "<div>\n<style scoped>\n    .dataframe tbody tr th:only-of-type {\n        vertical-align: middle;\n    }\n\n    .dataframe tbody tr th {\n        vertical-align: top;\n    }\n\n    .dataframe thead th {\n        text-align: right;\n    }\n</style>\n<table border=\"1\" class=\"dataframe\">\n  <thead>\n    <tr style=\"text-align: right;\">\n      <th></th>\n      <th>mcc_code</th>\n      <th>mcc_description</th>\n    </tr>\n  </thead>\n  <tbody>\n    <tr>\n      <th>2</th>\n      <td>1731</td>\n      <td>Подрядчики по электричеству</td>\n    </tr>\n    <tr>\n      <th>67</th>\n      <td>5571</td>\n      <td>Продажа мотоциклов</td>\n    </tr>\n    <tr>\n      <th>110</th>\n      <td>5967</td>\n      <td>Прямой маркетинг — входящий телемаркетинг</td>\n    </tr>\n    <tr>\n      <th>141</th>\n      <td>7338</td>\n      <td>Услуги копировальных центров</td>\n    </tr>\n    <tr>\n      <th>146</th>\n      <td>7512</td>\n      <td>Прокат автомобилей</td>\n    </tr>\n    <tr>\n      <th>153</th>\n      <td>7829</td>\n      <td>Производство и дистрибуция видеофильмов</td>\n    </tr>\n    <tr>\n      <th>183</th>\n      <td>9402</td>\n      <td>Почтовые услуги — только правительство</td>\n    </tr>\n  </tbody>\n</table>\n</div>"
     },
     "execution_count": 100,
     "metadata": {},
     "output_type": "execute_result"
    }
   ],
   "source": [
    "mccs[mccs['mcc_code'].isin(unique_mccs_for_1)]"
   ],
   "metadata": {
    "collapsed": false,
    "pycharm": {
     "name": "#%%\n"
    }
   }
  },
  {
   "cell_type": "code",
   "execution_count": null,
   "outputs": [],
   "source": [],
   "metadata": {
    "collapsed": false,
    "pycharm": {
     "name": "#%%\n"
    }
   }
  }
 ],
 "metadata": {
  "colab": {
   "name": "lab2.ipynb",
   "provenance": [],
   "toc_visible": true
  },
  "hide_input": false,
  "kernelspec": {
   "display_name": "Python 3 (ipykernel)",
   "language": "python",
   "name": "python3"
  },
  "language_info": {
   "codemirror_mode": {
    "name": "ipython",
    "version": 3
   },
   "file_extension": ".py",
   "mimetype": "text/x-python",
   "name": "python",
   "nbconvert_exporter": "python",
   "pygments_lexer": "ipython3",
   "version": "3.8.10"
  },
  "toc": {
   "base_numbering": 1,
   "nav_menu": {},
   "number_sections": true,
   "sideBar": true,
   "skip_h1_title": false,
   "title_cell": "Table of Contents",
   "title_sidebar": "Contents",
   "toc_cell": true,
   "toc_position": {},
   "toc_section_display": true,
   "toc_window_display": false
  },
  "varInspector": {
   "cols": {
    "lenName": 16,
    "lenType": 16,
    "lenVar": 40
   },
   "kernels_config": {
    "python": {
     "delete_cmd_postfix": "",
     "delete_cmd_prefix": "del ",
     "library": "var_list.py",
     "varRefreshCmd": "print(var_dic_list())"
    },
    "r": {
     "delete_cmd_postfix": ") ",
     "delete_cmd_prefix": "rm(",
     "library": "var_list.r",
     "varRefreshCmd": "cat(var_dic_list()) "
    }
   },
   "types_to_exclude": [
    "module",
    "function",
    "builtin_function_or_method",
    "instance",
    "_Feature"
   ],
   "window_display": false
  }
 },
 "nbformat": 4,
 "nbformat_minor": 1
}