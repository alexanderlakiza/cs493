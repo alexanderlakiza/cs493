{
 "nbformat": 4,
 "nbformat_minor": 0,
 "metadata": {
  "hide_input": false,
  "kernelspec": {
   "display_name": "Python 3",
   "language": "python",
   "name": "python3"
  },
  "language_info": {
   "codemirror_mode": {
    "name": "ipython",
    "version": 3
   },
   "file_extension": ".py",
   "mimetype": "text/x-python",
   "name": "python",
   "nbconvert_exporter": "python",
   "pygments_lexer": "ipython3",
   "version": "3.7.1"
  },
  "toc": {
   "base_numbering": 1,
   "nav_menu": {},
   "number_sections": true,
   "sideBar": true,
   "skip_h1_title": false,
   "title_cell": "Table of Contents",
   "title_sidebar": "Contents",
   "toc_cell": true,
   "toc_position": {},
   "toc_section_display": true,
   "toc_window_display": false
  },
  "varInspector": {
   "cols": {
    "lenName": 16,
    "lenType": 16,
    "lenVar": 40
   },
   "kernels_config": {
    "python": {
     "delete_cmd_postfix": "",
     "delete_cmd_prefix": "del ",
     "library": "var_list.py",
     "varRefreshCmd": "print(var_dic_list())"
    },
    "r": {
     "delete_cmd_postfix": ") ",
     "delete_cmd_prefix": "rm(",
     "library": "var_list.r",
     "varRefreshCmd": "cat(var_dic_list()) "
    }
   },
   "types_to_exclude": [
    "module",
    "function",
    "builtin_function_or_method",
    "instance",
    "_Feature"
   ],
   "window_display": false
  },
  "colab": {
   "name": "lab2.ipynb",
   "provenance": [],
   "toc_visible": true
  }
 },
 "cells": [
  {
   "cell_type": "code",
   "metadata": {
    "ExecuteTime": {
     "end_time": "2020-04-23T10:16:05.965275Z",
     "start_time": "2020-04-23T10:16:05.312704Z"
    },
    "id": "bZ7J0si68JdT"
   },
   "source": [
    "import pandas as pd\n",
    "import numpy as np"
   ],
   "execution_count": 1,
   "outputs": []
  },
  {
   "cell_type": "markdown",
   "metadata": {
    "id": "xjvL0IIG8Jd0"
   },
   "source": [
    "## Задание 0\n"
   ]
  },
  {
   "cell_type": "markdown",
   "metadata": {
    "id": "yaSxXHvxO0qo"
   },
   "source": [
    "Для всех  заданий будем использовать обезличенные транзакционные банковские данные. Для этого считайте в переменные **tr_mcc_codes, tr_types, transactions и gender_train** из одноимённых таблиц из папки data. Для таблицы transactions используйте только первые n=1000000 строк. Обратите внимание на разделители внутри каждого из файлов - они могут различаться!"
   ]
  },
  {
   "cell_type": "markdown",
   "metadata": {
    "id": "oP3lX9xC8Jd8"
   },
   "source": [
    "###  Описание данных\n",
    "#### Таблица ```transactions.csv```\n",
    "##### Описание\n",
    "Таблица содержит историю транзакций клиентов банка за один год и три месяца.\n",
    "\n",
    "##### Формат данных\n",
    "\n",
    "```\n",
    "customer_id,tr_datetime,mcc_code,tr_type,amount,term_id\n",
    "111111,15 01:40:52,1111,1000,-5224,111111\n",
    "111112,15 15:18:32,3333,2000,-100,11122233\n",
    "...\n",
    "```\n",
    "##### Описание полей\n",
    "\n",
    " - ```customer_id``` — идентификатор клиента;\n",
    " - ```tr_datetime``` — день и время совершения транзакции (дни нумеруются с начала данных);\n",
    " - ```mcc_code``` — mcc-код транзакции;\n",
    " - ```tr_type``` — тип транзакции;\n",
    " - ```amount``` — сумма транзакции в условных единицах со знаком; ```+``` — начисление средств клиенту (приходная транзакция), ```-``` — списание средств (расходная транзакция);\n",
    " - ```term_id``` — идентификатор терминала;\n",
    "\n",
    "\n",
    "#### Таблица ```gender_train.csv```\n",
    "\n",
    "##### Описание\n",
    "Данная таблица содержит информацию по полу для части клиентов, для которых он известен. Для остальных клиентов пол неизвестен.\n",
    "\n",
    "##### Формат данных\n",
    "```\n",
    "customer_id,gender\n",
    "111111,0\n",
    "111112,1\n",
    "...\n",
    "```\n",
    "\n",
    "##### Описание полей\n",
    " - ```customer_id``` — идентификатор клиента;\n",
    " - ```gender``` — пол клиента;\n",
    "\n",
    "### Таблица ```tr_mcc_codes.csv```\n",
    "\n",
    "##### Описание\n",
    "Данная таблица содержит описание mcc-кодов транзакций.\n",
    "\n",
    "##### Формат данных\n",
    "```\n",
    "mcc_code;mcc_description\n",
    "1000;словесное описание mcc-кода 1000\n",
    "2000;словесное описание mcc-кода 2000\n",
    "...\n",
    "```\n",
    "\n",
    "##### Описание полей\n",
    " - ```mcc_code``` – mcc-код транзакции;\n",
    " - ```mcc_description``` — описание mcc-кода транзакции.\n",
    "\n",
    "#### Таблица ```tr_types.csv```\n",
    "\n",
    "##### Описание\n",
    "Данная таблица содержит описание типов транзакций.\n",
    "\n",
    "##### Формат данных\n",
    "```\n",
    "tr_type;tr_description\n",
    "1000;словесное описание типа транзакции 1000\n",
    "2000;словесное описание типа транзакции 2000\n",
    "...\n",
    "```\n",
    "\n",
    "##### Описание полей\n",
    " - ```tr_type``` – тип транзакции;\n",
    " - ```tr_description``` — описание типа транзакции;"
   ]
  },
  {
   "cell_type": "code",
   "execution_count": 2,
   "outputs": [
    {
     "data": {
      "text/plain": "   customer_id tr_datetime  mcc_code  tr_type    amount term_id\n0     39026145  0 10:23:26      4814     1030  -2245.92     NaN\n1     39026145  1 10:19:29      6011     7010  56147.89     NaN\n2     39026145  1 10:20:56      4829     2330 -56147.89     NaN\n3     39026145  1 10:39:54      5499     1010  -1392.47     NaN\n4     39026145  2 15:33:42      5499     1010   -920.83     NaN",
      "text/html": "<div>\n<style scoped>\n    .dataframe tbody tr th:only-of-type {\n        vertical-align: middle;\n    }\n\n    .dataframe tbody tr th {\n        vertical-align: top;\n    }\n\n    .dataframe thead th {\n        text-align: right;\n    }\n</style>\n<table border=\"1\" class=\"dataframe\">\n  <thead>\n    <tr style=\"text-align: right;\">\n      <th></th>\n      <th>customer_id</th>\n      <th>tr_datetime</th>\n      <th>mcc_code</th>\n      <th>tr_type</th>\n      <th>amount</th>\n      <th>term_id</th>\n    </tr>\n  </thead>\n  <tbody>\n    <tr>\n      <th>0</th>\n      <td>39026145</td>\n      <td>0 10:23:26</td>\n      <td>4814</td>\n      <td>1030</td>\n      <td>-2245.92</td>\n      <td>NaN</td>\n    </tr>\n    <tr>\n      <th>1</th>\n      <td>39026145</td>\n      <td>1 10:19:29</td>\n      <td>6011</td>\n      <td>7010</td>\n      <td>56147.89</td>\n      <td>NaN</td>\n    </tr>\n    <tr>\n      <th>2</th>\n      <td>39026145</td>\n      <td>1 10:20:56</td>\n      <td>4829</td>\n      <td>2330</td>\n      <td>-56147.89</td>\n      <td>NaN</td>\n    </tr>\n    <tr>\n      <th>3</th>\n      <td>39026145</td>\n      <td>1 10:39:54</td>\n      <td>5499</td>\n      <td>1010</td>\n      <td>-1392.47</td>\n      <td>NaN</td>\n    </tr>\n    <tr>\n      <th>4</th>\n      <td>39026145</td>\n      <td>2 15:33:42</td>\n      <td>5499</td>\n      <td>1010</td>\n      <td>-920.83</td>\n      <td>NaN</td>\n    </tr>\n  </tbody>\n</table>\n</div>"
     },
     "execution_count": 2,
     "metadata": {},
     "output_type": "execute_result"
    }
   ],
   "source": [
    "df = pd.read_csv(\"../data/transactions.csv\", nrows=1000000)\n",
    "df.head()"
   ],
   "metadata": {
    "collapsed": false,
    "pycharm": {
     "name": "#%%\n"
    }
   }
  },
  {
   "cell_type": "code",
   "execution_count": 3,
   "outputs": [
    {
     "data": {
      "text/plain": "   customer_id  gender\n0     10928546       1\n1     69348468       1\n2     61009479       0\n3     74045822       0\n4     27979606       1",
      "text/html": "<div>\n<style scoped>\n    .dataframe tbody tr th:only-of-type {\n        vertical-align: middle;\n    }\n\n    .dataframe tbody tr th {\n        vertical-align: top;\n    }\n\n    .dataframe thead th {\n        text-align: right;\n    }\n</style>\n<table border=\"1\" class=\"dataframe\">\n  <thead>\n    <tr style=\"text-align: right;\">\n      <th></th>\n      <th>customer_id</th>\n      <th>gender</th>\n    </tr>\n  </thead>\n  <tbody>\n    <tr>\n      <th>0</th>\n      <td>10928546</td>\n      <td>1</td>\n    </tr>\n    <tr>\n      <th>1</th>\n      <td>69348468</td>\n      <td>1</td>\n    </tr>\n    <tr>\n      <th>2</th>\n      <td>61009479</td>\n      <td>0</td>\n    </tr>\n    <tr>\n      <th>3</th>\n      <td>74045822</td>\n      <td>0</td>\n    </tr>\n    <tr>\n      <th>4</th>\n      <td>27979606</td>\n      <td>1</td>\n    </tr>\n  </tbody>\n</table>\n</div>"
     },
     "execution_count": 3,
     "metadata": {},
     "output_type": "execute_result"
    }
   ],
   "source": [
    "genders = pd.read_csv(\"../data/gender_train.csv\")\n",
    "genders.head()"
   ],
   "metadata": {
    "collapsed": false,
    "pycharm": {
     "name": "#%%\n"
    }
   }
  },
  {
   "cell_type": "code",
   "execution_count": 4,
   "outputs": [
    {
     "data": {
      "text/plain": "   mcc_code                                    mcc_description\n0       742                                Ветеринарные услуги\n1      1711  Генеральные подрядчики по вентиляции, теплосна...\n2      1731                        Подрядчики по электричеству\n3      1799  Подрядчики, специализированная торговля — нигд...\n4      2741           Разнообразные издательства/печатное дело",
      "text/html": "<div>\n<style scoped>\n    .dataframe tbody tr th:only-of-type {\n        vertical-align: middle;\n    }\n\n    .dataframe tbody tr th {\n        vertical-align: top;\n    }\n\n    .dataframe thead th {\n        text-align: right;\n    }\n</style>\n<table border=\"1\" class=\"dataframe\">\n  <thead>\n    <tr style=\"text-align: right;\">\n      <th></th>\n      <th>mcc_code</th>\n      <th>mcc_description</th>\n    </tr>\n  </thead>\n  <tbody>\n    <tr>\n      <th>0</th>\n      <td>742</td>\n      <td>Ветеринарные услуги</td>\n    </tr>\n    <tr>\n      <th>1</th>\n      <td>1711</td>\n      <td>Генеральные подрядчики по вентиляции, теплосна...</td>\n    </tr>\n    <tr>\n      <th>2</th>\n      <td>1731</td>\n      <td>Подрядчики по электричеству</td>\n    </tr>\n    <tr>\n      <th>3</th>\n      <td>1799</td>\n      <td>Подрядчики, специализированная торговля — нигд...</td>\n    </tr>\n    <tr>\n      <th>4</th>\n      <td>2741</td>\n      <td>Разнообразные издательства/печатное дело</td>\n    </tr>\n  </tbody>\n</table>\n</div>"
     },
     "execution_count": 4,
     "metadata": {},
     "output_type": "execute_result"
    }
   ],
   "source": [
    "mccs = pd.read_csv(\"../data/tr_mcc_codes.csv\", sep=';')\n",
    "mccs.head()"
   ],
   "metadata": {
    "collapsed": false,
    "pycharm": {
     "name": "#%%\n"
    }
   }
  },
  {
   "cell_type": "code",
   "execution_count": 5,
   "outputs": [
    {
     "data": {
      "text/plain": "   tr_type                                     tr_description\n0     3200  Плата за предоставление услуг посредством моби...\n1     3210  Плата за предоставление отчета по счету карты ...\n2     3800  Плата за обслуживание банковской карты (за пер...\n3     4000            Плата за получение наличных в Сбербанке\n4     4001  Плата за получение наличных в Сбербанке (в дру...",
      "text/html": "<div>\n<style scoped>\n    .dataframe tbody tr th:only-of-type {\n        vertical-align: middle;\n    }\n\n    .dataframe tbody tr th {\n        vertical-align: top;\n    }\n\n    .dataframe thead th {\n        text-align: right;\n    }\n</style>\n<table border=\"1\" class=\"dataframe\">\n  <thead>\n    <tr style=\"text-align: right;\">\n      <th></th>\n      <th>tr_type</th>\n      <th>tr_description</th>\n    </tr>\n  </thead>\n  <tbody>\n    <tr>\n      <th>0</th>\n      <td>3200</td>\n      <td>Плата за предоставление услуг посредством моби...</td>\n    </tr>\n    <tr>\n      <th>1</th>\n      <td>3210</td>\n      <td>Плата за предоставление отчета по счету карты ...</td>\n    </tr>\n    <tr>\n      <th>2</th>\n      <td>3800</td>\n      <td>Плата за обслуживание банковской карты (за пер...</td>\n    </tr>\n    <tr>\n      <th>3</th>\n      <td>4000</td>\n      <td>Плата за получение наличных в Сбербанке</td>\n    </tr>\n    <tr>\n      <th>4</th>\n      <td>4001</td>\n      <td>Плата за получение наличных в Сбербанке (в дру...</td>\n    </tr>\n  </tbody>\n</table>\n</div>"
     },
     "execution_count": 5,
     "metadata": {},
     "output_type": "execute_result"
    }
   ],
   "source": [
    "tr_types = pd.read_csv(\"../data/tr_types.csv\", sep=';')\n",
    "tr_types.head()"
   ],
   "metadata": {
    "collapsed": false,
    "pycharm": {
     "name": "#%%\n"
    }
   }
  },
  {
   "cell_type": "markdown",
   "metadata": {
    "id": "04CYsBKz8JeB"
   },
   "source": [
    "## Задание 1\n",
    "\n"
   ]
  },
  {
   "cell_type": "markdown",
   "metadata": {
    "id": "1hcrfwsYN_Yz"
   },
   "source": [
    "1. Для столбца tr_type датафрейма transactions выберите произвольные 1000 строк с помощью метода sample\n",
    "2. В полученной на предыдущем этапе подвыборке найдите долю транзакций (стобец tr_description в датасете tr_types), в которой содержится подстрока 'POS' или 'ATM'"
   ]
  },
  {
   "cell_type": "markdown",
   "source": [
    "Если мы должны найти долю типов транзакций, которые содержат __POS__ или __ATM__ от всех уникальных типов транзакций в выборке `sample`:"
   ],
   "metadata": {
    "collapsed": false,
    "pycharm": {
     "name": "#%% md\n"
    }
   }
  },
  {
   "cell_type": "code",
   "execution_count": 46,
   "outputs": [],
   "source": [
    "# 1\n",
    "sample = df['tr_type'].sample(1000)"
   ],
   "metadata": {
    "collapsed": false,
    "pycharm": {
     "name": "#%%\n"
    }
   }
  },
  {
   "cell_type": "code",
   "execution_count": 47,
   "outputs": [],
   "source": [
    "unique_types_in_sample = sample.unique()"
   ],
   "metadata": {
    "collapsed": false,
    "pycharm": {
     "name": "#%%\n"
    }
   }
  },
  {
   "cell_type": "code",
   "execution_count": 48,
   "outputs": [
    {
     "data": {
      "text/plain": "1000"
     },
     "execution_count": 48,
     "metadata": {},
     "output_type": "execute_result"
    }
   ],
   "source": [
    "len(sample)"
   ],
   "metadata": {
    "collapsed": false,
    "pycharm": {
     "name": "#%%\n"
    }
   }
  },
  {
   "cell_type": "markdown",
   "source": [
    "### Ответ к заданию 1"
   ],
   "metadata": {
    "collapsed": false,
    "pycharm": {
     "name": "#%% md\n"
    }
   }
  },
  {
   "cell_type": "code",
   "execution_count": 49,
   "outputs": [
    {
     "data": {
      "text/plain": "False    0.735294\nTrue     0.264706\nName: tr_description, dtype: float64"
     },
     "execution_count": 49,
     "metadata": {},
     "output_type": "execute_result"
    }
   ],
   "source": [
    "# 2\n",
    "tr_types[tr_types['tr_type'].isin(unique_types_in_sample)]['tr_description']\\\n",
    "    .str.contains('POS|ATM').value_counts(normalize=True)"
   ],
   "metadata": {
    "collapsed": false,
    "pycharm": {
     "name": "#%%\n"
    }
   }
  },
  {
   "cell_type": "markdown",
   "source": [
    "Если же мы должны найти долю транзакций в выборке `sample`, у которых в описании типа есть слова __POS__ или __ATM__ относительно всех 1000 транзакций в выборке, то:"
   ],
   "metadata": {
    "collapsed": false,
    "pycharm": {
     "name": "#%% md\n"
    }
   }
  },
  {
   "cell_type": "code",
   "execution_count": 50,
   "outputs": [],
   "source": [
    "types_contain_pos = tr_types[tr_types['tr_description'].str.contains('POS')]['tr_type']"
   ],
   "metadata": {
    "collapsed": false,
    "pycharm": {
     "name": "#%%\n"
    }
   }
  },
  {
   "cell_type": "markdown",
   "source": [
    "### Ответ к заданию 1"
   ],
   "metadata": {
    "collapsed": false,
    "pycharm": {
     "name": "#%% md\n"
    }
   }
  },
  {
   "cell_type": "code",
   "execution_count": 53,
   "outputs": [
    {
     "data": {
      "text/plain": "False    624\nTrue     376\nName: tr_type, dtype: int64"
     },
     "execution_count": 53,
     "metadata": {},
     "output_type": "execute_result"
    }
   ],
   "source": [
    "# 2\n",
    "sample.isin(types_contain_pos).value_counts()  # нормализировать не имеет смысла, сумма = 1000"
   ],
   "metadata": {
    "collapsed": false,
    "pycharm": {
     "name": "#%%\n"
    }
   }
  },
  {
   "cell_type": "markdown",
   "source": [
    "###### Примечание: ответы будут меняться при каждом новом `sample`"
   ],
   "metadata": {
    "collapsed": false,
    "pycharm": {
     "name": "#%% md\n"
    }
   }
  },
  {
   "cell_type": "markdown",
   "metadata": {
    "id": "fiZBDIZt8JeS"
   },
   "source": [
    "## Задание 2 \n"
   ]
  },
  {
   "cell_type": "markdown",
   "metadata": {
    "id": "FFKeBUThOCrz"
   },
   "source": [
    "1. Для столбца tr_type датафрейма transactions посчитайте частоту встречаемости всех типов транзакций tr_type в transactions.\n",
    "2. Выведите топ-10 транзакций по частоте встречаемости."
   ]
  },
  {
   "cell_type": "code",
   "execution_count": 58,
   "outputs": [
    {
     "data": {
      "text/plain": "1010    231117\n2010    151166\n7070    149006\n1110    137658\n1030    118975\n         ...  \n2446         4\n4096         4\n8146         3\n1510         2\n8100         2\nName: tr_type, Length: 72, dtype: int64"
     },
     "execution_count": 58,
     "metadata": {},
     "output_type": "execute_result"
    }
   ],
   "source": [
    "# 1\n",
    "df['tr_type'].value_counts()"
   ],
   "metadata": {
    "collapsed": false,
    "pycharm": {
     "name": "#%%\n"
    }
   }
  },
  {
   "cell_type": "code",
   "execution_count": 60,
   "outputs": [
    {
     "data": {
      "text/plain": "1010    231117\n2010    151166\n7070    149006\n1110    137658\n1030    118975\n2370     49830\n7010     28972\n7030     26078\n7071     15781\n1100     15476\nName: tr_type, dtype: int64"
     },
     "execution_count": 60,
     "metadata": {},
     "output_type": "execute_result"
    }
   ],
   "source": [
    "# 2\n",
    "df['tr_type'].value_counts()[:10]"
   ],
   "metadata": {
    "collapsed": false,
    "pycharm": {
     "name": "#%%\n"
    }
   }
  },
  {
   "cell_type": "markdown",
   "metadata": {
    "id": "mktm_JeA8JeX"
   },
   "source": [
    "## Задание 3\n",
    "1. В датафрейме transactions найдите клиента с максимальной суммой приходов на карту\n",
    "2. В датафрейме transactions найдите клиента с максимальной суммой расходов по карте\n",
    "3. Найдите разницу для этих клиентов между суммой расходов и суммой приходов"
   ]
  },
  {
   "cell_type": "code",
   "execution_count": 76,
   "outputs": [],
   "source": [
    "money_sums = df.groupby('customer_id').sum()"
   ],
   "metadata": {
    "collapsed": false,
    "pycharm": {
     "name": "#%%\n"
    }
   }
  },
  {
   "cell_type": "code",
   "execution_count": 78,
   "outputs": [
    {
     "data": {
      "text/plain": "             mcc_code  tr_type      amount\ncustomer_id                               \n95481247      4227905  2282858  50508877.7",
      "text/html": "<div>\n<style scoped>\n    .dataframe tbody tr th:only-of-type {\n        vertical-align: middle;\n    }\n\n    .dataframe tbody tr th {\n        vertical-align: top;\n    }\n\n    .dataframe thead th {\n        text-align: right;\n    }\n</style>\n<table border=\"1\" class=\"dataframe\">\n  <thead>\n    <tr style=\"text-align: right;\">\n      <th></th>\n      <th>mcc_code</th>\n      <th>tr_type</th>\n      <th>amount</th>\n    </tr>\n    <tr>\n      <th>customer_id</th>\n      <th></th>\n      <th></th>\n      <th></th>\n    </tr>\n  </thead>\n  <tbody>\n    <tr>\n      <th>95481247</th>\n      <td>4227905</td>\n      <td>2282858</td>\n      <td>50508877.7</td>\n    </tr>\n  </tbody>\n</table>\n</div>"
     },
     "execution_count": 78,
     "metadata": {},
     "output_type": "execute_result"
    }
   ],
   "source": [
    "# 1\n",
    "money_sums[money_sums['amount'] == max(money_sums['amount'])]"
   ],
   "metadata": {
    "collapsed": false,
    "pycharm": {
     "name": "#%%\n"
    }
   }
  },
  {
   "cell_type": "code",
   "execution_count": 79,
   "outputs": [
    {
     "data": {
      "text/plain": "             mcc_code  tr_type       amount\ncustomer_id                                \n54871257     15954177  7081907 -801026035.2",
      "text/html": "<div>\n<style scoped>\n    .dataframe tbody tr th:only-of-type {\n        vertical-align: middle;\n    }\n\n    .dataframe tbody tr th {\n        vertical-align: top;\n    }\n\n    .dataframe thead th {\n        text-align: right;\n    }\n</style>\n<table border=\"1\" class=\"dataframe\">\n  <thead>\n    <tr style=\"text-align: right;\">\n      <th></th>\n      <th>mcc_code</th>\n      <th>tr_type</th>\n      <th>amount</th>\n    </tr>\n    <tr>\n      <th>customer_id</th>\n      <th></th>\n      <th></th>\n      <th></th>\n    </tr>\n  </thead>\n  <tbody>\n    <tr>\n      <th>54871257</th>\n      <td>15954177</td>\n      <td>7081907</td>\n      <td>-801026035.2</td>\n    </tr>\n  </tbody>\n</table>\n</div>"
     },
     "execution_count": 79,
     "metadata": {},
     "output_type": "execute_result"
    }
   ],
   "source": [
    "# 2\n",
    "money_sums[money_sums['amount'] == min(money_sums['amount'])]"
   ],
   "metadata": {
    "collapsed": false,
    "pycharm": {
     "name": "#%%\n"
    }
   }
  },
  {
   "cell_type": "markdown",
   "source": [
    "Если нам надо найти разницу между `amount` у самого \"богатого\" и `amount` у самого \"бедного\", то:"
   ],
   "metadata": {
    "collapsed": false,
    "pycharm": {
     "name": "#%% md\n"
    }
   }
  },
  {
   "cell_type": "code",
   "execution_count": 111,
   "outputs": [
    {
     "data": {
      "text/plain": "-851534912.9"
     },
     "execution_count": 111,
     "metadata": {},
     "output_type": "execute_result"
    }
   ],
   "source": [
    "round(float(money_sums[money_sums['amount'] == min(money_sums['amount'])]['amount']) - \\\n",
    "    float(money_sums[money_sums['amount'] == max(money_sums['amount'])]['amount']), 1)"
   ],
   "metadata": {
    "collapsed": false,
    "pycharm": {
     "name": "#%%\n"
    }
   }
  },
  {
   "cell_type": "markdown",
   "source": [
    "Если же нам надо найти разницу между всей прибылью и всей убылью у каждого из этих двух клиентов (`customer_id` 95481247 и `customer_id` 54871257), то:"
   ],
   "metadata": {
    "collapsed": false,
    "pycharm": {
     "name": "#%% md\n"
    }
   }
  },
  {
   "cell_type": "code",
   "execution_count": 90,
   "outputs": [],
   "source": [
    "richest = money_sums[money_sums['amount'] == max(money_sums['amount'])].index[0]"
   ],
   "metadata": {
    "collapsed": false,
    "pycharm": {
     "name": "#%%\n"
    }
   }
  },
  {
   "cell_type": "code",
   "execution_count": 91,
   "outputs": [],
   "source": [
    "poorest = money_sums[money_sums['amount'] == min(money_sums['amount'])].index[0]"
   ],
   "metadata": {
    "collapsed": false,
    "pycharm": {
     "name": "#%%\n"
    }
   }
  },
  {
   "cell_type": "code",
   "execution_count": 104,
   "outputs": [],
   "source": [
    "trs_of_richest = df[df['customer_id'] == richest]  # transactions of the richest customer"
   ],
   "metadata": {
    "collapsed": false,
    "pycharm": {
     "name": "#%%\n"
    }
   }
  },
  {
   "cell_type": "code",
   "execution_count": 103,
   "outputs": [],
   "source": [
    "trs_of_poorest = df[df['customer_id'] == poorest]  # transactions of the poorest customer"
   ],
   "metadata": {
    "collapsed": false,
    "pycharm": {
     "name": "#%%\n"
    }
   }
  },
  {
   "cell_type": "code",
   "execution_count": 112,
   "outputs": [
    {
     "data": {
      "text/plain": "-122309451.36"
     },
     "execution_count": 112,
     "metadata": {},
     "output_type": "execute_result"
    }
   ],
   "source": [
    "# 3 (for customer_id = 95481247)\n",
    "trs_of_richest[trs_of_richest['amount'] < 0]['amount'].sum() - \\\n",
    "    trs_of_richest[trs_of_richest['amount'] > 0]['amount'].sum()"
   ],
   "metadata": {
    "collapsed": false,
    "pycharm": {
     "name": "#%%\n"
    }
   }
  },
  {
   "cell_type": "code",
   "execution_count": 113,
   "outputs": [
    {
     "data": {
      "text/plain": "-1145257382.16"
     },
     "execution_count": 113,
     "metadata": {},
     "output_type": "execute_result"
    }
   ],
   "source": [
    "# 3 (for customer_id = 54871257)\n",
    "trs_of_poorest[trs_of_poorest['amount'] < 0]['amount'].sum() - \\\n",
    "    trs_of_poorest[trs_of_poorest['amount'] > 0]['amount'].sum()"
   ],
   "metadata": {
    "collapsed": false,
    "pycharm": {
     "name": "#%%\n"
    }
   }
  },
  {
   "cell_type": "markdown",
   "metadata": {
    "id": "BYrJ5b_E8Jee"
   },
   "source": [
    "## Задание 4\n",
    "1. Найдите среднее арифметическое и медиану по всем типам транзакций из топ 10 из задания 2\n",
    "1. Найдите среднее арифметическое и медиану по всем типам транзакций для клиентов из задания 3"
   ]
  },
  {
   "cell_type": "markdown",
   "metadata": {
    "id": "BYXwM4l3QDBu"
   },
   "source": [
    "## Подготовка для заданий 5-8"
   ]
  },
  {
   "cell_type": "markdown",
   "metadata": {
    "id": "XWQzFeKcQHRe"
   },
   "source": [
    "*Из заданий 5-8 нужно выполнить минимум два любых*\n",
    "\n",
    "Соедините transactions с всеми остальными таблицами (tr_mcc_codes, tr_types, gender_train). Причём с gender_train необходимо смёрджиться с помощью left join, а с оставшимися датафреймами - через inner.\n",
    "После получения результата таблицы gender_train, tr_types, tr_mcc_codes можно удалить. В результате соединения датафреймов должно получиться 999584 строки."
   ]
  },
  {
   "cell_type": "code",
   "metadata": {
    "id": "sndJxjJ7QQf5"
   },
   "source": [
    "transactions = pd.merge(transactions, gender_train, how='left')\n",
    "transactions = pd.merge(transactions, tr_mcc_codes, how='inner')\n",
    "transactions = pd.merge(transactions, tr_types, how='inner')\n",
    "transactions.shape"
   ],
   "execution_count": null,
   "outputs": []
  },
  {
   "cell_type": "markdown",
   "metadata": {
    "id": "8vrFauJ8QgmT"
   },
   "source": [
    "## Задание 5"
   ]
  },
  {
   "cell_type": "markdown",
   "metadata": {
    "id": "rOjEQ5xyQfE_"
   },
   "source": [
    "1. Определите модуль разницы между средними тратами женщин и мужчин (трата - отрицательное значение amount).\n",
    "2. Определите модуль разницы между средними поступлениями у мужчин и женщин\n",
    "\n",
    "Обратите внимание, что для вычисления модуля разности точных знаний о том, \n",
    "какой класc относится к мужчинам, а какой - к женщинам, не требуется."
   ]
  },
  {
   "cell_type": "markdown",
   "metadata": {
    "id": "DSHFLbepQ7G1"
   },
   "source": [
    "## Задание 6"
   ]
  },
  {
   "cell_type": "markdown",
   "metadata": {
    "id": "2EF1490bQ-17"
   },
   "source": [
    "1. По всем типам транзакций рассчитайте максимальную сумму прихода на карту (из строго положительных сумм по столбцу amount) отдельно для мужчин и женщин (назовите ее \"max_income\"). Оставьте по 10 транзакций для мужчин и для женщин, наименьших среди всех транзакций по полученным значениям \"max_income\". \n",
    "2. Выделите среди них те, которые встречаются одновременно и у мужчин, и у женщин"
   ]
  },
  {
   "cell_type": "markdown",
   "metadata": {
    "id": "W-LaVwRdR3UB"
   },
   "source": [
    "## Задание 7"
   ]
  },
  {
   "cell_type": "markdown",
   "metadata": {
    "id": "rhI4NOciR7e0"
   },
   "source": [
    "1. Найдите суммы затрат по каждой категории для мужчин и для женщин. \n",
    "2. Найдите топ 5 категорий с самыми большими относительными модулями разности для в тратах для разных полов."
   ]
  },
  {
   "cell_type": "markdown",
   "metadata": {
    "id": "aGaPkQkVSvl8"
   },
   "source": [
    "## Задание 8"
   ]
  },
  {
   "cell_type": "markdown",
   "metadata": {
    "id": "T7Ox1qAXTHQl"
   },
   "source": [
    "1. Из поля tr_datetime выделите час tr_hour, в который произошла транзакция, как первые 2 цифры до \":\". (\\**)\n",
    "2. Посчитайте ночные поступления для мужчин и женщин. Ночные - это примерно 00-06 часов. "
   ]
  }
 ]
}