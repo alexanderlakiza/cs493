{
  "nbformat": 4,
  "nbformat_minor": 0,
  "metadata": {
    "accelerator": "GPU",
    "colab": {
      "name": "lab7_1.ipynb",
      "provenance": [],
      "collapsed_sections": []
    },
    "kernelspec": {
      "display_name": "Python 3 (ipykernel)",
      "language": "python",
      "name": "python3"
    },
    "language_info": {
      "codemirror_mode": {
        "name": "ipython",
        "version": 3
      },
      "file_extension": ".py",
      "mimetype": "text/x-python",
      "name": "python",
      "nbconvert_exporter": "python",
      "pygments_lexer": "ipython3",
      "version": "3.8.10"
    }
  },
  "cells": [
    {
      "cell_type": "markdown",
      "metadata": {
        "id": "vcnGdgw_YJ8u"
      },
      "source": [
        "# PyTorch. Основы: синтаксис, torch.cuda и torch.autograd\n",
        "\n",
        "## Задание 7.1"
      ]
    },
    {
      "cell_type": "code",
      "metadata": {
        "id": "RtyozNmmYJ89"
      },
      "source": [
        "import torch\n",
        "import matplotlib.pyplot as plt"
      ],
      "execution_count": null,
      "outputs": []
    },
    {
      "cell_type": "markdown",
      "metadata": {
        "id": "ny4-Qi2wYJ-6"
      },
      "source": [
        "### Задача 1"
      ]
    },
    {
      "cell_type": "markdown",
      "metadata": {
        "id": "IWxlFq0bYJ-_"
      },
      "source": [
        "1). Создайте два вещественных тензора: `a` размером (3, 4) и `b` размером (12,)   \n",
        "2). Создайте тензор `c`, являющийся тензором `b`, но размера (2, 2, 3)  \n",
        "3). Выведите первый столбец матрицы `a` с помощью индексации"
      ]
    },
    {
      "cell_type": "code",
      "metadata": {
        "id": "3oxZuk3yYJ_A"
      },
      "source": [
        "# Ваш код здесь\n",
        "a = torch.rand(3, 4)\n",
        "b = torch.rand(12,)"
      ],
      "execution_count": null,
      "outputs": []
    },
    {
      "cell_type": "code",
      "metadata": {
        "colab": {
          "base_uri": "https://localhost:8080/"
        },
        "id": "BJdcq5-LZPnl",
        "outputId": "e0273a6d-894b-4639-b3d8-c0c433925d04"
      },
      "source": [
        "a"
      ],
      "execution_count": null,
      "outputs": [
        {
          "data": {
            "text/plain": [
              "tensor([[0.7090, 0.0392, 0.1077, 0.2090],\n",
              "        [0.9988, 0.0545, 0.4080, 0.7584],\n",
              "        [0.3384, 0.4463, 0.9965, 0.2484]])"
            ]
          },
          "execution_count": 3,
          "metadata": {},
          "output_type": "execute_result"
        }
      ]
    },
    {
      "cell_type": "code",
      "metadata": {
        "colab": {
          "base_uri": "https://localhost:8080/"
        },
        "id": "ySpGthuVZPno",
        "outputId": "a0906481-4a48-495f-fca0-9b58c532d7d2"
      },
      "source": [
        "b"
      ],
      "execution_count": null,
      "outputs": [
        {
          "data": {
            "text/plain": [
              "tensor([0.5641, 0.4897, 0.0060, 0.1703, 0.4571, 0.3881, 0.9367, 0.8769, 0.7665,\n",
              "        0.2925, 0.1686, 0.8255])"
            ]
          },
          "execution_count": 4,
          "metadata": {},
          "output_type": "execute_result"
        }
      ]
    },
    {
      "cell_type": "code",
      "metadata": {
        "id": "nYLJcaodZPnp"
      },
      "source": [
        "c = b.reshape(2, 2, 3)"
      ],
      "execution_count": null,
      "outputs": []
    },
    {
      "cell_type": "code",
      "metadata": {
        "colab": {
          "base_uri": "https://localhost:8080/"
        },
        "id": "QQ7ZA_UlZPnp",
        "outputId": "538d5bd6-6931-4682-e45f-0ec7e952847b"
      },
      "source": [
        "c"
      ],
      "execution_count": null,
      "outputs": [
        {
          "data": {
            "text/plain": [
              "tensor([[[0.5641, 0.4897, 0.0060],\n",
              "         [0.1703, 0.4571, 0.3881]],\n",
              "\n",
              "        [[0.9367, 0.8769, 0.7665],\n",
              "         [0.2925, 0.1686, 0.8255]]])"
            ]
          },
          "execution_count": 6,
          "metadata": {},
          "output_type": "execute_result"
        }
      ]
    },
    {
      "cell_type": "code",
      "metadata": {
        "colab": {
          "base_uri": "https://localhost:8080/"
        },
        "id": "smVKhLxQZPnq",
        "outputId": "8ee2b7db-913c-4097-86eb-6a656775b096"
      },
      "source": [
        "a[:, 0]"
      ],
      "execution_count": null,
      "outputs": [
        {
          "data": {
            "text/plain": [
              "tensor([0.7090, 0.9988, 0.3384])"
            ]
          },
          "execution_count": 7,
          "metadata": {},
          "output_type": "execute_result"
        }
      ]
    },
    {
      "cell_type": "markdown",
      "metadata": {
        "id": "D2IP_FrKYKAA"
      },
      "source": [
        "### Задача 2"
      ]
    },
    {
      "cell_type": "markdown",
      "metadata": {
        "id": "tBZFbSYQYKAA"
      },
      "source": [
        "1). Создайте два вещественных тензора: `a` размером (5, 2) и `b` размером (1,10)   \n",
        "2). Создайте тензор `c`, являющийся тензором `b`, но размера (5, 2)  \n",
        "3). Произведите все арифметические операции с тензорами `a` и `c`"
      ]
    },
    {
      "cell_type": "code",
      "metadata": {
        "id": "hzs2bH3GYKAB"
      },
      "source": [
        "a = torch.rand(5, 2)\n",
        "b = torch.rand(1, 10)\n",
        "\n",
        "c = b.reshape(5, 2)"
      ],
      "execution_count": null,
      "outputs": []
    },
    {
      "cell_type": "code",
      "metadata": {
        "colab": {
          "base_uri": "https://localhost:8080/"
        },
        "id": "ZlWVThVBZPns",
        "outputId": "c13160d0-e29e-4012-8374-36438cc98554"
      },
      "source": [
        "a"
      ],
      "execution_count": null,
      "outputs": [
        {
          "data": {
            "text/plain": [
              "tensor([[0.2949, 0.7355],\n",
              "        [0.6298, 0.3256],\n",
              "        [0.6217, 0.9300],\n",
              "        [0.9687, 0.4064],\n",
              "        [0.8375, 0.5509]])"
            ]
          },
          "execution_count": 9,
          "metadata": {},
          "output_type": "execute_result"
        }
      ]
    },
    {
      "cell_type": "code",
      "metadata": {
        "colab": {
          "base_uri": "https://localhost:8080/"
        },
        "id": "EgL2fOy-ZPnt",
        "outputId": "1e1c1e30-35bd-4017-980d-41002579ffd0"
      },
      "source": [
        "c"
      ],
      "execution_count": null,
      "outputs": [
        {
          "data": {
            "text/plain": [
              "tensor([[0.8500, 0.4087],\n",
              "        [0.3389, 0.0850],\n",
              "        [0.1156, 0.5178],\n",
              "        [0.2947, 0.0388],\n",
              "        [0.6170, 0.4406]])"
            ]
          },
          "execution_count": 10,
          "metadata": {},
          "output_type": "execute_result"
        }
      ]
    },
    {
      "cell_type": "code",
      "metadata": {
        "colab": {
          "base_uri": "https://localhost:8080/"
        },
        "id": "fvmMuj-1ZPnt",
        "outputId": "3d3a9bb9-3438-4c7b-eaf2-6e1c25cb49d9"
      },
      "source": [
        "a + c"
      ],
      "execution_count": null,
      "outputs": [
        {
          "data": {
            "text/plain": [
              "tensor([[1.1449, 1.1443],\n",
              "        [0.9686, 0.4106],\n",
              "        [0.7373, 1.4477],\n",
              "        [1.2634, 0.4452],\n",
              "        [1.4545, 0.9915]])"
            ]
          },
          "execution_count": 11,
          "metadata": {},
          "output_type": "execute_result"
        }
      ]
    },
    {
      "cell_type": "code",
      "metadata": {
        "colab": {
          "base_uri": "https://localhost:8080/"
        },
        "id": "1iJbjOdbZPnu",
        "outputId": "4fb02a66-badb-485d-edff-27553ca21d07"
      },
      "source": [
        "a - c"
      ],
      "execution_count": null,
      "outputs": [
        {
          "data": {
            "text/plain": [
              "tensor([[-0.5551,  0.3268],\n",
              "        [ 0.2909,  0.2406],\n",
              "        [ 0.5061,  0.4122],\n",
              "        [ 0.6740,  0.3675],\n",
              "        [ 0.2205,  0.1103]])"
            ]
          },
          "execution_count": 12,
          "metadata": {},
          "output_type": "execute_result"
        }
      ]
    },
    {
      "cell_type": "code",
      "metadata": {
        "colab": {
          "base_uri": "https://localhost:8080/"
        },
        "id": "JxlRG-ndZPnu",
        "outputId": "2346c35a-129a-497c-d28e-9f0bb6498ff4"
      },
      "source": [
        "a * c"
      ],
      "execution_count": null,
      "outputs": [
        {
          "data": {
            "text/plain": [
              "tensor([[0.2507, 0.3006],\n",
              "        [0.2134, 0.0277],\n",
              "        [0.0719, 0.4815],\n",
              "        [0.2855, 0.0158],\n",
              "        [0.5168, 0.2427]])"
            ]
          },
          "execution_count": 13,
          "metadata": {},
          "output_type": "execute_result"
        }
      ]
    },
    {
      "cell_type": "code",
      "metadata": {
        "colab": {
          "base_uri": "https://localhost:8080/"
        },
        "id": "vknpL7UzZPnv",
        "outputId": "91689331-a8f1-4adb-a36a-372b4ac50ce9"
      },
      "source": [
        "a / c"
      ],
      "execution_count": null,
      "outputs": [
        {
          "data": {
            "text/plain": [
              "tensor([[ 0.3469,  1.7996],\n",
              "        [ 1.8585,  3.8308],\n",
              "        [ 5.3771,  1.7962],\n",
              "        [ 3.2873, 10.4655],\n",
              "        [ 1.3573,  1.2505]])"
            ]
          },
          "execution_count": 14,
          "metadata": {},
          "output_type": "execute_result"
        }
      ]
    },
    {
      "cell_type": "code",
      "metadata": {
        "colab": {
          "base_uri": "https://localhost:8080/"
        },
        "id": "csBu7xzUZPnv",
        "outputId": "eca13402-0f01-4036-a7c0-3cade1775d38"
      },
      "source": [
        "a > c"
      ],
      "execution_count": null,
      "outputs": [
        {
          "data": {
            "text/plain": [
              "tensor([[False,  True],\n",
              "        [ True,  True],\n",
              "        [ True,  True],\n",
              "        [ True,  True],\n",
              "        [ True,  True]])"
            ]
          },
          "execution_count": 15,
          "metadata": {},
          "output_type": "execute_result"
        }
      ]
    },
    {
      "cell_type": "code",
      "metadata": {
        "colab": {
          "base_uri": "https://localhost:8080/"
        },
        "id": "t308laJrZfvt",
        "outputId": "540d16eb-7cbc-4f1e-f801-17451a0670ea"
      },
      "source": [
        "a == c"
      ],
      "execution_count": null,
      "outputs": [
        {
          "data": {
            "text/plain": [
              "tensor([[False, False],\n",
              "        [False, False],\n",
              "        [False, False],\n",
              "        [False, False],\n",
              "        [False, False]])"
            ]
          },
          "execution_count": 16,
          "metadata": {},
          "output_type": "execute_result"
        }
      ]
    },
    {
      "cell_type": "code",
      "metadata": {
        "colab": {
          "base_uri": "https://localhost:8080/"
        },
        "id": "XSDRhamaZ0Ty",
        "outputId": "e0ad4e0a-ef84-41c2-83da-3a1cfe10952b"
      },
      "source": [
        "a.sum()"
      ],
      "execution_count": null,
      "outputs": [
        {
          "data": {
            "text/plain": [
              "tensor(6.3010)"
            ]
          },
          "execution_count": 17,
          "metadata": {},
          "output_type": "execute_result"
        }
      ]
    },
    {
      "cell_type": "code",
      "metadata": {
        "colab": {
          "base_uri": "https://localhost:8080/"
        },
        "id": "TsXcAsjvZ1jA",
        "outputId": "c65efae6-55ca-4198-b9a3-3d5b12415511"
      },
      "source": [
        "c.sum(1)"
      ],
      "execution_count": null,
      "outputs": [
        {
          "data": {
            "text/plain": [
              "tensor([1.2587, 0.4239, 0.6334, 0.3335, 1.0576])"
            ]
          },
          "execution_count": 18,
          "metadata": {},
          "output_type": "execute_result"
        }
      ]
    },
    {
      "cell_type": "markdown",
      "metadata": {
        "id": "rIaroFO6YKBT"
      },
      "source": [
        "### Задача 3"
      ]
    },
    {
      "cell_type": "markdown",
      "metadata": {
        "id": "GfLHVvKvYKBT"
      },
      "source": [
        "1). Создайте тензор *целых чисел* `images` размерности (100, 200, 200, 3) (можно интерпретировать это как 100 картинок размера 200х200 с тремя цветовыми каналами, то есть 100 цветных изображений 200х200). Заполните его нулями  \n",
        "\n",
        "2). Сделайте так, чтобы у $i$-ой по порядку картинки была нарисована белая полоса толщиной два пикселя в строках, которые соответствуют номеру картинки. Например, у 3-ей по порядку картинки белая полоска будет занимать 6 и 7 строки, у 99 - 198 и 199. Сделать белую строку можно, записав в ячейки тензора число 255 (по всем трём каналам). Выведите несколько примеров с помощью `pylot`  \n",
        "\n",
        "3). Посчитайте среднее тензора `images` по 1-ой оси (по сути - средняя картинка), умножьте полученный тензор на 70. Нарисуйте с помощью `pyplot`, должна получиться серая картинка (при взятии среднего нужно привести тензор к float с помощью `.float()`, при отрисовке обратно к int с помощью `.int()`)"
      ]
    },
    {
      "cell_type": "code",
      "metadata": {
        "id": "pZVGHEQQYKBU"
      },
      "source": [
        "# Ваш код здесь\n",
        "images = torch.IntTensor(100, 200, 200, 3)"
      ],
      "execution_count": null,
      "outputs": []
    },
    {
      "cell_type": "code",
      "metadata": {
        "colab": {
          "base_uri": "https://localhost:8080/"
        },
        "id": "Hdypwgg9ZPnx",
        "outputId": "70e19256-a164-457e-e65f-478d50f3c9b3"
      },
      "source": [
        "images.shape"
      ],
      "execution_count": null,
      "outputs": [
        {
          "data": {
            "text/plain": [
              "torch.Size([100, 200, 200, 3])"
            ]
          },
          "execution_count": 99,
          "metadata": {},
          "output_type": "execute_result"
        }
      ]
    },
    {
      "cell_type": "code",
      "metadata": {
        "colab": {
          "base_uri": "https://localhost:8080/",
          "height": 286
        },
        "id": "0OaWQPUTaAxf",
        "outputId": "51464419-e11e-4da7-f79b-0094a1edc07a"
      },
      "source": [
        "plt.imshow(images[0]);"
      ],
      "execution_count": null,
      "outputs": [
        {
          "name": "stderr",
          "output_type": "stream",
          "text": [
            "Clipping input data to the valid range for imshow with RGB data ([0..1] for floats or [0..255] for integers).\n"
          ]
        },
        {
          "data": {
            "image/png": "[encoded data removed]",
            "text/plain": [
              "<Figure size 432x288 with 1 Axes>"
            ]
          },
          "metadata": {},
          "output_type": "display_data"
        }
      ]
    },
    {
      "cell_type": "code",
      "metadata": {
        "colab": {
          "base_uri": "https://localhost:8080/"
        },
        "id": "6sqqFO02btjo",
        "outputId": "c578a95a-e12d-43cc-fb20-c1069685ad48"
      },
      "source": [
        "images[0].shape"
      ],
      "execution_count": null,
      "outputs": [
        {
          "data": {
            "text/plain": [
              "torch.Size([200, 200, 3])"
            ]
          },
          "execution_count": 101,
          "metadata": {},
          "output_type": "execute_result"
        }
      ]
    },
    {
      "cell_type": "code",
      "metadata": {
        "id": "AgdyHlJhbqWc"
      },
      "source": [
        "for i in range(100):\n",
        "  images[i, (2 * i):(2 * i + 2)] = 255"
      ],
      "execution_count": null,
      "outputs": []
    },
    {
      "cell_type": "code",
      "metadata": {
        "colab": {
          "base_uri": "https://localhost:8080/",
          "height": 269
        },
        "id": "mw3xkOP6eFPX",
        "outputId": "0ae8c1fe-e6e8-42f7-f1cc-a081163b854d"
      },
      "source": [
        "plt.imshow(images[0]);"
      ],
      "execution_count": null,
      "outputs": [
        {
          "data": {
            "image/png": "[encoded data removed]",
            "text/plain": [
              "<Figure size 432x288 with 1 Axes>"
            ]
          },
          "metadata": {},
          "output_type": "display_data"
        }
      ]
    },
    {
      "cell_type": "code",
      "metadata": {
        "colab": {
          "base_uri": "https://localhost:8080/",
          "height": 269
        },
        "id": "b2Pwux8XeIaj",
        "outputId": "e0ef3110-e6c3-40b8-cae0-6d08d5cce06f"
      },
      "source": [
        "plt.imshow(images[10]);"
      ],
      "execution_count": null,
      "outputs": [
        {
          "data": {
            "image/png": "[encoded data removed]",
            "text/plain": [
              "<Figure size 432x288 with 1 Axes>"
            ]
          },
          "metadata": {},
          "output_type": "display_data"
        }
      ]
    },
    {
      "cell_type": "code",
      "metadata": {
        "colab": {
          "base_uri": "https://localhost:8080/",
          "height": 269
        },
        "id": "FW2HX3gEeONe",
        "outputId": "67b7ee21-ac6e-496e-9a83-f4c9a108fadf"
      },
      "source": [
        "plt.imshow(images[30]);"
      ],
      "execution_count": null,
      "outputs": [
        {
          "data": {
            "image/png": "[encoded data removed]",
            "text/plain": [
              "<Figure size 432x288 with 1 Axes>"
            ]
          },
          "metadata": {},
          "output_type": "display_data"
        }
      ]
    },
    {
      "cell_type": "code",
      "metadata": {
        "colab": {
          "base_uri": "https://localhost:8080/",
          "height": 286
        },
        "id": "zxiMBhTke6L9",
        "outputId": "15612e79-85cd-47e8-ade9-04650988be0c"
      },
      "source": [
        "plt.imshow(images[75])"
      ],
      "execution_count": null,
      "outputs": [
        {
          "data": {
            "text/plain": [
              "<matplotlib.image.AxesImage at 0x7f4e3ccf3090>"
            ]
          },
          "execution_count": 106,
          "metadata": {},
          "output_type": "execute_result"
        },
        {
          "data": {
            "image/png": "[encoded data removed]",
            "text/plain": [
              "<Figure size 432x288 with 1 Axes>"
            ]
          },
          "metadata": {},
          "output_type": "display_data"
        }
      ]
    },
    {
      "cell_type": "code",
      "metadata": {
        "id": "jJiwmugYevBN"
      },
      "source": [
        "draw = images.float().mean(0) * 70"
      ],
      "execution_count": null,
      "outputs": []
    },
    {
      "cell_type": "code",
      "metadata": {
        "colab": {
          "base_uri": "https://localhost:8080/"
        },
        "id": "xCzUfjI8fsNG",
        "outputId": "949bbb6c-9669-4a36-bcf5-a865610f6bbe"
      },
      "source": [
        "draw.shape"
      ],
      "execution_count": null,
      "outputs": [
        {
          "data": {
            "text/plain": [
              "torch.Size([200, 200, 3])"
            ]
          },
          "execution_count": 111,
          "metadata": {},
          "output_type": "execute_result"
        }
      ]
    },
    {
      "cell_type": "code",
      "metadata": {
        "colab": {
          "base_uri": "https://localhost:8080/",
          "height": 269
        },
        "id": "srDx-i3CfTSe",
        "outputId": "a5112c05-cca8-43a1-fc1b-76ae52b0cf82"
      },
      "source": [
        "plt.imshow(draw.int());"
      ],
      "execution_count": null,
      "outputs": [
        {
          "data": {
            "image/png": "[encoded data removed]",
            "text/plain": [
              "<Figure size 432x288 with 1 Axes>"
            ]
          },
          "metadata": {},
          "output_type": "display_data"
        }
      ]
    },
    {
      "cell_type": "markdown",
      "metadata": {
        "id": "oQnhq5ZdYKCu"
      },
      "source": [
        "### Задача 4"
      ]
    },
    {
      "cell_type": "markdown",
      "metadata": {
        "id": "UB95BhgTYKCu"
      },
      "source": [
        "- В Colab нажмите в меню сверху: `Runtime` -> `Change Runtime Type` -> `GPU`, где изначально стоит `None` (`Среда выполнение` - `Сменить среду выполнения`)\n",
        "- Объявите тензор `a` размера (2, 3, 4) и тензор `b` размера (1, 8, 3) на GPU, иницилизируйте их случайно равномерно (`.uniform_()`)\n",
        "- Затем измените форму тензора `b`, чтобы она совпадала с формой тензора `a`, получите тензор `c`  \n",
        "- Переместите `c` на CPU, переместите `a` на CPU  \n",
        "- Оберните их в `Variable()`\n",
        "- Объявите тензор `L = torch.mean((c - a) `**` 2)` и посчитайте градиент `L` по `c` ( то есть $\\frac{\\partial{L}}{\\partial{c}})$\n",
        "- Выведите градиент `L` по `c`"
      ]
    },
    {
      "cell_type": "code",
      "metadata": {
        "id": "WESOm5TCYKCv"
      },
      "source": [
        "# Ваш код здесь\n",
        "a = torch.cuda.FloatTensor(2, 3, 4).uniform_()\n",
        "b = torch.cuda.FloatTensor(1, 8, 3).uniform_()"
      ],
      "execution_count": null,
      "outputs": []
    },
    {
      "cell_type": "code",
      "metadata": {
        "colab": {
          "base_uri": "https://localhost:8080/"
        },
        "id": "1j2_clTfg3te",
        "outputId": "b21a2823-83b2-4828-948e-28f63e6fb362"
      },
      "source": [
        "a"
      ],
      "execution_count": null,
      "outputs": [
        {
          "output_type": "execute_result",
          "data": {
            "text/plain": [
              "tensor([[[0.5600, 0.8132, 0.2716, 0.2243],\n",
              "         [0.1406, 0.1080, 0.3110, 0.7907],\n",
              "         [0.4932, 0.3611, 0.9651, 0.1484]],\n",
              "\n",
              "        [[0.8684, 0.3105, 0.4492, 0.8030],\n",
              "         [0.5597, 0.3060, 0.7251, 0.1431],\n",
              "         [0.9848, 0.2988, 0.1547, 0.4771]]], device='cuda:0')"
            ]
          },
          "metadata": {},
          "execution_count": 101
        }
      ]
    },
    {
      "cell_type": "code",
      "metadata": {
        "colab": {
          "base_uri": "https://localhost:8080/"
        },
        "id": "eGCO9vMihAHA",
        "outputId": "2cdec1f2-a664-4a6a-d023-8ac692e1f416"
      },
      "source": [
        "a.is_cuda"
      ],
      "execution_count": null,
      "outputs": [
        {
          "output_type": "execute_result",
          "data": {
            "text/plain": [
              "True"
            ]
          },
          "metadata": {},
          "execution_count": 102
        }
      ]
    },
    {
      "cell_type": "code",
      "metadata": {
        "id": "6O7xwe-UhQK1",
        "colab": {
          "base_uri": "https://localhost:8080/"
        },
        "outputId": "5f8f9315-646f-496f-c9cb-97790a7fc80e"
      },
      "source": [
        "b.is_cuda"
      ],
      "execution_count": null,
      "outputs": [
        {
          "output_type": "execute_result",
          "data": {
            "text/plain": [
              "True"
            ]
          },
          "metadata": {},
          "execution_count": 103
        }
      ]
    },
    {
      "cell_type": "code",
      "metadata": {
        "id": "D-fZTeOfh3Vh"
      },
      "source": [
        "a = a.cuda()\n",
        "b = b.cuda()"
      ],
      "execution_count": null,
      "outputs": []
    },
    {
      "cell_type": "code",
      "metadata": {
        "colab": {
          "base_uri": "https://localhost:8080/"
        },
        "id": "gzxgAcndh84w",
        "outputId": "8ec83519-98b2-42f8-94f2-1df016177683"
      },
      "source": [
        "c = b.resize(2, 3, 4)\n",
        "c.is_cuda"
      ],
      "execution_count": null,
      "outputs": [
        {
          "output_type": "stream",
          "name": "stderr",
          "text": [
            "/usr/local/lib/python3.7/dist-packages/torch/_tensor.py:493: UserWarning: non-inplace resize is deprecated\n",
            "  warnings.warn(\"non-inplace resize is deprecated\")\n"
          ]
        },
        {
          "output_type": "execute_result",
          "data": {
            "text/plain": [
              "True"
            ]
          },
          "metadata": {},
          "execution_count": 105
        }
      ]
    },
    {
      "cell_type": "code",
      "metadata": {
        "colab": {
          "base_uri": "https://localhost:8080/"
        },
        "id": "mL01eu6UiFJ0",
        "outputId": "b5235fa8-3ca2-4877-d103-e4b7ac711b87"
      },
      "source": [
        "a.shape"
      ],
      "execution_count": null,
      "outputs": [
        {
          "output_type": "execute_result",
          "data": {
            "text/plain": [
              "torch.Size([2, 3, 4])"
            ]
          },
          "metadata": {},
          "execution_count": 106
        }
      ]
    },
    {
      "cell_type": "code",
      "metadata": {
        "colab": {
          "base_uri": "https://localhost:8080/"
        },
        "id": "KKv0oUOXiH9I",
        "outputId": "73d14eb8-b363-4723-bc0c-596f2aabd813"
      },
      "source": [
        "c.shape"
      ],
      "execution_count": null,
      "outputs": [
        {
          "output_type": "execute_result",
          "data": {
            "text/plain": [
              "torch.Size([2, 3, 4])"
            ]
          },
          "metadata": {},
          "execution_count": 107
        }
      ]
    },
    {
      "cell_type": "code",
      "metadata": {
        "colab": {
          "base_uri": "https://localhost:8080/"
        },
        "id": "y3WucW7biIoY",
        "outputId": "51c2e673-11e2-4cde-a31e-6dfff3d1b8a1"
      },
      "source": [
        "c"
      ],
      "execution_count": null,
      "outputs": [
        {
          "output_type": "execute_result",
          "data": {
            "text/plain": [
              "tensor([[[0.5597, 0.3820, 0.0153, 0.9107],\n",
              "         [0.4717, 0.4051, 0.4807, 0.2703],\n",
              "         [0.1118, 0.8056, 0.6602, 0.9458]],\n",
              "\n",
              "        [[0.7500, 0.9507, 0.1929, 0.5349],\n",
              "         [0.5293, 0.0553, 0.7872, 0.7174],\n",
              "         [0.3977, 0.1751, 0.4901, 0.5244]]], device='cuda:0')"
            ]
          },
          "metadata": {},
          "execution_count": 108
        }
      ]
    },
    {
      "cell_type": "code",
      "metadata": {
        "id": "X9GWUQ5ziKdT"
      },
      "source": [
        "a = a.to(\"cpu\")"
      ],
      "execution_count": null,
      "outputs": []
    },
    {
      "cell_type": "code",
      "metadata": {
        "colab": {
          "base_uri": "https://localhost:8080/"
        },
        "id": "U1iKIVqAjbFV",
        "outputId": "f08f1ce0-22b5-4ffe-816f-1960db3c0fc9"
      },
      "source": [
        "a"
      ],
      "execution_count": null,
      "outputs": [
        {
          "output_type": "execute_result",
          "data": {
            "text/plain": [
              "tensor([[[0.5600, 0.8132, 0.2716, 0.2243],\n",
              "         [0.1406, 0.1080, 0.3110, 0.7907],\n",
              "         [0.4932, 0.3611, 0.9651, 0.1484]],\n",
              "\n",
              "        [[0.8684, 0.3105, 0.4492, 0.8030],\n",
              "         [0.5597, 0.3060, 0.7251, 0.1431],\n",
              "         [0.9848, 0.2988, 0.1547, 0.4771]]])"
            ]
          },
          "metadata": {},
          "execution_count": 110
        }
      ]
    },
    {
      "cell_type": "code",
      "metadata": {
        "id": "szUrmDWvj-W4"
      },
      "source": [
        "c = c.to(\"cpu\")"
      ],
      "execution_count": null,
      "outputs": []
    },
    {
      "cell_type": "code",
      "metadata": {
        "colab": {
          "base_uri": "https://localhost:8080/"
        },
        "id": "4kUwRLpOkDLR",
        "outputId": "02f19239-6766-462a-e343-e802be89754f"
      },
      "source": [
        "c"
      ],
      "execution_count": null,
      "outputs": [
        {
          "output_type": "execute_result",
          "data": {
            "text/plain": [
              "tensor([[[0.5597, 0.3820, 0.0153, 0.9107],\n",
              "         [0.4717, 0.4051, 0.4807, 0.2703],\n",
              "         [0.1118, 0.8056, 0.6602, 0.9458]],\n",
              "\n",
              "        [[0.7500, 0.9507, 0.1929, 0.5349],\n",
              "         [0.5293, 0.0553, 0.7872, 0.7174],\n",
              "         [0.3977, 0.1751, 0.4901, 0.5244]]])"
            ]
          },
          "metadata": {},
          "execution_count": 112
        }
      ]
    },
    {
      "cell_type": "code",
      "metadata": {
        "id": "oeaAc6MskMLC"
      },
      "source": [
        "from torch.autograd import Variable"
      ],
      "execution_count": null,
      "outputs": []
    },
    {
      "cell_type": "code",
      "metadata": {
        "id": "AhO06KAskg8j"
      },
      "source": [
        "a = Variable(a, requires_grad=True)\n",
        "c = Variable(c, requires_grad=True)"
      ],
      "execution_count": null,
      "outputs": []
    },
    {
      "cell_type": "code",
      "metadata": {
        "id": "UTFACsaZkjLo"
      },
      "source": [
        "L = torch.mean((c - a)**2)"
      ],
      "execution_count": null,
      "outputs": []
    },
    {
      "cell_type": "code",
      "metadata": {
        "colab": {
          "base_uri": "https://localhost:8080/"
        },
        "id": "8UhPpCEunLAb",
        "outputId": "6f486bbe-9605-4b0f-f23a-5bde38546d95"
      },
      "source": [
        "L"
      ],
      "execution_count": null,
      "outputs": [
        {
          "output_type": "execute_result",
          "data": {
            "text/plain": [
              "tensor(0.1552, grad_fn=<MeanBackward0>)"
            ]
          },
          "metadata": {},
          "execution_count": 116
        }
      ]
    },
    {
      "cell_type": "code",
      "metadata": {
        "id": "Vc-tuipukljF"
      },
      "source": [
        "L.backward()"
      ],
      "execution_count": null,
      "outputs": []
    },
    {
      "cell_type": "code",
      "metadata": {
        "colab": {
          "base_uri": "https://localhost:8080/"
        },
        "id": "JCXGyANekpyy",
        "outputId": "d4bef9e5-bd1e-4ef7-89ab-a37785c78563"
      },
      "source": [
        "c.grad"
      ],
      "execution_count": null,
      "outputs": [
        {
          "output_type": "execute_result",
          "data": {
            "text/plain": [
              "tensor([[[-2.6733e-05, -3.5933e-02, -2.1358e-02,  5.7197e-02],\n",
              "         [ 2.7594e-02,  2.4757e-02,  1.4144e-02, -4.3367e-02],\n",
              "         [-3.1779e-02,  3.7040e-02, -2.5409e-02,  6.6444e-02]],\n",
              "\n",
              "        [[-9.8635e-03,  5.3349e-02, -2.1361e-02, -2.2346e-02],\n",
              "         [-2.5360e-03, -2.0892e-02,  5.1672e-03,  4.7857e-02],\n",
              "         [-4.8928e-02, -1.0309e-02,  2.7954e-02,  3.9405e-03]]])"
            ]
          },
          "metadata": {},
          "execution_count": 118
        }
      ]
    },
    {
      "cell_type": "code",
      "metadata": {
        "id": "xpsqJ-EYoX64"
      },
      "source": [
        ""
      ],
      "execution_count": null,
      "outputs": []
    }
  ]
}