{
  "nbformat": 4,
  "nbformat_minor": 0,
  "metadata": {
    "colab": {
      "name": "Linear Models Extra.ipynb",
      "provenance": [],
      "collapsed_sections": []
    },
    "kernelspec": {
      "display_name": "Python 3",
      "language": "python",
      "name": "python3"
    },
    "language_info": {
      "codemirror_mode": {
        "name": "ipython",
        "version": 3
      },
      "file_extension": ".py",
      "mimetype": "text/x-python",
      "name": "python",
      "nbconvert_exporter": "python",
      "pygments_lexer": "ipython3",
      "version": "3.7.4"
    }
  },
  "cells": [
    {
      "cell_type": "markdown",
      "metadata": {
        "id": "LkTpaRRWZNc3"
      },
      "source": [
        "# Линейная модель\n"
      ]
    },
    {
      "cell_type": "markdown",
      "metadata": {
        "id": "Ro-ttLpiZNdC"
      },
      "source": [
        "На прошлом занятии познакомились с линейной моделью:\n",
        "$$ \\hat{y} = w_1 x_1 + w_2 x_2 + ... + w_k x_k + b,$$\n",
        "где $\\hat{y}$ - целевая переменная (что мы хотим предсказать), $x_j$ - $j$-ый признак объекта $x$, $w_j$ - вес $j$-го признака, $b$ - bias (смещение, свободный член), $k$ - количество признаков объектов. Иногда вместо $b$ используют обозначение $w_0$, а также вводят дополнительный фиктивный признак $x_0$, который всегда равен 1. (В такой модели будет $k+1$ признаков).\n",
        "\n",
        "$$ \\hat{y} = \\sum\\limits_{j=0}^k w_j x_j$$\n",
        "\n",
        "В этом случае модель может быть записана так:\n",
        "$$ \\hat{y} = Xw,$$\n",
        "$\\hat{y}$ - вектор значений целевой переменной, $X$ - матрица значений признаков объектов, $w$ - вектор весов.\n",
        "\n",
        "Важно отметить, что параметрами этой модели являются веса $w$. Когда говорят об обучении какого-либо алгоритма машинного обучения, как правило, имеют в виду настройку весов, т.е. параметров модели.  \n",
        "\n",
        "Напоминим также, что в задаче линейной регрессии $\\hat{y}$ - это действительное число. А можно ли линейную модель использовать для решения задани классификации? Да, конечно, можно. Например так:\n",
        "$$ \\hat{y} = sign(Xw),$$\n",
        "где $sign$ функция, которая показывает знак выражения, записанного в скобках. И тогда $\\hat{y} = \\lbrace -1, 1 \\rbrace$\n",
        "\n"
      ]
    },
    {
      "cell_type": "markdown",
      "metadata": {
        "id": "gYFwhWSoTtSl"
      },
      "source": [
        "# Предобработка признаков"
      ]
    },
    {
      "cell_type": "markdown",
      "metadata": {
        "id": "lkHiG9jpTxKN"
      },
      "source": [
        "Применяя линейную модель мы предполагаем, что каждый признак линейно влияет на значение целевой переменной. Такое предположение редко оказывается верным, поэтому нужно либо применять другую модель (то есть искать алгоритм в другом семействе алгоритмов), либо для улучшения качества модели необходимо специальным образом предобрабатывать признаки. Рассмотрим некоторые подходы для предобработки признаков (кстати, эти подходы могут улучшить и метрическую модель kNN).\n",
        "\n",
        "Введём обозначения: $f$ - признак, $j$ - номер признака. Тогда $f_j (x)$ - это $j$-ый признак объекта.  \n",
        "\n",
        "\n",
        "\n"
      ]
    },
    {
      "cell_type": "markdown",
      "metadata": {
        "id": "JASjPX9Q2hCt"
      },
      "source": [
        "## Категориальный признак"
      ]
    },
    {
      "cell_type": "markdown",
      "metadata": {
        "id": "zQE46MzH2lU-"
      },
      "source": [
        "Довольно частая ситуация, когда один из признаков принимает значения из некоего конечного множества.\n",
        "\n",
        "Примеры: \n",
        "* в датасете sp500 у каждой компании указывался сектор: Industrials, Health Care, Information Technology, Financials и т.д.\n"
      ]
    },
    {
      "cell_type": "markdown",
      "metadata": {
        "id": "O8ZtPsN243-H"
      },
      "source": [
        "Если $f_j (x)$ принимает значения из множества $C = \\lbrace c_1, c_2, ..., c_m \\rbrace$, то его можно заменить на m новых бинарных признаков, принимающих значения 1 для соответствующего значения и 0 для остальных. Такой подход называется **one-hot encoding**.\n",
        "\n",
        "Самый быстрый способ реализации - `get_dummies` из библиотеки `pandas`. \n",
        "\n",
        "Существует также реализация `sklearn.preprocessing.OneHotEncoder`\n"
      ]
    },
    {
      "cell_type": "code",
      "metadata": {
        "id": "ZOppB3aoaHJq"
      },
      "source": [
        "import pandas as pd"
      ],
      "execution_count": null,
      "outputs": []
    },
    {
      "cell_type": "code",
      "metadata": {
        "id": "AxrXciVs732n"
      },
      "source": [
        "sp500 = pd.read_csv(filepath_or_buffer = \"sp500.csv\",\n",
        "                    sep = ',',\n",
        "                    usecols=['Symbol', 'Sector', 'Price', 'Book Value'],\n",
        "                    index_col='Symbol')"
      ],
      "execution_count": null,
      "outputs": []
    },
    {
      "cell_type": "code",
      "metadata": {
        "id": "mYlE8da8c1X9",
        "colab": {
          "base_uri": "https://localhost:8080/",
          "height": 235
        },
        "outputId": "18c22744-bea6-4634-b5d7-2678e018879d"
      },
      "source": [
        "sp500.head()"
      ],
      "execution_count": null,
      "outputs": [
        {
          "output_type": "execute_result",
          "data": {
            "text/html": [
              "<div>\n",
              "<style scoped>\n",
              "    .dataframe tbody tr th:only-of-type {\n",
              "        vertical-align: middle;\n",
              "    }\n",
              "\n",
              "    .dataframe tbody tr th {\n",
              "        vertical-align: top;\n",
              "    }\n",
              "\n",
              "    .dataframe thead th {\n",
              "        text-align: right;\n",
              "    }\n",
              "</style>\n",
              "<table border=\"1\" class=\"dataframe\">\n",
              "  <thead>\n",
              "    <tr style=\"text-align: right;\">\n",
              "      <th></th>\n",
              "      <th>Sector</th>\n",
              "      <th>Price</th>\n",
              "      <th>Book Value</th>\n",
              "    </tr>\n",
              "    <tr>\n",
              "      <th>Symbol</th>\n",
              "      <th></th>\n",
              "      <th></th>\n",
              "      <th></th>\n",
              "    </tr>\n",
              "  </thead>\n",
              "  <tbody>\n",
              "    <tr>\n",
              "      <th>MMM</th>\n",
              "      <td>Industrials</td>\n",
              "      <td>141.14</td>\n",
              "      <td>26.668</td>\n",
              "    </tr>\n",
              "    <tr>\n",
              "      <th>ABT</th>\n",
              "      <td>Health Care</td>\n",
              "      <td>39.60</td>\n",
              "      <td>15.573</td>\n",
              "    </tr>\n",
              "    <tr>\n",
              "      <th>ABBV</th>\n",
              "      <td>Health Care</td>\n",
              "      <td>53.95</td>\n",
              "      <td>2.954</td>\n",
              "    </tr>\n",
              "    <tr>\n",
              "      <th>ACN</th>\n",
              "      <td>Information Technology</td>\n",
              "      <td>79.79</td>\n",
              "      <td>8.326</td>\n",
              "    </tr>\n",
              "    <tr>\n",
              "      <th>ACE</th>\n",
              "      <td>Financials</td>\n",
              "      <td>102.91</td>\n",
              "      <td>86.897</td>\n",
              "    </tr>\n",
              "  </tbody>\n",
              "</table>\n",
              "</div>"
            ],
            "text/plain": [
              "                        Sector   Price  Book Value\n",
              "Symbol                                            \n",
              "MMM                Industrials  141.14      26.668\n",
              "ABT                Health Care   39.60      15.573\n",
              "ABBV               Health Care   53.95       2.954\n",
              "ACN     Information Technology   79.79       8.326\n",
              "ACE                 Financials  102.91      86.897"
            ]
          },
          "metadata": {
            "tags": []
          },
          "execution_count": 4
        }
      ]
    },
    {
      "cell_type": "code",
      "metadata": {
        "id": "klh5EtS18Fxt",
        "colab": {
          "base_uri": "https://localhost:8080/",
          "height": 487
        },
        "outputId": "212c3e1c-cb99-4808-e935-059a22c97f3d"
      },
      "source": [
        "sectors = pd.get_dummies(sp500.Sector)\n",
        "sectors"
      ],
      "execution_count": null,
      "outputs": [
        {
          "output_type": "execute_result",
          "data": {
            "text/html": [
              "<div>\n",
              "<style scoped>\n",
              "    .dataframe tbody tr th:only-of-type {\n",
              "        vertical-align: middle;\n",
              "    }\n",
              "\n",
              "    .dataframe tbody tr th {\n",
              "        vertical-align: top;\n",
              "    }\n",
              "\n",
              "    .dataframe thead th {\n",
              "        text-align: right;\n",
              "    }\n",
              "</style>\n",
              "<table border=\"1\" class=\"dataframe\">\n",
              "  <thead>\n",
              "    <tr style=\"text-align: right;\">\n",
              "      <th></th>\n",
              "      <th>Consumer Discretionary</th>\n",
              "      <th>Consumer Discretionary</th>\n",
              "      <th>Consumer Staples</th>\n",
              "      <th>Consumer Staples</th>\n",
              "      <th>Energy</th>\n",
              "      <th>Financials</th>\n",
              "      <th>Health Care</th>\n",
              "      <th>Industrials</th>\n",
              "      <th>Industries</th>\n",
              "      <th>Information Technology</th>\n",
              "      <th>Materials</th>\n",
              "      <th>Telecommunications Services</th>\n",
              "      <th>Utilities</th>\n",
              "    </tr>\n",
              "    <tr>\n",
              "      <th>Symbol</th>\n",
              "      <th></th>\n",
              "      <th></th>\n",
              "      <th></th>\n",
              "      <th></th>\n",
              "      <th></th>\n",
              "      <th></th>\n",
              "      <th></th>\n",
              "      <th></th>\n",
              "      <th></th>\n",
              "      <th></th>\n",
              "      <th></th>\n",
              "      <th></th>\n",
              "      <th></th>\n",
              "    </tr>\n",
              "  </thead>\n",
              "  <tbody>\n",
              "    <tr>\n",
              "      <th>MMM</th>\n",
              "      <td>0</td>\n",
              "      <td>0</td>\n",
              "      <td>0</td>\n",
              "      <td>0</td>\n",
              "      <td>0</td>\n",
              "      <td>0</td>\n",
              "      <td>0</td>\n",
              "      <td>1</td>\n",
              "      <td>0</td>\n",
              "      <td>0</td>\n",
              "      <td>0</td>\n",
              "      <td>0</td>\n",
              "      <td>0</td>\n",
              "    </tr>\n",
              "    <tr>\n",
              "      <th>ABT</th>\n",
              "      <td>0</td>\n",
              "      <td>0</td>\n",
              "      <td>0</td>\n",
              "      <td>0</td>\n",
              "      <td>0</td>\n",
              "      <td>0</td>\n",
              "      <td>1</td>\n",
              "      <td>0</td>\n",
              "      <td>0</td>\n",
              "      <td>0</td>\n",
              "      <td>0</td>\n",
              "      <td>0</td>\n",
              "      <td>0</td>\n",
              "    </tr>\n",
              "    <tr>\n",
              "      <th>ABBV</th>\n",
              "      <td>0</td>\n",
              "      <td>0</td>\n",
              "      <td>0</td>\n",
              "      <td>0</td>\n",
              "      <td>0</td>\n",
              "      <td>0</td>\n",
              "      <td>1</td>\n",
              "      <td>0</td>\n",
              "      <td>0</td>\n",
              "      <td>0</td>\n",
              "      <td>0</td>\n",
              "      <td>0</td>\n",
              "      <td>0</td>\n",
              "    </tr>\n",
              "    <tr>\n",
              "      <th>ACN</th>\n",
              "      <td>0</td>\n",
              "      <td>0</td>\n",
              "      <td>0</td>\n",
              "      <td>0</td>\n",
              "      <td>0</td>\n",
              "      <td>0</td>\n",
              "      <td>0</td>\n",
              "      <td>0</td>\n",
              "      <td>0</td>\n",
              "      <td>1</td>\n",
              "      <td>0</td>\n",
              "      <td>0</td>\n",
              "      <td>0</td>\n",
              "    </tr>\n",
              "    <tr>\n",
              "      <th>ACE</th>\n",
              "      <td>0</td>\n",
              "      <td>0</td>\n",
              "      <td>0</td>\n",
              "      <td>0</td>\n",
              "      <td>0</td>\n",
              "      <td>1</td>\n",
              "      <td>0</td>\n",
              "      <td>0</td>\n",
              "      <td>0</td>\n",
              "      <td>0</td>\n",
              "      <td>0</td>\n",
              "      <td>0</td>\n",
              "      <td>0</td>\n",
              "    </tr>\n",
              "    <tr>\n",
              "      <th>...</th>\n",
              "      <td>...</td>\n",
              "      <td>...</td>\n",
              "      <td>...</td>\n",
              "      <td>...</td>\n",
              "      <td>...</td>\n",
              "      <td>...</td>\n",
              "      <td>...</td>\n",
              "      <td>...</td>\n",
              "      <td>...</td>\n",
              "      <td>...</td>\n",
              "      <td>...</td>\n",
              "      <td>...</td>\n",
              "      <td>...</td>\n",
              "    </tr>\n",
              "    <tr>\n",
              "      <th>YHOO</th>\n",
              "      <td>0</td>\n",
              "      <td>0</td>\n",
              "      <td>0</td>\n",
              "      <td>0</td>\n",
              "      <td>0</td>\n",
              "      <td>0</td>\n",
              "      <td>0</td>\n",
              "      <td>0</td>\n",
              "      <td>0</td>\n",
              "      <td>1</td>\n",
              "      <td>0</td>\n",
              "      <td>0</td>\n",
              "      <td>0</td>\n",
              "    </tr>\n",
              "    <tr>\n",
              "      <th>YUM</th>\n",
              "      <td>1</td>\n",
              "      <td>0</td>\n",
              "      <td>0</td>\n",
              "      <td>0</td>\n",
              "      <td>0</td>\n",
              "      <td>0</td>\n",
              "      <td>0</td>\n",
              "      <td>0</td>\n",
              "      <td>0</td>\n",
              "      <td>0</td>\n",
              "      <td>0</td>\n",
              "      <td>0</td>\n",
              "      <td>0</td>\n",
              "    </tr>\n",
              "    <tr>\n",
              "      <th>ZMH</th>\n",
              "      <td>0</td>\n",
              "      <td>0</td>\n",
              "      <td>0</td>\n",
              "      <td>0</td>\n",
              "      <td>0</td>\n",
              "      <td>0</td>\n",
              "      <td>1</td>\n",
              "      <td>0</td>\n",
              "      <td>0</td>\n",
              "      <td>0</td>\n",
              "      <td>0</td>\n",
              "      <td>0</td>\n",
              "      <td>0</td>\n",
              "    </tr>\n",
              "    <tr>\n",
              "      <th>ZION</th>\n",
              "      <td>0</td>\n",
              "      <td>0</td>\n",
              "      <td>0</td>\n",
              "      <td>0</td>\n",
              "      <td>0</td>\n",
              "      <td>1</td>\n",
              "      <td>0</td>\n",
              "      <td>0</td>\n",
              "      <td>0</td>\n",
              "      <td>0</td>\n",
              "      <td>0</td>\n",
              "      <td>0</td>\n",
              "      <td>0</td>\n",
              "    </tr>\n",
              "    <tr>\n",
              "      <th>ZTS</th>\n",
              "      <td>0</td>\n",
              "      <td>0</td>\n",
              "      <td>0</td>\n",
              "      <td>0</td>\n",
              "      <td>0</td>\n",
              "      <td>0</td>\n",
              "      <td>1</td>\n",
              "      <td>0</td>\n",
              "      <td>0</td>\n",
              "      <td>0</td>\n",
              "      <td>0</td>\n",
              "      <td>0</td>\n",
              "      <td>0</td>\n",
              "    </tr>\n",
              "  </tbody>\n",
              "</table>\n",
              "<p>500 rows × 13 columns</p>\n",
              "</div>"
            ],
            "text/plain": [
              "        Consumer Discretionary  ...  Utilities\n",
              "Symbol                          ...           \n",
              "MMM                          0  ...          0\n",
              "ABT                          0  ...          0\n",
              "ABBV                         0  ...          0\n",
              "ACN                          0  ...          0\n",
              "ACE                          0  ...          0\n",
              "...                        ...  ...        ...\n",
              "YHOO                         0  ...          0\n",
              "YUM                          1  ...          0\n",
              "ZMH                          0  ...          0\n",
              "ZION                         0  ...          0\n",
              "ZTS                          0  ...          0\n",
              "\n",
              "[500 rows x 13 columns]"
            ]
          },
          "metadata": {
            "tags": []
          },
          "execution_count": 5
        }
      ]
    },
    {
      "cell_type": "code",
      "metadata": {
        "id": "FvoJepuf8Mjh",
        "colab": {
          "base_uri": "https://localhost:8080/",
          "height": 323
        },
        "outputId": "7d2dc70f-c872-4787-fe01-c12f9e7eaf66"
      },
      "source": [
        "sp500 = pd.concat([sp500, sectors], axis=1)\n",
        "sp500.head()"
      ],
      "execution_count": null,
      "outputs": [
        {
          "output_type": "execute_result",
          "data": {
            "text/html": [
              "<div>\n",
              "<style scoped>\n",
              "    .dataframe tbody tr th:only-of-type {\n",
              "        vertical-align: middle;\n",
              "    }\n",
              "\n",
              "    .dataframe tbody tr th {\n",
              "        vertical-align: top;\n",
              "    }\n",
              "\n",
              "    .dataframe thead th {\n",
              "        text-align: right;\n",
              "    }\n",
              "</style>\n",
              "<table border=\"1\" class=\"dataframe\">\n",
              "  <thead>\n",
              "    <tr style=\"text-align: right;\">\n",
              "      <th></th>\n",
              "      <th>Sector</th>\n",
              "      <th>Price</th>\n",
              "      <th>Book Value</th>\n",
              "      <th>Consumer Discretionary</th>\n",
              "      <th>Consumer Discretionary</th>\n",
              "      <th>Consumer Staples</th>\n",
              "      <th>Consumer Staples</th>\n",
              "      <th>Energy</th>\n",
              "      <th>Financials</th>\n",
              "      <th>Health Care</th>\n",
              "      <th>Industrials</th>\n",
              "      <th>Industries</th>\n",
              "      <th>Information Technology</th>\n",
              "      <th>Materials</th>\n",
              "      <th>Telecommunications Services</th>\n",
              "      <th>Utilities</th>\n",
              "    </tr>\n",
              "    <tr>\n",
              "      <th>Symbol</th>\n",
              "      <th></th>\n",
              "      <th></th>\n",
              "      <th></th>\n",
              "      <th></th>\n",
              "      <th></th>\n",
              "      <th></th>\n",
              "      <th></th>\n",
              "      <th></th>\n",
              "      <th></th>\n",
              "      <th></th>\n",
              "      <th></th>\n",
              "      <th></th>\n",
              "      <th></th>\n",
              "      <th></th>\n",
              "      <th></th>\n",
              "      <th></th>\n",
              "    </tr>\n",
              "  </thead>\n",
              "  <tbody>\n",
              "    <tr>\n",
              "      <th>MMM</th>\n",
              "      <td>Industrials</td>\n",
              "      <td>141.14</td>\n",
              "      <td>26.668</td>\n",
              "      <td>0</td>\n",
              "      <td>0</td>\n",
              "      <td>0</td>\n",
              "      <td>0</td>\n",
              "      <td>0</td>\n",
              "      <td>0</td>\n",
              "      <td>0</td>\n",
              "      <td>1</td>\n",
              "      <td>0</td>\n",
              "      <td>0</td>\n",
              "      <td>0</td>\n",
              "      <td>0</td>\n",
              "      <td>0</td>\n",
              "    </tr>\n",
              "    <tr>\n",
              "      <th>ABT</th>\n",
              "      <td>Health Care</td>\n",
              "      <td>39.60</td>\n",
              "      <td>15.573</td>\n",
              "      <td>0</td>\n",
              "      <td>0</td>\n",
              "      <td>0</td>\n",
              "      <td>0</td>\n",
              "      <td>0</td>\n",
              "      <td>0</td>\n",
              "      <td>1</td>\n",
              "      <td>0</td>\n",
              "      <td>0</td>\n",
              "      <td>0</td>\n",
              "      <td>0</td>\n",
              "      <td>0</td>\n",
              "      <td>0</td>\n",
              "    </tr>\n",
              "    <tr>\n",
              "      <th>ABBV</th>\n",
              "      <td>Health Care</td>\n",
              "      <td>53.95</td>\n",
              "      <td>2.954</td>\n",
              "      <td>0</td>\n",
              "      <td>0</td>\n",
              "      <td>0</td>\n",
              "      <td>0</td>\n",
              "      <td>0</td>\n",
              "      <td>0</td>\n",
              "      <td>1</td>\n",
              "      <td>0</td>\n",
              "      <td>0</td>\n",
              "      <td>0</td>\n",
              "      <td>0</td>\n",
              "      <td>0</td>\n",
              "      <td>0</td>\n",
              "    </tr>\n",
              "    <tr>\n",
              "      <th>ACN</th>\n",
              "      <td>Information Technology</td>\n",
              "      <td>79.79</td>\n",
              "      <td>8.326</td>\n",
              "      <td>0</td>\n",
              "      <td>0</td>\n",
              "      <td>0</td>\n",
              "      <td>0</td>\n",
              "      <td>0</td>\n",
              "      <td>0</td>\n",
              "      <td>0</td>\n",
              "      <td>0</td>\n",
              "      <td>0</td>\n",
              "      <td>1</td>\n",
              "      <td>0</td>\n",
              "      <td>0</td>\n",
              "      <td>0</td>\n",
              "    </tr>\n",
              "    <tr>\n",
              "      <th>ACE</th>\n",
              "      <td>Financials</td>\n",
              "      <td>102.91</td>\n",
              "      <td>86.897</td>\n",
              "      <td>0</td>\n",
              "      <td>0</td>\n",
              "      <td>0</td>\n",
              "      <td>0</td>\n",
              "      <td>0</td>\n",
              "      <td>1</td>\n",
              "      <td>0</td>\n",
              "      <td>0</td>\n",
              "      <td>0</td>\n",
              "      <td>0</td>\n",
              "      <td>0</td>\n",
              "      <td>0</td>\n",
              "      <td>0</td>\n",
              "    </tr>\n",
              "  </tbody>\n",
              "</table>\n",
              "</div>"
            ],
            "text/plain": [
              "                        Sector   Price  ...  Telecommunications Services  Utilities\n",
              "Symbol                                  ...                                        \n",
              "MMM                Industrials  141.14  ...                            0          0\n",
              "ABT                Health Care   39.60  ...                            0          0\n",
              "ABBV               Health Care   53.95  ...                            0          0\n",
              "ACN     Information Technology   79.79  ...                            0          0\n",
              "ACE                 Financials  102.91  ...                            0          0\n",
              "\n",
              "[5 rows x 16 columns]"
            ]
          },
          "metadata": {
            "tags": []
          },
          "execution_count": 6
        }
      ]
    },
    {
      "cell_type": "code",
      "metadata": {
        "id": "wFslh0bJ9Inb",
        "colab": {
          "base_uri": "https://localhost:8080/",
          "height": 272
        },
        "outputId": "5436fdea-6390-4407-8d06-db4f1bf1a0a1"
      },
      "source": [
        "del sp500['Sector']\n",
        "sp500.head()"
      ],
      "execution_count": null,
      "outputs": [
        {
          "output_type": "execute_result",
          "data": {
            "text/html": [
              "<div>\n",
              "<style scoped>\n",
              "    .dataframe tbody tr th:only-of-type {\n",
              "        vertical-align: middle;\n",
              "    }\n",
              "\n",
              "    .dataframe tbody tr th {\n",
              "        vertical-align: top;\n",
              "    }\n",
              "\n",
              "    .dataframe thead th {\n",
              "        text-align: right;\n",
              "    }\n",
              "</style>\n",
              "<table border=\"1\" class=\"dataframe\">\n",
              "  <thead>\n",
              "    <tr style=\"text-align: right;\">\n",
              "      <th></th>\n",
              "      <th>Price</th>\n",
              "      <th>Book Value</th>\n",
              "      <th>Consumer Discretionary</th>\n",
              "      <th>Consumer Discretionary</th>\n",
              "      <th>Consumer Staples</th>\n",
              "      <th>Consumer Staples</th>\n",
              "      <th>Energy</th>\n",
              "      <th>Financials</th>\n",
              "      <th>Health Care</th>\n",
              "      <th>Industrials</th>\n",
              "      <th>Industries</th>\n",
              "      <th>Information Technology</th>\n",
              "      <th>Materials</th>\n",
              "      <th>Telecommunications Services</th>\n",
              "      <th>Utilities</th>\n",
              "    </tr>\n",
              "    <tr>\n",
              "      <th>Symbol</th>\n",
              "      <th></th>\n",
              "      <th></th>\n",
              "      <th></th>\n",
              "      <th></th>\n",
              "      <th></th>\n",
              "      <th></th>\n",
              "      <th></th>\n",
              "      <th></th>\n",
              "      <th></th>\n",
              "      <th></th>\n",
              "      <th></th>\n",
              "      <th></th>\n",
              "      <th></th>\n",
              "      <th></th>\n",
              "      <th></th>\n",
              "    </tr>\n",
              "  </thead>\n",
              "  <tbody>\n",
              "    <tr>\n",
              "      <th>MMM</th>\n",
              "      <td>141.14</td>\n",
              "      <td>26.668</td>\n",
              "      <td>0</td>\n",
              "      <td>0</td>\n",
              "      <td>0</td>\n",
              "      <td>0</td>\n",
              "      <td>0</td>\n",
              "      <td>0</td>\n",
              "      <td>0</td>\n",
              "      <td>1</td>\n",
              "      <td>0</td>\n",
              "      <td>0</td>\n",
              "      <td>0</td>\n",
              "      <td>0</td>\n",
              "      <td>0</td>\n",
              "    </tr>\n",
              "    <tr>\n",
              "      <th>ABT</th>\n",
              "      <td>39.60</td>\n",
              "      <td>15.573</td>\n",
              "      <td>0</td>\n",
              "      <td>0</td>\n",
              "      <td>0</td>\n",
              "      <td>0</td>\n",
              "      <td>0</td>\n",
              "      <td>0</td>\n",
              "      <td>1</td>\n",
              "      <td>0</td>\n",
              "      <td>0</td>\n",
              "      <td>0</td>\n",
              "      <td>0</td>\n",
              "      <td>0</td>\n",
              "      <td>0</td>\n",
              "    </tr>\n",
              "    <tr>\n",
              "      <th>ABBV</th>\n",
              "      <td>53.95</td>\n",
              "      <td>2.954</td>\n",
              "      <td>0</td>\n",
              "      <td>0</td>\n",
              "      <td>0</td>\n",
              "      <td>0</td>\n",
              "      <td>0</td>\n",
              "      <td>0</td>\n",
              "      <td>1</td>\n",
              "      <td>0</td>\n",
              "      <td>0</td>\n",
              "      <td>0</td>\n",
              "      <td>0</td>\n",
              "      <td>0</td>\n",
              "      <td>0</td>\n",
              "    </tr>\n",
              "    <tr>\n",
              "      <th>ACN</th>\n",
              "      <td>79.79</td>\n",
              "      <td>8.326</td>\n",
              "      <td>0</td>\n",
              "      <td>0</td>\n",
              "      <td>0</td>\n",
              "      <td>0</td>\n",
              "      <td>0</td>\n",
              "      <td>0</td>\n",
              "      <td>0</td>\n",
              "      <td>0</td>\n",
              "      <td>0</td>\n",
              "      <td>1</td>\n",
              "      <td>0</td>\n",
              "      <td>0</td>\n",
              "      <td>0</td>\n",
              "    </tr>\n",
              "    <tr>\n",
              "      <th>ACE</th>\n",
              "      <td>102.91</td>\n",
              "      <td>86.897</td>\n",
              "      <td>0</td>\n",
              "      <td>0</td>\n",
              "      <td>0</td>\n",
              "      <td>0</td>\n",
              "      <td>0</td>\n",
              "      <td>1</td>\n",
              "      <td>0</td>\n",
              "      <td>0</td>\n",
              "      <td>0</td>\n",
              "      <td>0</td>\n",
              "      <td>0</td>\n",
              "      <td>0</td>\n",
              "      <td>0</td>\n",
              "    </tr>\n",
              "  </tbody>\n",
              "</table>\n",
              "</div>"
            ],
            "text/plain": [
              "         Price  Book Value  ...  Telecommunications Services  Utilities\n",
              "Symbol                      ...                                        \n",
              "MMM     141.14      26.668  ...                            0          0\n",
              "ABT      39.60      15.573  ...                            0          0\n",
              "ABBV     53.95       2.954  ...                            0          0\n",
              "ACN      79.79       8.326  ...                            0          0\n",
              "ACE     102.91      86.897  ...                            0          0\n",
              "\n",
              "[5 rows x 15 columns]"
            ]
          },
          "metadata": {
            "tags": []
          },
          "execution_count": 7
        }
      ]
    },
    {
      "cell_type": "markdown",
      "metadata": {
        "id": "vLCgjxKa8E0D"
      },
      "source": [
        "## Нелинейная зависимость переменной от признака"
      ]
    },
    {
      "cell_type": "markdown",
      "metadata": {
        "id": "qS-VWdfSK-nK"
      },
      "source": [
        "Довольно зависимость целевой переменной от значения признака является нелинейной. Для того, чтобы такой признак мог быть корректно использован в линейной модели, нам необходимо **бинаризовать признак**.\n",
        "\n",
        "Бинаризация делается в два шага. На первом шаге определяем минимальное и максимальное значение признака. И разбиваем весь этот интервал на $m$ интервалов (чаще всего одинакового размера, но можно и похитрее). На втором шаге смотрим в какой интервал попадает значение и создаём $m$ новых бинарных признаков."
      ]
    },
    {
      "cell_type": "code",
      "metadata": {
        "id": "fC1mREyHaAaX"
      },
      "source": [
        "## дополнительное задание: \n",
        "## в любом из рассмотренных ранее в курсе датасетов попробуйте реализовать бинаризацию признаков. "
      ],
      "execution_count": null,
      "outputs": []
    },
    {
      "cell_type": "markdown",
      "metadata": {
        "id": "701goTJzGfAX"
      },
      "source": [
        "Хорошая подборка разных способов предобработки признаков: https://nagornyy.me/courses/data-science/feature_engineering/"
      ]
    },
    {
      "cell_type": "markdown",
      "metadata": {
        "id": "Ud4wCthIP6Qr"
      },
      "source": [
        "# Настройка параметров модели"
      ]
    },
    {
      "cell_type": "markdown",
      "metadata": {
        "id": "qcizKK-6UqL8"
      },
      "source": [
        "На прошлом занятии упоминали способ вычислить значения параметров модели методом наименьших квадратов. Параметры эти могут быть найдены аналитически. Это решение наглядное, точное и короткое.\n",
        "$$ w = (X^TX)^{-1}X^TY $$\n",
        "\n",
        "Вот это  $(X^TX)^{-1}X^T$ называют псевдообратная матрица. Проблема метода заключается в том, что вычисление псевдообратной матрицы очень затратно, также аналитического решения может не оказаться вовсе. В связи с этим при настройке параметров модели сначала находят функционал качества (функция потерь), а затем ищут минимум функционал качества численными методами. "
      ]
    },
    {
      "cell_type": "markdown",
      "metadata": {
        "id": "ihCiEPqiUvr2"
      },
      "source": [
        "## Эмпирический риск"
      ]
    },
    {
      "cell_type": "markdown",
      "metadata": {
        "id": "HJyN9MkMDTod"
      },
      "source": [
        "\n",
        "\n",
        "Напомню про **минимизацию эмпирического риска**. Для задачи обучения по прецедентам вводится функция потерь: $L(\\hat{y}, y)$, характеризующая величину отклонения ответа (прогноза, predict) модели $\\hat{y} = a(x)$ от правильного ответа $y$ на одном произвольном объекте $x \\in X$, где $a$ - это алгоритм, а $X$ - это множество объектов, имеющих признаковое описание, для которых известно значение целевой переменной. Пусть $\\ell $ - это размерколичество таких объектов.\n",
        "\n",
        "Эмпирический риск $Q$ - это функционал (то есть функция от функции) качества, характеризующий среднюю ошибку алгоритма на выборке:\n",
        "$$ Q (a,X) = \\frac{1}{\\ell} \\sum\\limits_{i=1}^\\ell L(\\hat{y}, y) $$\n",
        "\n",
        "Метод минимизация эмпирического риска заключается в том, чтобы в выбранном семействе алгоритмов найти такой алгоритм, который даст минимальное значение функционалу эмпирического риска. \n",
        "\n",
        "Таким образом, если мы выбираем в качестве семейства моделей линейный модели, а в качестве задачи - задачу регрессии, то это позволит нам подобрать наиболее подходящую функцию потерь $L(\\hat{y}, y)$.\n",
        "\n",
        "$$L(\\hat{y}, y) = (\\hat{y} - y)^2 $$\n",
        "\n",
        "Обозначим $\\hat{y}^{(i)}$ и $y^{(i)}$ соответственно прогноз и правильный ответ на  i-ом объекте $x^{(i)}$. Заметим, что $ \\hat{y}^{(i)} = \\sum\\limits_{j=0}^k w_j x_j^{(i)} $. Тогда,\n",
        "\n",
        "$$L(\\hat{y}, y) = (\\sum\\limits_{j=0}^k w_j x_j^{(i)}  - y^{(i)})^2 $$\n",
        "\n",
        "$$ Q (a,X) = \\frac{1}{\\ell} \\sum\\limits_{i=1}^\\ell (\\sum\\limits_{j=0}^k w_j x_j^{(i)}  - y^{(i)})^2 $$\n",
        "\n",
        "Итак, эта функция зависит от $\\hat{y}$ и $y$, но на $y$ мы повлиять никак не можем. Когда мы будем искать минимум от эмпирического риска, мы можем повлиять только на $\\hat{y}$.\n",
        "\n",
        "При этом на $x \\in X $ мы хоть и можем как-то повлиять, но мы сейчас рассматриваем тот момент, когда признаковое описание объектов уже сформировано. И тогда единственно, от чего будет реально зависеть функция потерь в момент нахождения минимума эмпирического риска, это $w$, то есть веса в модели.\n",
        "\n",
        "$$ Q (w) = \\frac{1}{\\ell} \\sum\\limits_{i=1}^\\ell (\\sum\\limits_{j=0}^k w_j x_j^{(i)}  - y^{(i)})^2 $$\n"
      ]
    },
    {
      "cell_type": "markdown",
      "metadata": {
        "id": "7kRnFtuQU3Gk"
      },
      "source": [
        "## Градиентный спуск"
      ]
    },
    {
      "cell_type": "markdown",
      "metadata": {
        "id": "HahU2qNFIhJ7"
      },
      "source": [
        "Давайте попробуем реализовать алгоритм настройки параметров модели через производные.\n",
        "\n",
        "Рассмотрим функцию $n$ переменных:\n",
        "$Q(w) = Q(w_0, w_1, \\dots, w_k)$.\n",
        "\n",
        "Производная функции нескольких переменных по одной переменной называется **частной производной**.  **Градиент функции многих переменных** $\\triangledown Q(w)$ - это вектор частных производных функции.\n",
        "\n",
        "Производные функции от многих переменных можно определять, считая все аргументы, кроме того, по которому берем производную, константами. \n",
        "\n",
        "Известно, что градиент является направление наискорейшего роста функции, а антиградиент направлением наискорейшего убывания.\n",
        "\n",
        "$$ \\triangledown Q(w) = (\\frac{\\delta Q(w_0)}{\\delta w_0}, \\frac{\\delta Q(w_1)}{\\delta w_1}, \\dots, \\frac{\\delta Q(w_k)}{\\delta w_k} )$$\n",
        "\n",
        "Идея алгоритма такая:\n",
        "1. Фиксируем шаг обучения $\\eta$ (например, $\\eta = 0.001$). Шаг обучения - это гиперпараметр, мы его не обучаем, а подбираем.\n",
        "2. Вычисляем градиент $\\frac{\\delta Q(w)}{\\delta w}$\n",
        "3. Для каждого измерения j изменяем $w_j$  по следующему правилу: $ w_j = w_j - \\eta \\frac{\\delta Q(w_j)}{\\delta w_j}$ \n",
        "4. Повторяем 3, пока не пройдет определенное количество шагов и/или мы не станем достаточно близко к точке минимума и/или значение $w_j$ перестанет изменяться.\n",
        "\n",
        "Этот алгоритм называется **алгоритм градиентного спуска**. \"Градиентного\" -- потому что мы \"спускаемся\" к точке минимума, вычисляя производную (градиент) функции на каждом шаге.\n",
        "\n",
        "Рассмотрим для случая с одним признаком.\n",
        "\n",
        "$$ \\triangledown Q(w) = (\\frac{\\delta Q(w_0)}{\\delta w_0}, \\frac{\\delta Q(w_1)}{\\delta w_1})$$\n",
        "\n",
        "\n",
        "$$ \\frac{ \\delta Q(w_0)}{\\delta w_0} = 2\\sum\\limits_{i=0}^\\ell (w_0 + w_1x_1^{(i)}  - y^{(i)})x_0 = 2\\sum\\limits_{i=0}^\\ell (w_0 + w_1x_1^{(i)}  - y^{(i)}) $$\n",
        "\n",
        "$$ \\frac{ \\delta Q(w_1)}{\\delta w_1} = 2\\sum\\limits_{i=0}^\\ell (w_0 + w_1x_1^{(i)}  - y^{(i)})x_1 $$\n",
        "\n",
        "Для поиска минимума константы перед суммой вообще никакой роли не играют, их можно не учитывать. \n",
        "\n",
        "Шаг (коэффициент, темп) обучения $\\eta$  влияет на величину изменения веса на каждой эпохе.  Чем меньше шаг, тем выше точность, но тем больше итераций требуется для спуска в минимум. Но если сделать шаг слишком большим, то можно \"перескочить\" минимум, алгоритм может не сойтись. "
      ]
    },
    {
      "cell_type": "markdown",
      "metadata": {
        "id": "vU3x1jGgvDzb"
      },
      "source": [
        "## Модификации градиентного спуска"
      ]
    },
    {
      "cell_type": "markdown",
      "metadata": {
        "id": "7zlENIuy2NUO"
      },
      "source": [
        "Описанный выше стандартный подход иначе называется «пакетный» («batch»). При этом подходе для корректировки параметров модели на каждой итерации используется градиент, который считается как сумма градиентов, вызванных **каждым** элементом обучения. То есть стандартному градиентному спуску требуется проход по всем обучающим данным для того, чтобы изменить параметры на одной итерации. На больших наборах данных, это может быть не слишком эффективно. Поэтому существуют две модфикации:\n",
        "\n",
        "* mini-batch градиентный спуск (на каждой итерации используем не все, а только небольшую часть объектов)\n",
        "* cтохастический градиентныей спуск (на каждой итерации используем ровно один случайный объект).\n",
        "\n"
      ]
    },
    {
      "cell_type": "markdown",
      "metadata": {
        "id": "CdL3XarR34kD"
      },
      "source": [
        "Более подробно тут: https://www.machinelearningmastery.ru/gradient-descent-algorithm-and-its-variants-10f652806a3/"
      ]
    },
    {
      "cell_type": "markdown",
      "metadata": {
        "id": "--JiKdcAchal"
      },
      "source": [
        "# Оценка качества моделей"
      ]
    },
    {
      "cell_type": "markdown",
      "metadata": {
        "id": "gpAUGyQADBEo"
      },
      "source": [
        "## Метрики качества"
      ]
    },
    {
      "cell_type": "markdown",
      "metadata": {
        "id": "qPaP6k7jcobM"
      },
      "source": [
        " На прошлом занятии упоминали две метрики:\n",
        " * *mean_absolute_error* - средняя абсолютная ошибка $|y_i - \\hat{y}_i|$\n",
        " * *mean_squared_error* - средняя квадратичная ошибка $(y_i - \\hat{y}_i)^2$\n",
        "\n",
        "Запишем формулу для средней квадратичной ошибки:\n",
        "\n",
        "$$MSE =  \\frac{1}{\\ell} \\sum\\limits_{i=1}^\\ell (\\hat y^{(i)}  - y^{(i)})^2 $$\n",
        "\n",
        "Для реальных задач чаще используют RMSE (квадратный корень из MSE), так как в MSE единицы измерения возводятся в квадрат. Например, когда мы предсказываем цену на квартиры в долларах, хотелось бы оценить в долларах (а не в квадратных долларах), на сколько мы ошибаемся.\n",
        "\n",
        "Также используют метрику $R^2$ - коэффициент детерминации (он показывает отношение MSE к дисперсии).\n",
        "\n",
        "Ещё один распространнённый вид ошибки средняя абсолютная процентная ошибка MAPE (и его модификация SMAPE).  \n",
        "\n",
        "$$MAPE =  \\frac{1}{\\ell} \\sum\\limits_{i=1}^\\ell (\\hat y^{(i)}  - y^{(i)})/ y^{(i)}$$\n",
        "\n",
        "$$SMAPE =  \\frac{1}{\\ell} \\sum\\limits_{i=1}^\\ell \\frac{(\\hat y^{(i)}  - y^{(i)})} {(|\\hat y^{(i)}| + |y^{(i)}|)/2}$$\n"
      ]
    },
    {
      "cell_type": "markdown",
      "metadata": {
        "id": "0p-C0eJMdxVl"
      },
      "source": [
        "## Кросс-валидация"
      ]
    },
    {
      "cell_type": "markdown",
      "metadata": {
        "id": "ozOfNtGnDHhb"
      },
      "source": [
        "Разделение набора данных на обучающую (train) и контрольную (test) - это стандартный подход для проверки **обобщающей способности алгоритма**. Этот подход называется подход с *отложенной выборкой*. При таком подходе мы обучаемся на одной выборке, а оцениваем качество на другой. Такой подход может привести к проблеме: наш результат будет зависеть от конкретного разбиения данных на обучающую и контролирующие выборки. \n",
        "\n",
        "Решается эта проблема с помощью **кросс-валидации**. Самый распространённый подход заключается в следующем: размеченные данные разбиваем на $k$ блоков (прошу прощения за путаницу, ранее у нас $k$ было количеством признаков, теперь мы эту же букву используем для другого, просто такой тип кросс-валидации по английски называется k-fold). Эти блоки имеют примерно одинаковый размер (наиболее распространённое количество блоков от 5 до 10). Обучаются k алгоритмов, при этом они обучаются на всех блоках, кроме одного. После каждая алгоритм оценивается на том блоке, который не участвовал в обучении. Оценка усредняется.\n",
        "\n"
      ]
    },
    {
      "cell_type": "markdown",
      "metadata": {
        "id": "pr9QG_B0cylA"
      },
      "source": [
        "# Переобучение"
      ]
    },
    {
      "cell_type": "markdown",
      "metadata": {
        "id": "hoE3YW5yc3kZ"
      },
      "source": [
        "Минимизация эмпирического риска - это универсальный  универсальный подход, позволяющий сводить задачу обучения к задачам численной оптимизации. Поэтому его используют повсеместно.\n",
        "\n",
        "Основной недостаток этого подхода **эффект переобучения (overfitting)**, который возникает практически всегда при использовании метода минимизации эмпирического риска.\n",
        "\n",
        "Основные способы борьбы с переобучением: ограничение сложности модели, в том числе отбор признаков, и наложение дополнительных ограничений на параметры модели, в том числе **регуляризация**."
      ]
    },
    {
      "cell_type": "markdown",
      "metadata": {
        "id": "_AytQgGJ5QpP"
      },
      "source": [
        "Регуляризация - это подход для борьбы с переобучением, который заключается в изменении функционала качества путём добавления нового слагаемого, позволяющего учитывать величину весов. Рассмотрим несколько наиболее распространённых способов регуляризации.\n",
        "\n",
        "Напомню функционал без штрафов за веса:\n",
        "$$ Q (w) = \\frac{1}{\\ell} \\sum\\limits_{i=1}^\\ell (\\sum\\limits_{j=0}^k w_j x_j^{(i)}  - y^{(i)})^2 $$\n",
        "\n"
      ]
    },
    {
      "cell_type": "markdown",
      "metadata": {
        "id": "Jp9wXtgW6zZN"
      },
      "source": [
        "Добавим к этому ещё одно слагаемое $R(w)$\n",
        "\n",
        "$$ Q (w) = \\frac{1}{\\ell} \\sum\\limits_{i=1}^\\ell (\\sum\\limits_{j=0}^k w_j x_j^{(i)}  - y^{(i)})^2 + \\alpha R(w)$$"
      ]
    },
    {
      "cell_type": "markdown",
      "metadata": {
        "id": "2dL_hFyt7FQM"
      },
      "source": [
        "$\\alpha \\geq  0$ - это гиперпараметр, определяющий степень влияния нового слагаемого.\n",
        "Фактически же разные способы (виды) регуляризации задаются только различными видами $R(w)$\n",
        "\n",
        "Наиболее распространены:\n",
        "\n",
        "$$R(w) = \\sum\\limits_{j=0}^k |w_j|  $$ - лассо, L1 - регуляризация\n",
        "\n",
        "$$R(w) = \\sum\\limits_{j=0}^k w_j^2  $$ - гребневая (ridge), L2 - регуляризация"
      ]
    },
    {
      "cell_type": "markdown",
      "metadata": {
        "id": "aju89dwW9FdJ"
      },
      "source": [
        "Также существует способ ElasticNet, объединяющий в себе две перечисленные выше регуляризации\n",
        "https://scikit-learn.org/stable/modules/generated/sklearn.linear_model.ElasticNet.html#sklearn.linear_model.ElasticNet \n",
        "\n",
        "Фактически добаляются два новых слагаемых, а не одно."
      ]
    }
  ]
}